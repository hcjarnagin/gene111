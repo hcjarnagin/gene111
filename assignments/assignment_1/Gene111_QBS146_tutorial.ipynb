{
 "cells": [
  {
   "cell_type": "markdown",
   "metadata": {
    "slideshow": {
     "slide_type": "slide"
    }
   },
   "source": [
    "# Introduction to Bioinformatics - Python\n",
    "By Jeffrey Thompson  \n",
    "Adopted by Ronnie Zipkin and Joshua Levy, edited slightly by Aaron McKenna"
   ]
  },
  {
   "cell_type": "markdown",
   "metadata": {
    "slideshow": {
     "slide_type": "slide"
    }
   },
   "source": [
    "# Python\n",
    "* general purpose programming language with an emphasis on readable code\n",
    "* many libraries available for specialized needs\n",
    "* use Python 3.X\n",
    "\n",
    "<img width=400 src=\"https://i.ytimg.com/vi/V7PLxL8jIl8/hqdefault.jpg\" />\n"
   ]
  },
  {
   "cell_type": "markdown",
   "metadata": {
    "slideshow": {
     "slide_type": "slide"
    }
   },
   "source": [
    "# Hello world! (a rite of passage)"
   ]
  },
  {
   "cell_type": "code",
   "execution_count": 1,
   "metadata": {
    "slideshow": {
     "slide_type": "-"
    }
   },
   "outputs": [
    {
     "name": "stdout",
     "output_type": "stream",
     "text": [
      "Hello, world!\n"
     ]
    }
   ],
   "source": [
    "print(\"Hello, world!\")"
   ]
  },
  {
   "cell_type": "code",
   "execution_count": 2,
   "metadata": {
    "slideshow": {
     "slide_type": "slide"
    }
   },
   "outputs": [
    {
     "name": "stdout",
     "output_type": "stream",
     "text": [
      "Hello, world!\n"
     ]
    }
   ],
   "source": [
    "print(\"Hello, world!\")"
   ]
  },
  {
   "cell_type": "markdown",
   "metadata": {
    "slideshow": {
     "slide_type": "slide"
    }
   },
   "source": [
    "# Variables\n",
    "Variables are names for values! Keeping this in mind will be helpful."
   ]
  },
  {
   "cell_type": "code",
   "execution_count": 3,
   "metadata": {
    "slideshow": {
     "slide_type": "-"
    }
   },
   "outputs": [
    {
     "name": "stdout",
     "output_type": "stream",
     "text": [
      "3301\n"
     ]
    }
   ],
   "source": [
    "x = 22\n",
    "y = x\n",
    "y = 3301\n",
    "\n",
    "print(y)"
   ]
  },
  {
   "cell_type": "markdown",
   "metadata": {
    "slideshow": {
     "slide_type": "slide"
    }
   },
   "source": [
    "# What if we print x?\n"
   ]
  },
  {
   "cell_type": "code",
   "execution_count": 4,
   "metadata": {
    "slideshow": {
     "slide_type": "slide"
    }
   },
   "outputs": [
    {
     "name": "stdout",
     "output_type": "stream",
     "text": [
      "22\n"
     ]
    }
   ],
   "source": [
    "print(x)"
   ]
  },
  {
   "cell_type": "markdown",
   "metadata": {
    "slideshow": {
     "slide_type": "slide"
    }
   },
   "source": [
    "# Putting it into English"
   ]
  },
  {
   "cell_type": "code",
   "execution_count": 5,
   "metadata": {
    "slideshow": {
     "slide_type": "-"
    }
   },
   "outputs": [
    {
     "name": "stdout",
     "output_type": "stream",
     "text": [
      "22\n",
      "3301\n"
     ]
    }
   ],
   "source": [
    "# Comments are useful for explaining what you meant in your code,\n",
    "# because it will be hard to remember a few months from now.\n",
    "# Normally, we would never write such trivial comments as the following.\n",
    "\n",
    "# Put the value 22 in memory and name it x.\n",
    "x = 22\n",
    "\n",
    "# Copy the value named x into another spot in memory and name it y.\n",
    "y = x\n",
    "\n",
    "# Put the value 3301 in memory and name it y (erase the value already named y).\n",
    "y = 3301\n",
    "\n",
    "# Show the values in the variables.\n",
    "print(x)\n",
    "print(y)"
   ]
  },
  {
   "cell_type": "markdown",
   "metadata": {
    "slideshow": {
     "slide_type": "slide"
    }
   },
   "source": [
    "# Operators\n",
    "\n",
    "# Arithmetical\n",
    "* +\n",
    "* -\n",
    "* /\n",
    "* //\n",
    "* %\n",
    "* \\*\n",
    "* \\**"
   ]
  },
  {
   "cell_type": "markdown",
   "metadata": {
    "slideshow": {
     "slide_type": "slide"
    }
   },
   "source": [
    "# Relational\n",
    "* <\n",
    "* >\n",
    "* <=\n",
    "* \\>=\n",
    "* ==\n",
    "* !=\n",
    "\n",
    "# Logical\n",
    "* not\n",
    "* and\n",
    "* or\n",
    "* is"
   ]
  },
  {
   "cell_type": "markdown",
   "metadata": {
    "slideshow": {
     "slide_type": "slide"
    }
   },
   "source": [
    "# Arithmetic operators"
   ]
  },
  {
   "cell_type": "code",
   "execution_count": 6,
   "metadata": {
    "slideshow": {
     "slide_type": "-"
    }
   },
   "outputs": [
    {
     "data": {
      "text/plain": [
       "6"
      ]
     },
     "execution_count": 6,
     "metadata": {},
     "output_type": "execute_result"
    }
   ],
   "source": [
    "2 * 3"
   ]
  },
  {
   "cell_type": "code",
   "execution_count": 7,
   "metadata": {
    "slideshow": {
     "slide_type": "-"
    }
   },
   "outputs": [
    {
     "data": {
      "text/plain": [
       "9"
      ]
     },
     "execution_count": 7,
     "metadata": {},
     "output_type": "execute_result"
    }
   ],
   "source": [
    "3 ** 2"
   ]
  },
  {
   "cell_type": "code",
   "execution_count": 8,
   "metadata": {
    "slideshow": {
     "slide_type": "-"
    }
   },
   "outputs": [
    {
     "data": {
      "text/plain": [
       "2.3333333333333335"
      ]
     },
     "execution_count": 8,
     "metadata": {},
     "output_type": "execute_result"
    }
   ],
   "source": [
    "7 / 3.0"
   ]
  },
  {
   "cell_type": "code",
   "execution_count": 9,
   "metadata": {
    "slideshow": {
     "slide_type": "slide"
    }
   },
   "outputs": [
    {
     "data": {
      "text/plain": [
       "1"
      ]
     },
     "execution_count": 9,
     "metadata": {},
     "output_type": "execute_result"
    }
   ],
   "source": [
    "7 % 3"
   ]
  },
  {
   "cell_type": "code",
   "execution_count": 10,
   "metadata": {
    "slideshow": {
     "slide_type": "-"
    }
   },
   "outputs": [
    {
     "data": {
      "text/plain": [
       "2.0"
      ]
     },
     "execution_count": 10,
     "metadata": {},
     "output_type": "execute_result"
    }
   ],
   "source": [
    "7 // 3.0"
   ]
  },
  {
   "cell_type": "code",
   "execution_count": 11,
   "metadata": {
    "slideshow": {
     "slide_type": "slide"
    }
   },
   "outputs": [
    {
     "data": {
      "text/plain": [
       "31"
      ]
     },
     "execution_count": 11,
     "metadata": {},
     "output_type": "execute_result"
    }
   ],
   "source": [
    "4 + 3 * 9"
   ]
  },
  {
   "cell_type": "code",
   "execution_count": 12,
   "metadata": {
    "slideshow": {
     "slide_type": "-"
    }
   },
   "outputs": [
    {
     "data": {
      "text/plain": [
       "63"
      ]
     },
     "execution_count": 12,
     "metadata": {},
     "output_type": "execute_result"
    }
   ],
   "source": [
    "(4 + 3) * 9"
   ]
  },
  {
   "cell_type": "code",
   "execution_count": 13,
   "metadata": {
    "scrolled": true,
    "slideshow": {
     "slide_type": "-"
    }
   },
   "outputs": [
    {
     "ename": "TypeError",
     "evalue": "'int' object is not callable",
     "output_type": "error",
     "traceback": [
      "\u001b[0;31m---------------------------------------------------------------------------\u001b[0m",
      "\u001b[0;31mTypeError\u001b[0m                                 Traceback (most recent call last)",
      "\u001b[0;32m<ipython-input-13-d1b569a7a2c1>\u001b[0m in \u001b[0;36m<module>\u001b[0;34m\u001b[0m\n\u001b[0;32m----> 1\u001b[0;31m \u001b[0;36m9\u001b[0m\u001b[0;34m(\u001b[0m\u001b[0;36m4\u001b[0m \u001b[0;34m+\u001b[0m \u001b[0;36m3\u001b[0m\u001b[0;34m)\u001b[0m\u001b[0;34m\u001b[0m\u001b[0;34m\u001b[0m\u001b[0m\n\u001b[0m",
      "\u001b[0;31mTypeError\u001b[0m: 'int' object is not callable"
     ]
    }
   ],
   "source": [
    "9(4 + 3)"
   ]
  },
  {
   "cell_type": "code",
   "execution_count": 14,
   "metadata": {
    "slideshow": {
     "slide_type": "-"
    }
   },
   "outputs": [
    {
     "data": {
      "text/plain": [
       "63"
      ]
     },
     "execution_count": 14,
     "metadata": {},
     "output_type": "execute_result"
    }
   ],
   "source": [
    "9 * (4 + 3)"
   ]
  },
  {
   "cell_type": "markdown",
   "metadata": {
    "slideshow": {
     "slide_type": "slide"
    }
   },
   "source": [
    "# Relational operators"
   ]
  },
  {
   "cell_type": "code",
   "execution_count": 15,
   "metadata": {
    "scrolled": true,
    "slideshow": {
     "slide_type": "-"
    }
   },
   "outputs": [
    {
     "data": {
      "text/plain": [
       "True"
      ]
     },
     "execution_count": 15,
     "metadata": {},
     "output_type": "execute_result"
    }
   ],
   "source": [
    "nh_pop = 1327000\n",
    "hanover_pop = 11260\n",
    "\n",
    "hanover_pop < nh_pop"
   ]
  },
  {
   "cell_type": "code",
   "execution_count": 16,
   "metadata": {
    "slideshow": {
     "slide_type": "-"
    }
   },
   "outputs": [
    {
     "data": {
      "text/plain": [
       "True"
      ]
     },
     "execution_count": 16,
     "metadata": {},
     "output_type": "execute_result"
    }
   ],
   "source": [
    "hanover_pop <= nh_pop"
   ]
  },
  {
   "cell_type": "code",
   "execution_count": 16,
   "metadata": {
    "slideshow": {
     "slide_type": "-"
    }
   },
   "outputs": [
    {
     "data": {
      "text/plain": [
       "False"
      ]
     },
     "execution_count": 16,
     "metadata": {},
     "output_type": "execute_result"
    }
   ],
   "source": [
    "hanover_pop > nh_pop"
   ]
  },
  {
   "cell_type": "code",
   "execution_count": 17,
   "metadata": {
    "slideshow": {
     "slide_type": "subslide"
    }
   },
   "outputs": [
    {
     "data": {
      "text/plain": [
       "False"
      ]
     },
     "execution_count": 17,
     "metadata": {},
     "output_type": "execute_result"
    }
   ],
   "source": [
    "4 == 3"
   ]
  },
  {
   "cell_type": "code",
   "execution_count": 18,
   "metadata": {
    "slideshow": {
     "slide_type": "-"
    }
   },
   "outputs": [
    {
     "data": {
      "text/plain": [
       "True"
      ]
     },
     "execution_count": 18,
     "metadata": {},
     "output_type": "execute_result"
    }
   ],
   "source": [
    "4 != 3"
   ]
  },
  {
   "cell_type": "markdown",
   "metadata": {
    "slideshow": {
     "slide_type": "slide"
    }
   },
   "source": [
    "# Integer division"
   ]
  },
  {
   "cell_type": "code",
   "execution_count": 19,
   "metadata": {
    "slideshow": {
     "slide_type": "-"
    }
   },
   "outputs": [
    {
     "name": "stdout",
     "output_type": "stream",
     "text": [
      "0.008485305199698569\n"
     ]
    }
   ],
   "source": [
    "nh_pop = 1327000\n",
    "hanover_pop = 11260\n",
    "\n",
    "# in python 2, the answer here would have been 0, because an int / int is an int; no longer the case here :) \n",
    "\n",
    "# Show the fraction of NH's population that reside in Hanover.\n",
    "print(hanover_pop/nh_pop)"
   ]
  },
  {
   "cell_type": "code",
   "execution_count": 20,
   "metadata": {
    "slideshow": {
     "slide_type": "-"
    }
   },
   "outputs": [
    {
     "name": "stdout",
     "output_type": "stream",
     "text": [
      "0.008485305199698569\n"
     ]
    }
   ],
   "source": [
    "nh_pop = 1327000.0\n",
    "\n",
    "print(hanover_pop/nh_pop)"
   ]
  },
  {
   "cell_type": "markdown",
   "metadata": {
    "slideshow": {
     "slide_type": "slide"
    }
   },
   "source": [
    "# A taste of types"
   ]
  },
  {
   "cell_type": "code",
   "execution_count": 21,
   "metadata": {
    "scrolled": true,
    "slideshow": {
     "slide_type": "-"
    }
   },
   "outputs": [
    {
     "name": "stdout",
     "output_type": "stream",
     "text": [
      "<class 'int'>\n",
      "<class 'float'>\n",
      "<class 'bool'>\n",
      "<class 'str'>\n"
     ]
    }
   ],
   "source": [
    "hanover_pop = 11260\n",
    "nh_pop = 1327000.0\n",
    "\n",
    "print(type(hanover_pop))\n",
    "print(type(nh_pop))\n",
    "print(type(hanover_pop < nh_pop))\n",
    "print(type(\"There was only one catch and that was Catch-22.\"))"
   ]
  },
  {
   "cell_type": "markdown",
   "metadata": {
    "slideshow": {
     "slide_type": "slide"
    }
   },
   "source": [
    "# Strong typing"
   ]
  },
  {
   "cell_type": "code",
   "execution_count": 22,
   "metadata": {
    "slideshow": {
     "slide_type": "slide"
    }
   },
   "outputs": [
    {
     "name": "stdout",
     "output_type": "stream",
     "text": [
      "3323\n"
     ]
    }
   ],
   "source": [
    "print(22 + 3301)"
   ]
  },
  {
   "cell_type": "code",
   "execution_count": 1,
   "metadata": {
    "slideshow": {
     "slide_type": "-"
    }
   },
   "outputs": [
    {
     "ename": "TypeError",
     "evalue": "unsupported operand type(s) for +: 'int' and 'str'",
     "output_type": "error",
     "traceback": [
      "\u001b[0;31m---------------------------------------------------------------------------\u001b[0m",
      "\u001b[0;31mTypeError\u001b[0m                                 Traceback (most recent call last)",
      "\u001b[0;32m<ipython-input-1-0fbfe0c2c825>\u001b[0m in \u001b[0;36m<module>\u001b[0;34m\u001b[0m\n\u001b[1;32m      3\u001b[0m \u001b[0mnum\u001b[0m \u001b[0;34m=\u001b[0m \u001b[0;36m22\u001b[0m\u001b[0;34m\u001b[0m\u001b[0;34m\u001b[0m\u001b[0m\n\u001b[1;32m      4\u001b[0m \u001b[0;34m\u001b[0m\u001b[0m\n\u001b[0;32m----> 5\u001b[0;31m \u001b[0mnum\u001b[0m \u001b[0;34m+\u001b[0m \u001b[0mstring_num\u001b[0m\u001b[0;34m\u001b[0m\u001b[0;34m\u001b[0m\u001b[0m\n\u001b[0m",
      "\u001b[0;31mTypeError\u001b[0m: unsupported operand type(s) for +: 'int' and 'str'"
     ]
    }
   ],
   "source": [
    "# try to add a number string to a number\n",
    "string_num = \"3301\"\n",
    "num = 22\n",
    "\n",
    "num + string_num"
   ]
  },
  {
   "cell_type": "code",
   "execution_count": 2,
   "metadata": {
    "slideshow": {
     "slide_type": "-"
    }
   },
   "outputs": [
    {
     "name": "stdout",
     "output_type": "stream",
     "text": [
      "100001\n"
     ]
    }
   ],
   "source": [
    "# what would you expect this to output?\n",
    "print(\"100\" + \"001\")"
   ]
  },
  {
   "cell_type": "code",
   "execution_count": 25,
   "metadata": {
    "slideshow": {
     "slide_type": "subslide"
    }
   },
   "outputs": [
    {
     "data": {
      "text/plain": [
       "3323.0"
      ]
     },
     "execution_count": 25,
     "metadata": {},
     "output_type": "execute_result"
    }
   ],
   "source": [
    "string_num = \"3301\"\n",
    "num = 22\n",
    "\n",
    "float(string_num) + num"
   ]
  },
  {
   "cell_type": "code",
   "execution_count": 3,
   "metadata": {
    "slideshow": {
     "slide_type": "slide"
    }
   },
   "outputs": [
    {
     "ename": "TypeError",
     "evalue": "must be str, not int",
     "output_type": "error",
     "traceback": [
      "\u001b[0;31m---------------------------------------------------------------------------\u001b[0m",
      "\u001b[0;31mTypeError\u001b[0m                                 Traceback (most recent call last)",
      "\u001b[0;32m<ipython-input-3-c7f0ffca939e>\u001b[0m in \u001b[0;36m<module>\u001b[0;34m\u001b[0m\n\u001b[0;32m----> 1\u001b[0;31m \u001b[0mprint\u001b[0m\u001b[0;34m(\u001b[0m\u001b[0;34m\"There was only one catch and that was Catch-\"\u001b[0m \u001b[0;34m+\u001b[0m \u001b[0;36m22\u001b[0m\u001b[0;34m)\u001b[0m\u001b[0;34m\u001b[0m\u001b[0;34m\u001b[0m\u001b[0m\n\u001b[0m",
      "\u001b[0;31mTypeError\u001b[0m: must be str, not int"
     ]
    }
   ],
   "source": [
    "print(\"There was only one catch and that was Catch-\" + 22)"
   ]
  },
  {
   "cell_type": "code",
   "execution_count": 8,
   "metadata": {
    "slideshow": {
     "slide_type": "-"
    }
   },
   "outputs": [
    {
     "name": "stdout",
     "output_type": "stream",
     "text": [
      "There was only one catch and that was Catch-22.\n"
     ]
    }
   ],
   "source": [
    "# use string formatting\n",
    "print(\"There was only one catch and that was Catch-{0}.\".format(22))"
   ]
  },
  {
   "cell_type": "code",
   "execution_count": 7,
   "metadata": {},
   "outputs": [
    {
     "name": "stdout",
     "output_type": "stream",
     "text": [
      "There was only one catch and that was 22\n"
     ]
    }
   ],
   "source": [
    "# convert it to a string first\n",
    "print(\"There was only one catch and that was \" + str(22))"
   ]
  },
  {
   "cell_type": "markdown",
   "metadata": {
    "slideshow": {
     "slide_type": "slide"
    }
   },
   "source": [
    "# String formatting"
   ]
  },
  {
   "cell_type": "code",
   "execution_count": 28,
   "metadata": {
    "slideshow": {
     "slide_type": "-"
    }
   },
   "outputs": [
    {
     "name": "stdout",
     "output_type": "stream",
     "text": [
      "From 0 to 60 in 60 seconds.\n"
     ]
    }
   ],
   "source": [
    "print(\"From {0} to {1} in {1} seconds.\".format(0, 60))"
   ]
  },
  {
   "cell_type": "code",
   "execution_count": 29,
   "metadata": {},
   "outputs": [
    {
     "name": "stdout",
     "output_type": "stream",
     "text": [
      "1 2 3 4 5\n"
     ]
    }
   ],
   "source": [
    "a=5\n",
    "print(f\"1 2 3 4 {a}\")"
   ]
  },
  {
   "cell_type": "markdown",
   "metadata": {
    "slideshow": {
     "slide_type": "slide"
    }
   },
   "source": [
    "There are many more (and more complex) types in Python, this is just a taste."
   ]
  },
  {
   "cell_type": "markdown",
   "metadata": {
    "slideshow": {
     "slide_type": "slide"
    }
   },
   "source": [
    "# Logicial operators"
   ]
  },
  {
   "cell_type": "code",
   "execution_count": 30,
   "metadata": {
    "slideshow": {
     "slide_type": "-"
    }
   },
   "outputs": [
    {
     "name": "stdout",
     "output_type": "stream",
     "text": [
      "True\n",
      "True\n",
      "True\n"
     ]
    }
   ],
   "source": [
    "x = 3\n",
    "y = 4\n",
    "z = 2\n",
    "a = 1\n",
    "\n",
    "print(x < y and z == 2)\n",
    "print(y < x or a < z)\n",
    "print(not y < x)"
   ]
  },
  {
   "cell_type": "markdown",
   "metadata": {
    "slideshow": {
     "slide_type": "slide"
    }
   },
   "source": [
    "# Making decisions (control of flow)\n",
    "\n",
    "# - the if expression"
   ]
  },
  {
   "cell_type": "code",
   "execution_count": 31,
   "metadata": {
    "slideshow": {
     "slide_type": "-"
    }
   },
   "outputs": [
    {
     "name": "stdout",
     "output_type": "stream",
     "text": [
      "We still have a fighting chance!\n"
     ]
    }
   ],
   "source": [
    "zombies = 10\n",
    "humans = 140\n",
    "\n",
    "if humans > zombies:\n",
    "    print(\"We still have a fighting chance!\")"
   ]
  },
  {
   "cell_type": "markdown",
   "metadata": {
    "slideshow": {
     "slide_type": "slide"
    }
   },
   "source": [
    "# - the if-else expression"
   ]
  },
  {
   "cell_type": "code",
   "execution_count": 32,
   "metadata": {
    "slideshow": {
     "slide_type": "-"
    }
   },
   "outputs": [
    {
     "name": "stdout",
     "output_type": "stream",
     "text": [
      "How fast can you run?\n"
     ]
    }
   ],
   "source": [
    "zombies = 100\n",
    "humans = 50\n",
    "\n",
    "if humans > zombies:\n",
    "    print(\"We still have a fighting chance!\")\n",
    "else:\n",
    "    print(\"How fast can you run?\")"
   ]
  },
  {
   "cell_type": "markdown",
   "metadata": {
    "slideshow": {
     "slide_type": "slide"
    }
   },
   "source": [
    "# - the if-elif-else expression"
   ]
  },
  {
   "cell_type": "code",
   "execution_count": 33,
   "metadata": {
    "slideshow": {
     "slide_type": "-"
    }
   },
   "outputs": [
    {
     "name": "stdout",
     "output_type": "stream",
     "text": [
      "...bash 'em in the head, that seems to work.\n"
     ]
    }
   ],
   "source": [
    "zombies = 140\n",
    "humans = 9\n",
    "shaun = 1\n",
    "\n",
    "if zombies < humans:\n",
    "    print(\"We still have a fighting chance!\")\n",
    "elif shaun > 0:\n",
    "    print(\"...bash 'em in the head, that seems to work.\")\n",
    "else:\n",
    "    print(\"How fast can you run?\")"
   ]
  },
  {
   "cell_type": "markdown",
   "metadata": {
    "slideshow": {
     "slide_type": "slide"
    }
   },
   "source": [
    "# while expression for a count loop"
   ]
  },
  {
   "cell_type": "code",
   "execution_count": 34,
   "metadata": {
    "slideshow": {
     "slide_type": "-"
    }
   },
   "outputs": [
    {
     "name": "stdout",
     "output_type": "stream",
     "text": [
      "The clocks tickin', I just count the hours...\n",
      "The clocks tickin', I just count the hours...\n",
      "The clocks tickin', I just count the hours...\n",
      "The clocks tickin', I just count the hours...\n",
      "The clocks tickin', I just count the hours...\n",
      "The clocks tickin', I just count the hours...\n",
      "The clocks tickin', I just count the hours...\n",
      "The clocks tickin', I just count the hours...\n",
      "The clocks tickin', I just count the hours...\n",
      "The clocks tickin', I just count the hours...\n",
      "Stop trippin', I'm tripping off the power.\n"
     ]
    }
   ],
   "source": [
    "yeezy_count = 10\n",
    "\n",
    "while yeezy_count < 20:\n",
    "    print(\"The clocks tickin', I just count the hours...\")\n",
    "    yeezy_count = yeezy_count + 1\n",
    "\n",
    "print(\"Stop trippin', I'm tripping off the power.\")"
   ]
  },
  {
   "cell_type": "markdown",
   "metadata": {
    "slideshow": {
     "slide_type": "slide"
    }
   },
   "source": [
    "# while expression for a flag loop"
   ]
  },
  {
   "cell_type": "code",
   "execution_count": 35,
   "metadata": {
    "slideshow": {
     "slide_type": "-"
    }
   },
   "outputs": [
    {
     "name": "stdout",
     "output_type": "stream",
     "text": [
      "23 is prime: True\n"
     ]
    }
   ],
   "source": [
    "need_prime = True\n",
    "\n",
    "num = 23\n",
    "start = 2\n",
    "\n",
    "# This is actually both a flag and count loop.\n",
    "while need_prime and start < num:\n",
    "    if num % start == 0:\n",
    "        need_prime = False\n",
    "    else:\n",
    "        start = start + 1\n",
    "\n",
    "print(\"{0} is prime: {1}\".format(num, need_prime))\n",
    "    "
   ]
  },
  {
   "cell_type": "markdown",
   "metadata": {
    "slideshow": {
     "slide_type": "slide"
    }
   },
   "source": [
    "# Lists\n",
    "\n",
    "Lists are names for collections of values."
   ]
  },
  {
   "cell_type": "code",
   "execution_count": 36,
   "metadata": {
    "slideshow": {
     "slide_type": "-"
    }
   },
   "outputs": [
    {
     "name": "stdout",
     "output_type": "stream",
     "text": [
      "[2, 3, 5, 7, 11, 13, 17, 19]\n"
     ]
    }
   ],
   "source": [
    "primes = [2, 3, 5, 7, 11, 13, 17, 19]\n",
    "print(primes)"
   ]
  },
  {
   "cell_type": "code",
   "execution_count": 37,
   "metadata": {
    "slideshow": {
     "slide_type": "-"
    }
   },
   "outputs": [
    {
     "name": "stdout",
     "output_type": "stream",
     "text": [
      "2\n"
     ]
    }
   ],
   "source": [
    "print(primes[0])"
   ]
  },
  {
   "cell_type": "code",
   "execution_count": 38,
   "metadata": {
    "slideshow": {
     "slide_type": "-"
    }
   },
   "outputs": [
    {
     "name": "stdout",
     "output_type": "stream",
     "text": [
      "19\n"
     ]
    }
   ],
   "source": [
    "print(primes[-1])"
   ]
  },
  {
   "cell_type": "code",
   "execution_count": 39,
   "metadata": {
    "slideshow": {
     "slide_type": "-"
    }
   },
   "outputs": [
    {
     "name": "stdout",
     "output_type": "stream",
     "text": [
      "[2, 3, 5, 7, 11, 13, 17, 'nineteen']\n"
     ]
    }
   ],
   "source": [
    "primes[-1] = \"nineteen\"\n",
    "print(primes)"
   ]
  },
  {
   "cell_type": "code",
   "execution_count": 40,
   "metadata": {},
   "outputs": [
    {
     "name": "stdout",
     "output_type": "stream",
     "text": [
      "[2, 3, 5, 7, 11, 13, 17, 'nineteen', 2, 3, 5, 7, 11, 13, 17, 'nineteen']\n"
     ]
    }
   ],
   "source": [
    "# uber big list\n",
    "print(primes*2)"
   ]
  },
  {
   "cell_type": "code",
   "execution_count": 41,
   "metadata": {},
   "outputs": [
    {
     "name": "stdout",
     "output_type": "stream",
     "text": [
      "[2, 3, 5, 7, 11, 13, 17, 'nineteen', 23]\n"
     ]
    }
   ],
   "source": [
    "# append \n",
    "primes.append(23)\n",
    "print(primes)"
   ]
  },
  {
   "cell_type": "code",
   "execution_count": 42,
   "metadata": {},
   "outputs": [
    {
     "name": "stdout",
     "output_type": "stream",
     "text": [
      "[2, 3, 5, 7, 11, 13, 17, 'nineteen', 23, 23, 29]\n"
     ]
    }
   ],
   "source": [
    "# extend\n",
    "primes.extend([23,29])\n",
    "print(primes)"
   ]
  },
  {
   "cell_type": "markdown",
   "metadata": {},
   "source": [
    "# Set"
   ]
  },
  {
   "cell_type": "code",
   "execution_count": 43,
   "metadata": {},
   "outputs": [
    {
     "data": {
      "text/plain": [
       "{11, 13, 17, 2, 23, 29, 3, 5, 7, 'nineteen'}"
      ]
     },
     "execution_count": 43,
     "metadata": {},
     "output_type": "execute_result"
    }
   ],
   "source": [
    "set(primes)"
   ]
  },
  {
   "cell_type": "markdown",
   "metadata": {
    "slideshow": {
     "slide_type": "slide"
    }
   },
   "source": [
    "# Using the length"
   ]
  },
  {
   "cell_type": "code",
   "execution_count": 44,
   "metadata": {
    "slideshow": {
     "slide_type": "-"
    }
   },
   "outputs": [
    {
     "name": "stdout",
     "output_type": "stream",
     "text": [
      "8\n"
     ]
    }
   ],
   "source": [
    "primes = [2, 3, 5, 7, 11, 13, 17, 19]\n",
    "print(len(primes))"
   ]
  },
  {
   "cell_type": "code",
   "execution_count": 45,
   "metadata": {
    "slideshow": {
     "slide_type": "-"
    }
   },
   "outputs": [
    {
     "ename": "IndexError",
     "evalue": "list index out of range",
     "output_type": "error",
     "traceback": [
      "\u001b[0;31m---------------------------------------------------------------------------\u001b[0m",
      "\u001b[0;31mIndexError\u001b[0m                                Traceback (most recent call last)",
      "\u001b[0;32m<ipython-input-45-8d4fbfc1b95a>\u001b[0m in \u001b[0;36m<module>\u001b[0;34m\u001b[0m\n\u001b[0;32m----> 1\u001b[0;31m \u001b[0mprint\u001b[0m\u001b[0;34m(\u001b[0m\u001b[0mprimes\u001b[0m\u001b[0;34m[\u001b[0m\u001b[0mlen\u001b[0m\u001b[0;34m(\u001b[0m\u001b[0mprimes\u001b[0m\u001b[0;34m)\u001b[0m\u001b[0;34m]\u001b[0m\u001b[0;34m)\u001b[0m\u001b[0;34m\u001b[0m\u001b[0;34m\u001b[0m\u001b[0m\n\u001b[0m",
      "\u001b[0;31mIndexError\u001b[0m: list index out of range"
     ]
    }
   ],
   "source": [
    "print(primes[len(primes)])"
   ]
  },
  {
   "cell_type": "code",
   "execution_count": 46,
   "metadata": {
    "slideshow": {
     "slide_type": "-"
    }
   },
   "outputs": [
    {
     "name": "stdout",
     "output_type": "stream",
     "text": [
      "19\n"
     ]
    }
   ],
   "source": [
    "print(primes[len(primes)-1])"
   ]
  },
  {
   "cell_type": "markdown",
   "metadata": {
    "slideshow": {
     "slide_type": "slide"
    }
   },
   "source": [
    "# List of lists"
   ]
  },
  {
   "cell_type": "code",
   "execution_count": 47,
   "metadata": {
    "slideshow": {
     "slide_type": "-"
    }
   },
   "outputs": [
    {
     "name": "stdout",
     "output_type": "stream",
     "text": [
      "[[1, 2, 3], [4, 5, 6]]\n",
      "[1, 2, 3]\n",
      "3\n"
     ]
    }
   ],
   "source": [
    "lol = [[1,2,3],[4,5,6]]\n",
    "print(lol)\n",
    "\n",
    "print(lol[0])\n",
    "\n",
    "print(lol[0][2])"
   ]
  },
  {
   "cell_type": "markdown",
   "metadata": {
    "slideshow": {
     "slide_type": "slide"
    }
   },
   "source": [
    "# List comprehensions"
   ]
  },
  {
   "cell_type": "code",
   "execution_count": 48,
   "metadata": {},
   "outputs": [
    {
     "data": {
      "text/plain": [
       "[0, 1, 4, 9, 16, 25, 36, 49, 64, 81]"
      ]
     },
     "execution_count": 48,
     "metadata": {},
     "output_type": "execute_result"
    }
   ],
   "source": [
    "[x**2 for x in range(10)]"
   ]
  },
  {
   "cell_type": "code",
   "execution_count": 49,
   "metadata": {},
   "outputs": [
    {
     "data": {
      "text/plain": [
       "[38, 39, 39, 40, 40, 41, 41, 42, 42, 43]"
      ]
     },
     "execution_count": 49,
     "metadata": {},
     "output_type": "execute_result"
    }
   ],
   "source": [
    "# double list comprehension\n",
    "[x+y for x in range(5) for y in range(38,40)]"
   ]
  },
  {
   "cell_type": "code",
   "execution_count": 50,
   "metadata": {},
   "outputs": [
    {
     "data": {
      "text/plain": [
       "[[38, 39, 40, 41, 42], [39, 40, 41, 42, 43]]"
      ]
     },
     "execution_count": 50,
     "metadata": {},
     "output_type": "execute_result"
    }
   ],
   "source": [
    "# nested comprehension\n",
    "[[x+y for x in range(5)] for y in range(38,40)]"
   ]
  },
  {
   "cell_type": "markdown",
   "metadata": {
    "slideshow": {
     "slide_type": "slide"
    }
   },
   "source": [
    "# For loops"
   ]
  },
  {
   "cell_type": "code",
   "execution_count": 51,
   "metadata": {
    "slideshow": {
     "slide_type": "-"
    }
   },
   "outputs": [
    {
     "name": "stdout",
     "output_type": "stream",
     "text": [
      "2\n",
      "3\n",
      "5\n",
      "7\n",
      "11\n",
      "13\n",
      "17\n",
      "19\n"
     ]
    }
   ],
   "source": [
    "primes = [2, 3, 5, 7, 11, 13, 17, 19]\n",
    "for p in primes:\n",
    "    print(p)"
   ]
  },
  {
   "cell_type": "markdown",
   "metadata": {},
   "source": [
    "# While loop"
   ]
  },
  {
   "cell_type": "code",
   "execution_count": 52,
   "metadata": {},
   "outputs": [
    {
     "name": "stdout",
     "output_type": "stream",
     "text": [
      "duck\n",
      "duck\n",
      "duck\n",
      "duck\n",
      "goose\n",
      "You're it!\n"
     ]
    }
   ],
   "source": [
    "tags = ['duck','duck','duck','duck','duck','goose','duck','duck']\n",
    "i=0\n",
    "tag=tags[i]\n",
    "while(tag!='goose'):\n",
    "    i+=1\n",
    "    tag=tags[i]\n",
    "    print(tag)\n",
    "print('You\\'re it!')\n",
    "    "
   ]
  },
  {
   "cell_type": "markdown",
   "metadata": {},
   "source": [
    "# Generators\n",
    "\n",
    "* Save memory, only compute on the data when calling it and store it in memory when necessary then discards\n",
    "* Like a list that empties out"
   ]
  },
  {
   "cell_type": "code",
   "execution_count": 53,
   "metadata": {},
   "outputs": [],
   "source": [
    "my_gen=(i**2 for i in [4,5,6,7])"
   ]
  },
  {
   "cell_type": "code",
   "execution_count": 54,
   "metadata": {},
   "outputs": [
    {
     "data": {
      "text/plain": [
       "<generator object <genexpr> at 0x10d8b06d0>"
      ]
     },
     "execution_count": 54,
     "metadata": {},
     "output_type": "execute_result"
    }
   ],
   "source": [
    "my_gen"
   ]
  },
  {
   "cell_type": "code",
   "execution_count": 55,
   "metadata": {},
   "outputs": [
    {
     "name": "stdout",
     "output_type": "stream",
     "text": [
      "16\n",
      "25\n",
      "36\n",
      "49\n"
     ]
    }
   ],
   "source": [
    "for item in my_gen:\n",
    "    print(item)"
   ]
  },
  {
   "cell_type": "code",
   "execution_count": 56,
   "metadata": {},
   "outputs": [],
   "source": [
    "for item in my_gen: # generator has been exhausted\n",
    "    print(item)"
   ]
  },
  {
   "cell_type": "markdown",
   "metadata": {
    "slideshow": {
     "slide_type": "slide"
    }
   },
   "source": [
    "# Range"
   ]
  },
  {
   "cell_type": "code",
   "execution_count": 57,
   "metadata": {
    "slideshow": {
     "slide_type": "-"
    }
   },
   "outputs": [
    {
     "data": {
      "text/plain": [
       "range(0, 10)"
      ]
     },
     "execution_count": 57,
     "metadata": {},
     "output_type": "execute_result"
    }
   ],
   "source": [
    "# in python 3, range is a generator\n",
    "range(10)"
   ]
  },
  {
   "cell_type": "code",
   "execution_count": 58,
   "metadata": {},
   "outputs": [
    {
     "data": {
      "text/plain": [
       "[0, 1, 2, 3, 4, 5, 6, 7, 8, 9]"
      ]
     },
     "execution_count": 58,
     "metadata": {},
     "output_type": "execute_result"
    }
   ],
   "source": [
    "# convert to a list to see all of the values and store it all in memory\n",
    "list(range(10))"
   ]
  },
  {
   "cell_type": "code",
   "execution_count": 59,
   "metadata": {
    "slideshow": {
     "slide_type": "-"
    }
   },
   "outputs": [
    {
     "data": {
      "text/plain": [
       "[3, 4, 5, 6, 7, 8, 9]"
      ]
     },
     "execution_count": 59,
     "metadata": {},
     "output_type": "execute_result"
    }
   ],
   "source": [
    "list(range(3,10))"
   ]
  },
  {
   "cell_type": "code",
   "execution_count": 60,
   "metadata": {
    "slideshow": {
     "slide_type": "-"
    }
   },
   "outputs": [
    {
     "data": {
      "text/plain": [
       "[]"
      ]
     },
     "execution_count": 60,
     "metadata": {},
     "output_type": "execute_result"
    }
   ],
   "source": [
    "list(range(10,0))"
   ]
  },
  {
   "cell_type": "code",
   "execution_count": 61,
   "metadata": {
    "slideshow": {
     "slide_type": "-"
    }
   },
   "outputs": [
    {
     "data": {
      "text/plain": [
       "[10, 8, 6, 4, 2]"
      ]
     },
     "execution_count": 61,
     "metadata": {},
     "output_type": "execute_result"
    }
   ],
   "source": [
    "list(range(10,0,-2))"
   ]
  },
  {
   "cell_type": "code",
   "execution_count": 102,
   "metadata": {
    "slideshow": {
     "slide_type": "subslide"
    }
   },
   "outputs": [
    {
     "name": "stdout",
     "output_type": "stream",
     "text": [
      "2\n",
      "3\n",
      "5\n",
      "7\n",
      "11\n",
      "13\n",
      "17\n",
      "19\n"
     ]
    }
   ],
   "source": [
    "primes = [2, 3, 5, 7, 11, 13, 17, 19]\n",
    "for i in range(8):\n",
    "    print (primes[i])"
   ]
  },
  {
   "cell_type": "markdown",
   "metadata": {
    "slideshow": {
     "slide_type": "slide"
    }
   },
   "source": [
    "# Slicing"
   ]
  },
  {
   "cell_type": "code",
   "execution_count": 69,
   "metadata": {
    "slideshow": {
     "slide_type": "-"
    }
   },
   "outputs": [
    {
     "data": {
      "text/plain": [
       "[2, 3, 5]"
      ]
     },
     "execution_count": 69,
     "metadata": {},
     "output_type": "execute_result"
    }
   ],
   "source": [
    "# pay attention to the 0-indexing, not like R!\n",
    "primes = [2, 3, 5, 7, 11, 13, 17, 19]\n",
    "primes[0:3]"
   ]
  },
  {
   "cell_type": "code",
   "execution_count": 70,
   "metadata": {
    "slideshow": {
     "slide_type": "-"
    }
   },
   "outputs": [
    {
     "data": {
      "text/plain": [
       "[7, 11, 13, 17, 19]"
      ]
     },
     "execution_count": 70,
     "metadata": {},
     "output_type": "execute_result"
    }
   ],
   "source": [
    "primes[3:]"
   ]
  },
  {
   "cell_type": "code",
   "execution_count": 71,
   "metadata": {
    "slideshow": {
     "slide_type": "-"
    }
   },
   "outputs": [
    {
     "data": {
      "text/plain": [
       "[2, 3, 5]"
      ]
     },
     "execution_count": 71,
     "metadata": {},
     "output_type": "execute_result"
    }
   ],
   "source": [
    "primes[:3]"
   ]
  },
  {
   "cell_type": "code",
   "execution_count": 72,
   "metadata": {
    "slideshow": {
     "slide_type": "-"
    }
   },
   "outputs": [
    {
     "data": {
      "text/plain": [
       "[19, 17, 13, 11, 7, 5, 3, 2]"
      ]
     },
     "execution_count": 72,
     "metadata": {},
     "output_type": "execute_result"
    }
   ],
   "source": [
    "primes[7::-1] # reverse the list"
   ]
  },
  {
   "cell_type": "markdown",
   "metadata": {
    "slideshow": {
     "slide_type": "slide"
    }
   },
   "source": [
    "# Strings\n",
    "Strings are kind of like lists of characters"
   ]
  },
  {
   "cell_type": "code",
   "execution_count": 73,
   "metadata": {
    "slideshow": {
     "slide_type": "slide"
    }
   },
   "outputs": [
    {
     "name": "stdout",
     "output_type": "stream",
     "text": [
      "Q\n",
      "D\n",
      "D\n",
      "Q\n",
      "K\n",
      "E\n",
      "L\n",
      "D\n",
      "T\n",
      "L\n",
      "K\n",
      "H\n",
      "A\n",
      "R\n",
      "V\n",
      "E\n",
      "Y\n",
      "G\n",
      "Y\n",
      "F\n",
      "K\n",
      "D\n",
      "T\n",
      "V\n",
      "I\n",
      "E\n",
      "D\n",
      "S\n",
      "S\n",
      "T\n",
      "S\n",
      "V\n",
      "R\n",
      "V\n",
      "F\n",
      "S\n",
      "Q\n"
     ]
    }
   ],
   "source": [
    "protein = 'QDDQKELDTLKHARVEYGYFKDTVIEDSSTSVRVFSQ'\n",
    "for aa in protein:\n",
    "    print(aa)"
   ]
  },
  {
   "cell_type": "code",
   "execution_count": 74,
   "metadata": {
    "slideshow": {
     "slide_type": "slide"
    }
   },
   "outputs": [
    {
     "name": "stdout",
     "output_type": "stream",
     "text": [
      "HARVEY\n"
     ]
    }
   ],
   "source": [
    "protein = 'QDDQKELDTLKHARVEYGYFKDTVIEDSSTSVRVFSQ'\n",
    "print(protein[11:17])"
   ]
  },
  {
   "cell_type": "code",
   "execution_count": 75,
   "metadata": {
    "slideshow": {
     "slide_type": "-"
    }
   },
   "outputs": [
    {
     "name": "stdout",
     "output_type": "stream",
     "text": [
      "QSFVRVSTSSDEIVTDKFYGYEVRAHKLTDLEKQDDQ\n"
     ]
    }
   ],
   "source": [
    "print(protein[::-1])"
   ]
  },
  {
   "cell_type": "markdown",
   "metadata": {
    "slideshow": {
     "slide_type": "slide"
    }
   },
   "source": [
    "# String functions"
   ]
  },
  {
   "cell_type": "code",
   "execution_count": 76,
   "metadata": {
    "slideshow": {
     "slide_type": "-"
    }
   },
   "outputs": [
    {
     "name": "stdout",
     "output_type": "stream",
     "text": [
      "3\n"
     ]
    }
   ],
   "source": [
    "protein = 'QDDQKELDTLKHARVEYGYFKDTVIEDSSTSVRVFSQ'\n",
    "print(protein.count('K'))"
   ]
  },
  {
   "cell_type": "code",
   "execution_count": 77,
   "metadata": {
    "slideshow": {
     "slide_type": "-"
    }
   },
   "outputs": [
    {
     "name": "stdout",
     "output_type": "stream",
     "text": [
      "11\n"
     ]
    }
   ],
   "source": [
    "print(protein.find('HARVEY'))"
   ]
  },
  {
   "cell_type": "code",
   "execution_count": 78,
   "metadata": {
    "slideshow": {
     "slide_type": "-"
    }
   },
   "outputs": [
    {
     "name": "stdout",
     "output_type": "stream",
     "text": [
      "HARVEY\n"
     ]
    }
   ],
   "source": [
    "loc = protein.find('HARVEY')\n",
    "print(protein[loc:(loc+len('HARVEY'))])"
   ]
  },
  {
   "cell_type": "code",
   "execution_count": 79,
   "metadata": {
    "slideshow": {
     "slide_type": "slide"
    }
   },
   "outputs": [
    {
     "name": "stdout",
     "output_type": "stream",
     "text": [
      "QDDQKELDTLKAMELIAGYFKDTVIEDSSTSVRVFSQ\n"
     ]
    }
   ],
   "source": [
    "protein = protein.replace('HARVEY', 'AMELIA')\n",
    "print(protein)"
   ]
  },
  {
   "cell_type": "code",
   "execution_count": 80,
   "metadata": {
    "slideshow": {
     "slide_type": "-"
    }
   },
   "outputs": [
    {
     "name": "stdout",
     "output_type": "stream",
     "text": [
      "['QDDQKELDTLKAMELIAG', 'FKDTVIEDSSTSVRVFSQ']\n"
     ]
    }
   ],
   "source": [
    "print(protein.split('Y'))"
   ]
  },
  {
   "cell_type": "markdown",
   "metadata": {
    "slideshow": {
     "slide_type": "slide"
    }
   },
   "source": [
    "# Dictionaries"
   ]
  },
  {
   "cell_type": "code",
   "execution_count": 81,
   "metadata": {},
   "outputs": [
    {
     "name": "stdout",
     "output_type": "stream",
     "text": [
      "Gene symbol: NR3C1, Gene name: nuclear receptor subfamily 3, group C, member 1 (glucocorticoid receptor)\n",
      "Gene symbol: CFTR, Gene name: cystic fibrosis transmembrane conductance regulator (ATP-binding cassette sub-family C, member 7)\n"
     ]
    }
   ],
   "source": [
    "genes = {\"NR3C1\" : \"nuclear receptor subfamily 3, group C, member 1 (glucocorticoid receptor)\", \n",
    "         \"CFTR\" : \"cystic fibrosis transmembrane conductance regulator (ATP-binding cassette sub-family C, member 7)\"}\n",
    "\n",
    "for gene in genes.keys():\n",
    "    print(str.format(\"Gene symbol: {}, Gene name: {}\", gene, genes[gene]))\n"
   ]
  },
  {
   "cell_type": "code",
   "execution_count": 82,
   "metadata": {
    "slideshow": {
     "slide_type": "slide"
    }
   },
   "outputs": [
    {
     "name": "stdout",
     "output_type": "stream",
     "text": [
      "['CFTR', 'G6PC', 'NR3C1']\n"
     ]
    },
    {
     "data": {
      "text/plain": [
       "['cystic fibrosis transmembrane conductance regulator (ATP-binding cassette sub-family C, member 7)',\n",
       " 'glucose-6-phosphatase, catalytic subunit',\n",
       " 'nuclear receptor subfamily 3, group C, member 1 (glucocorticoid receptor)']"
      ]
     },
     "execution_count": 82,
     "metadata": {},
     "output_type": "execute_result"
    }
   ],
   "source": [
    "# dict.keys() and dict.values() also functions as a generator!!!\n",
    "\n",
    "genes[\"G6PC\"] = \"glucose-6-phosphatase, catalytic subunit\"\n",
    "\n",
    "print(sorted(list(genes.keys())))\n",
    "\n",
    "sort_index = sorted(range(len(list(genes.keys()))), key=lambda k: list(genes.keys())[k])\n",
    "[list(genes.values())[x] for x in sort_index]\n"
   ]
  },
  {
   "cell_type": "code",
   "execution_count": 83,
   "metadata": {},
   "outputs": [
    {
     "data": {
      "text/plain": [
       "{'NR3C1': 'nuclear receptor subfamily 3, group C, member 1 (glucocorticoid receptor)',\n",
       " 'CFTR': 'cystic fibrosis transmembrane conductance regulator (ATP-binding cassette sub-family C, member 7)',\n",
       " 'G6PC': 'glucose-6-phosphatase, catalytic subunit'}"
      ]
     },
     "execution_count": 83,
     "metadata": {},
     "output_type": "execute_result"
    }
   ],
   "source": [
    "# dict comprehension\n",
    "{k:v for k,v in genes.items()}"
   ]
  },
  {
   "cell_type": "markdown",
   "metadata": {
    "slideshow": {
     "slide_type": "slide"
    }
   },
   "source": [
    "# Zip"
   ]
  },
  {
   "cell_type": "code",
   "execution_count": 9,
   "metadata": {},
   "outputs": [
    {
     "ename": "NameError",
     "evalue": "name 'genes' is not defined",
     "output_type": "error",
     "traceback": [
      "\u001b[0;31m---------------------------------------------------------------------------\u001b[0m",
      "\u001b[0;31mNameError\u001b[0m                                 Traceback (most recent call last)",
      "\u001b[0;32m<ipython-input-9-79e46baf8956>\u001b[0m in \u001b[0;36m<module>\u001b[0;34m\u001b[0m\n\u001b[1;32m      2\u001b[0m \u001b[0;31m# and feeds you them in pairs, one pair at a time\u001b[0m\u001b[0;34m\u001b[0m\u001b[0;34m\u001b[0m\u001b[0;34m\u001b[0m\u001b[0m\n\u001b[1;32m      3\u001b[0m \u001b[0;34m\u001b[0m\u001b[0m\n\u001b[0;32m----> 4\u001b[0;31m \u001b[0msymbols\u001b[0m \u001b[0;34m=\u001b[0m \u001b[0mgenes\u001b[0m\u001b[0;34m.\u001b[0m\u001b[0mkeys\u001b[0m\u001b[0;34m(\u001b[0m\u001b[0;34m)\u001b[0m\u001b[0;34m\u001b[0m\u001b[0;34m\u001b[0m\u001b[0m\n\u001b[0m\u001b[1;32m      5\u001b[0m \u001b[0mnames\u001b[0m \u001b[0;34m=\u001b[0m \u001b[0mgenes\u001b[0m\u001b[0;34m.\u001b[0m\u001b[0mvalues\u001b[0m\u001b[0;34m(\u001b[0m\u001b[0;34m)\u001b[0m\u001b[0;34m\u001b[0m\u001b[0;34m\u001b[0m\u001b[0m\n\u001b[1;32m      6\u001b[0m \u001b[0;34m\u001b[0m\u001b[0m\n",
      "\u001b[0;31mNameError\u001b[0m: name 'genes' is not defined"
     ]
    }
   ],
   "source": [
    "# Zip takes two generators (things you can iterate over)\n",
    "# and feeds you them in pairs, one pair at a time\n",
    "\n",
    "symbols = genes.keys()\n",
    "names = genes.values()\n",
    "\n",
    "symbols_names = list(zip(symbols, names))\n",
    "\n",
    "print (list(symbols_names))\n",
    "print\n",
    "print (list(zip(*(symbols_names))))\n",
    "print\n",
    "print (list(zip(*(sorted(symbols_names))))[0])\n",
    "print (list(zip(*(sorted(symbols_names))))[1])"
   ]
  },
  {
   "cell_type": "code",
   "execution_count": 85,
   "metadata": {
    "slideshow": {
     "slide_type": "slide"
    }
   },
   "outputs": [],
   "source": [
    "psg5_promoter = (\"ATTATAGTAGAGTCCCCTTTAAATCCACATTGTGTGGATGGCTCTCATGATTTCCTAAGAGATACGTTGT\"\n",
    "\"AAAACGTGACAGTAATGCTGATTCTAGCAGAATAAAACATGTACCACATTTGCTAATACTGTTCTCTTAA\"\n",
    "\"AATAATTTTAAAAGAATGGGGTGGGCCCTCCCATGTGTCCAGGCCAGGTCTCTGAACAGAATCCTCCATC\"\n",
    "\"TGCAGTAACAATGCCTAAGAAGATGACATGGACTTGGTCCTGATATGCAGCCATTCCTGTGTACCCTTCC\"\n",
    "\"CCTGCTGCAGGGCCGTACCAGCATAGGGCCCAAATCTTCAGCTGCAGAGCTGAGACAGAACATGGGATAC\"\n",
    "\"CCAGCATCACTTACCTTCTTCCAGTCCACTGCAGTGGCTACTGGCATGGCCCATTTACCCCTGAGGACAC\"\n",
    "\"CCATCTGCTAACCCACAGTTTCTAAGAGTCAGACTTTCCTGGCTTTTCTGAGCCCCAGCTGCTTTCACTC\"\n",
    "\"TGCTGAACCCTTCTTCTCCCCACAGGTGTCATTGCCTTAGCAGACACCTCTTTCAGCTGCAGCTAACAGG\"\n",
    "\"TAAGCCAAGACCCAGACCCCAGAGGATAAACAAGGATTTCAAAACCTACTGTGTCCAATGGAGGTGCCCA\"\n",
    "\"CTTGTGGGCGGCAAGCCACCCAGGTGCTGAGGCAAGAGACTCAGGGCATGAGCTGTTCCAGTATCATAAA\"\n",
    "\"ATATAAAAGAATAGTTATACCAGATACAGATCTTAGATATGATTATATGTGAATATCATTAATCATTAGT\"\n",
    "\"TGGTAGGAATTACTTTTTATTCCAACATTAGAGTAATCATCACTCTGTAATCATAACCTAGGAAAAGCCA\"\n",
    "\"GGCCATACAGAGATAGGAGCTGAGGAGACACAGTGAGAAGTGACCAGAAGACAAGAGTGCGAGCCTTCTG\"\n",
    "\"TTATGCCCAGACAGGGGCACTAGAGGGCTCCTTGGTCTAGAGGTAACGCCAGAATCTGGGAAGATGCCTG\"\n",
    "\"TTGCCAAGCAGACCTTGGTCT\")"
   ]
  },
  {
   "cell_type": "code",
   "execution_count": 86,
   "metadata": {
    "slideshow": {
     "slide_type": "slide"
    }
   },
   "outputs": [
    {
     "name": "stdout",
     "output_type": "stream",
     "text": [
      "{'A': 0, 'T': 0, 'C': 0, 'G': 0}\n",
      "{'A': 284, 'T': 251, 'C': 246, 'G': 220}\n"
     ]
    }
   ],
   "source": [
    "nucleotides = {\"A\":0, \"T\":0, \"C\":0, \"G\":0}\n",
    "\n",
    "print(nucleotides)\n",
    "\n",
    "for nuc in psg5_promoter:\n",
    "    nucleotides[nuc] += 1\n",
    "\n",
    "print(nucleotides)"
   ]
  },
  {
   "cell_type": "code",
   "execution_count": 87,
   "metadata": {},
   "outputs": [
    {
     "data": {
      "text/plain": [
       "{'A': 284, 'T': 251, 'G': 220, 'C': 246}"
      ]
     },
     "execution_count": 87,
     "metadata": {},
     "output_type": "execute_result"
    }
   ],
   "source": [
    "from collections import Counter\n",
    "dict(Counter(list(psg5_promoter)))"
   ]
  },
  {
   "cell_type": "markdown",
   "metadata": {
    "slideshow": {
     "slide_type": "slide"
    }
   },
   "source": [
    "# Importing libraries"
   ]
  },
  {
   "cell_type": "code",
   "execution_count": 88,
   "metadata": {
    "slideshow": {
     "slide_type": "-"
    }
   },
   "outputs": [
    {
     "name": "stdout",
     "output_type": "stream",
     "text": [
      "28.274333882308138\n",
      "9.625\n"
     ]
    }
   ],
   "source": [
    "import math\n",
    "import numpy as np\n",
    "\n",
    "x = math.pi * 3 ** 2\n",
    "print (x)\n",
    "\n",
    "primes = [2, 3, 5, 7, 11, 13, 17, 19]\n",
    "\n",
    "print (np.mean(primes))"
   ]
  },
  {
   "cell_type": "markdown",
   "metadata": {
    "slideshow": {
     "slide_type": "slide"
    }
   },
   "source": [
    "# Functions"
   ]
  },
  {
   "cell_type": "code",
   "execution_count": 89,
   "metadata": {
    "slideshow": {
     "slide_type": "subslide"
    }
   },
   "outputs": [
    {
     "name": "stdout",
     "output_type": "stream",
     "text": [
      "12\n"
     ]
    }
   ],
   "source": [
    "def rect_area(width, length):\n",
    "    \"\"\"Returns the area of a rectangle.\n",
    "    \"\"\"\n",
    "    area = width * length\n",
    "    return area\n",
    "\n",
    "print (rect_area(3, 4))"
   ]
  },
  {
   "cell_type": "markdown",
   "metadata": {
    "slideshow": {
     "slide_type": "slide"
    }
   },
   "source": [
    "# Data wrangling"
   ]
  },
  {
   "cell_type": "code",
   "execution_count": 90,
   "metadata": {
    "slideshow": {
     "slide_type": "-"
    }
   },
   "outputs": [
    {
     "data": {
      "text/html": [
       "<div>\n",
       "<style scoped>\n",
       "    .dataframe tbody tr th:only-of-type {\n",
       "        vertical-align: middle;\n",
       "    }\n",
       "\n",
       "    .dataframe tbody tr th {\n",
       "        vertical-align: top;\n",
       "    }\n",
       "\n",
       "    .dataframe thead th {\n",
       "        text-align: right;\n",
       "    }\n",
       "</style>\n",
       "<table border=\"1\" class=\"dataframe\">\n",
       "  <thead>\n",
       "    <tr style=\"text-align: right;\">\n",
       "      <th></th>\n",
       "      <th>State</th>\n",
       "      <th>Capital</th>\n",
       "    </tr>\n",
       "  </thead>\n",
       "  <tbody>\n",
       "    <tr>\n",
       "      <td>0</td>\n",
       "      <td>Maine</td>\n",
       "      <td>Augusta</td>\n",
       "    </tr>\n",
       "    <tr>\n",
       "      <td>1</td>\n",
       "      <td>New Hampshire</td>\n",
       "      <td>Concord</td>\n",
       "    </tr>\n",
       "    <tr>\n",
       "      <td>2</td>\n",
       "      <td>Vermont</td>\n",
       "      <td>Montpelier</td>\n",
       "    </tr>\n",
       "    <tr>\n",
       "      <td>3</td>\n",
       "      <td>Massachusetts</td>\n",
       "      <td>Boston</td>\n",
       "    </tr>\n",
       "  </tbody>\n",
       "</table>\n",
       "</div>"
      ],
      "text/plain": [
       "           State     Capital\n",
       "0          Maine     Augusta\n",
       "1  New Hampshire     Concord\n",
       "2        Vermont  Montpelier\n",
       "3  Massachusetts      Boston"
      ]
     },
     "execution_count": 90,
     "metadata": {},
     "output_type": "execute_result"
    }
   ],
   "source": [
    "from pandas import DataFrame\n",
    "from IPython.display import display\n",
    "\n",
    "\n",
    "capitals = [[\"Maine\", \"Augusta\"], \n",
    "            [\"New Hampshire\", \"Concord\"], \n",
    "            [\"Vermont\", \"Montpelier\"], \n",
    "            [\"Massachusetts\", \"Boston\"]]\n",
    "\n",
    "cap_df = DataFrame(capitals, columns=[\"State\", \"Capital\"])\n",
    "\n",
    "#print cap_df\n",
    "\n",
    "cap_df#display(cap_df)"
   ]
  },
  {
   "cell_type": "code",
   "execution_count": 92,
   "metadata": {},
   "outputs": [
    {
     "name": "stdout",
     "output_type": "stream",
     "text": [
      "--2020-03-30 18:11:44--  https://archive.ics.uci.edu/ml/machine-learning-databases/breast-cancer-wisconsin/wdbc.data\n",
      "Resolving archive.ics.uci.edu (archive.ics.uci.edu)... 128.195.10.252\n",
      "Connecting to archive.ics.uci.edu (archive.ics.uci.edu)|128.195.10.252|:443... connected.\n",
      "HTTP request sent, awaiting response... 200 OK\n",
      "Length: 124103 (121K) [application/x-httpd-php]\n",
      "Saving to: ‘wdbc.data’\n",
      "\n",
      "wdbc.data           100%[===================>] 121.19K   445KB/s    in 0.3s    \n",
      "\n",
      "2020-03-30 18:11:45 (445 KB/s) - ‘wdbc.data’ saved [124103/124103]\n",
      "\n"
     ]
    }
   ],
   "source": [
    "! wget https://archive.ics.uci.edu/ml/machine-learning-databases/breast-cancer-wisconsin/wdbc.data"
   ]
  },
  {
   "cell_type": "code",
   "execution_count": 93,
   "metadata": {
    "slideshow": {
     "slide_type": "slide"
    }
   },
   "outputs": [
    {
     "data": {
      "text/html": [
       "<div>\n",
       "<style scoped>\n",
       "    .dataframe tbody tr th:only-of-type {\n",
       "        vertical-align: middle;\n",
       "    }\n",
       "\n",
       "    .dataframe tbody tr th {\n",
       "        vertical-align: top;\n",
       "    }\n",
       "\n",
       "    .dataframe thead th {\n",
       "        text-align: right;\n",
       "    }\n",
       "</style>\n",
       "<table border=\"1\" class=\"dataframe\">\n",
       "  <thead>\n",
       "    <tr style=\"text-align: right;\">\n",
       "      <th></th>\n",
       "      <th>id</th>\n",
       "      <th>malignant/benign</th>\n",
       "      <th>radius</th>\n",
       "      <th>texture</th>\n",
       "      <th>perimeter</th>\n",
       "      <th>area</th>\n",
       "    </tr>\n",
       "  </thead>\n",
       "  <tbody>\n",
       "    <tr>\n",
       "      <td>0</td>\n",
       "      <td>842302</td>\n",
       "      <td>M</td>\n",
       "      <td>17.99</td>\n",
       "      <td>10.38</td>\n",
       "      <td>122.80</td>\n",
       "      <td>1001.0</td>\n",
       "    </tr>\n",
       "    <tr>\n",
       "      <td>1</td>\n",
       "      <td>842517</td>\n",
       "      <td>M</td>\n",
       "      <td>20.57</td>\n",
       "      <td>17.77</td>\n",
       "      <td>132.90</td>\n",
       "      <td>1326.0</td>\n",
       "    </tr>\n",
       "    <tr>\n",
       "      <td>2</td>\n",
       "      <td>84300903</td>\n",
       "      <td>M</td>\n",
       "      <td>19.69</td>\n",
       "      <td>21.25</td>\n",
       "      <td>130.00</td>\n",
       "      <td>1203.0</td>\n",
       "    </tr>\n",
       "    <tr>\n",
       "      <td>3</td>\n",
       "      <td>84348301</td>\n",
       "      <td>M</td>\n",
       "      <td>11.42</td>\n",
       "      <td>20.38</td>\n",
       "      <td>77.58</td>\n",
       "      <td>386.1</td>\n",
       "    </tr>\n",
       "    <tr>\n",
       "      <td>4</td>\n",
       "      <td>84358402</td>\n",
       "      <td>M</td>\n",
       "      <td>20.29</td>\n",
       "      <td>14.34</td>\n",
       "      <td>135.10</td>\n",
       "      <td>1297.0</td>\n",
       "    </tr>\n",
       "    <tr>\n",
       "      <td>...</td>\n",
       "      <td>...</td>\n",
       "      <td>...</td>\n",
       "      <td>...</td>\n",
       "      <td>...</td>\n",
       "      <td>...</td>\n",
       "      <td>...</td>\n",
       "    </tr>\n",
       "    <tr>\n",
       "      <td>564</td>\n",
       "      <td>926424</td>\n",
       "      <td>M</td>\n",
       "      <td>21.56</td>\n",
       "      <td>22.39</td>\n",
       "      <td>142.00</td>\n",
       "      <td>1479.0</td>\n",
       "    </tr>\n",
       "    <tr>\n",
       "      <td>565</td>\n",
       "      <td>926682</td>\n",
       "      <td>M</td>\n",
       "      <td>20.13</td>\n",
       "      <td>28.25</td>\n",
       "      <td>131.20</td>\n",
       "      <td>1261.0</td>\n",
       "    </tr>\n",
       "    <tr>\n",
       "      <td>566</td>\n",
       "      <td>926954</td>\n",
       "      <td>M</td>\n",
       "      <td>16.60</td>\n",
       "      <td>28.08</td>\n",
       "      <td>108.30</td>\n",
       "      <td>858.1</td>\n",
       "    </tr>\n",
       "    <tr>\n",
       "      <td>567</td>\n",
       "      <td>927241</td>\n",
       "      <td>M</td>\n",
       "      <td>20.60</td>\n",
       "      <td>29.33</td>\n",
       "      <td>140.10</td>\n",
       "      <td>1265.0</td>\n",
       "    </tr>\n",
       "    <tr>\n",
       "      <td>568</td>\n",
       "      <td>92751</td>\n",
       "      <td>B</td>\n",
       "      <td>7.76</td>\n",
       "      <td>24.54</td>\n",
       "      <td>47.92</td>\n",
       "      <td>181.0</td>\n",
       "    </tr>\n",
       "  </tbody>\n",
       "</table>\n",
       "<p>569 rows × 6 columns</p>\n",
       "</div>"
      ],
      "text/plain": [
       "           id malignant/benign  radius  texture  perimeter    area\n",
       "0      842302                M   17.99    10.38     122.80  1001.0\n",
       "1      842517                M   20.57    17.77     132.90  1326.0\n",
       "2    84300903                M   19.69    21.25     130.00  1203.0\n",
       "3    84348301                M   11.42    20.38      77.58   386.1\n",
       "4    84358402                M   20.29    14.34     135.10  1297.0\n",
       "..        ...              ...     ...      ...        ...     ...\n",
       "564    926424                M   21.56    22.39     142.00  1479.0\n",
       "565    926682                M   20.13    28.25     131.20  1261.0\n",
       "566    926954                M   16.60    28.08     108.30   858.1\n",
       "567    927241                M   20.60    29.33     140.10  1265.0\n",
       "568     92751                B    7.76    24.54      47.92   181.0\n",
       "\n",
       "[569 rows x 6 columns]"
      ]
     },
     "execution_count": 93,
     "metadata": {},
     "output_type": "execute_result"
    }
   ],
   "source": [
    "from IPython.display import display\n",
    "import pandas as pd\n",
    "\n",
    "# get data file wdbc.data from: https://archive.ics.uci.edu/ml/machine-learning-databases/breast-cancer-wisconsin/\n",
    "# put it in the same directory as this notebook\n",
    "\n",
    "# Read breast cancer data into a Pandas DataFrame\n",
    "bc_data = pd.read_csv(\"wdbc.data\", usecols=list(range(6)), header=None, \n",
    "        names=[\"id\", \"malignant/benign\", \"radius\", \"texture\",\"perimeter\", \"area\"])\n",
    "\n",
    "# Display it nicely (only works for iPython).\n",
    "bc_data#display(bc_data)"
   ]
  },
  {
   "cell_type": "code",
   "execution_count": 94,
   "metadata": {
    "slideshow": {
     "slide_type": "slide"
    }
   },
   "outputs": [
    {
     "data": {
      "text/html": [
       "<div>\n",
       "<style scoped>\n",
       "    .dataframe tbody tr th:only-of-type {\n",
       "        vertical-align: middle;\n",
       "    }\n",
       "\n",
       "    .dataframe tbody tr th {\n",
       "        vertical-align: top;\n",
       "    }\n",
       "\n",
       "    .dataframe thead th {\n",
       "        text-align: right;\n",
       "    }\n",
       "</style>\n",
       "<table border=\"1\" class=\"dataframe\">\n",
       "  <thead>\n",
       "    <tr style=\"text-align: right;\">\n",
       "      <th></th>\n",
       "      <th>id</th>\n",
       "      <th>radius</th>\n",
       "      <th>texture</th>\n",
       "      <th>perimeter</th>\n",
       "      <th>area</th>\n",
       "    </tr>\n",
       "  </thead>\n",
       "  <tbody>\n",
       "    <tr>\n",
       "      <td>count</td>\n",
       "      <td>5.690000e+02</td>\n",
       "      <td>569.000000</td>\n",
       "      <td>569.000000</td>\n",
       "      <td>569.000000</td>\n",
       "      <td>569.000000</td>\n",
       "    </tr>\n",
       "    <tr>\n",
       "      <td>mean</td>\n",
       "      <td>3.037183e+07</td>\n",
       "      <td>14.127292</td>\n",
       "      <td>19.289649</td>\n",
       "      <td>91.969033</td>\n",
       "      <td>654.889104</td>\n",
       "    </tr>\n",
       "    <tr>\n",
       "      <td>std</td>\n",
       "      <td>1.250206e+08</td>\n",
       "      <td>3.524049</td>\n",
       "      <td>4.301036</td>\n",
       "      <td>24.298981</td>\n",
       "      <td>351.914129</td>\n",
       "    </tr>\n",
       "    <tr>\n",
       "      <td>min</td>\n",
       "      <td>8.670000e+03</td>\n",
       "      <td>6.981000</td>\n",
       "      <td>9.710000</td>\n",
       "      <td>43.790000</td>\n",
       "      <td>143.500000</td>\n",
       "    </tr>\n",
       "    <tr>\n",
       "      <td>25%</td>\n",
       "      <td>8.692180e+05</td>\n",
       "      <td>11.700000</td>\n",
       "      <td>16.170000</td>\n",
       "      <td>75.170000</td>\n",
       "      <td>420.300000</td>\n",
       "    </tr>\n",
       "    <tr>\n",
       "      <td>50%</td>\n",
       "      <td>9.060240e+05</td>\n",
       "      <td>13.370000</td>\n",
       "      <td>18.840000</td>\n",
       "      <td>86.240000</td>\n",
       "      <td>551.100000</td>\n",
       "    </tr>\n",
       "    <tr>\n",
       "      <td>75%</td>\n",
       "      <td>8.813129e+06</td>\n",
       "      <td>15.780000</td>\n",
       "      <td>21.800000</td>\n",
       "      <td>104.100000</td>\n",
       "      <td>782.700000</td>\n",
       "    </tr>\n",
       "    <tr>\n",
       "      <td>max</td>\n",
       "      <td>9.113205e+08</td>\n",
       "      <td>28.110000</td>\n",
       "      <td>39.280000</td>\n",
       "      <td>188.500000</td>\n",
       "      <td>2501.000000</td>\n",
       "    </tr>\n",
       "  </tbody>\n",
       "</table>\n",
       "</div>"
      ],
      "text/plain": [
       "                 id      radius     texture   perimeter         area\n",
       "count  5.690000e+02  569.000000  569.000000  569.000000   569.000000\n",
       "mean   3.037183e+07   14.127292   19.289649   91.969033   654.889104\n",
       "std    1.250206e+08    3.524049    4.301036   24.298981   351.914129\n",
       "min    8.670000e+03    6.981000    9.710000   43.790000   143.500000\n",
       "25%    8.692180e+05   11.700000   16.170000   75.170000   420.300000\n",
       "50%    9.060240e+05   13.370000   18.840000   86.240000   551.100000\n",
       "75%    8.813129e+06   15.780000   21.800000  104.100000   782.700000\n",
       "max    9.113205e+08   28.110000   39.280000  188.500000  2501.000000"
      ]
     },
     "execution_count": 94,
     "metadata": {},
     "output_type": "execute_result"
    }
   ],
   "source": [
    "# Print summary statistics for data.\n",
    "bc_data.describe()"
   ]
  },
  {
   "cell_type": "code",
   "execution_count": 95,
   "metadata": {
    "slideshow": {
     "slide_type": "slide"
    }
   },
   "outputs": [
    {
     "data": {
      "text/html": [
       "<div>\n",
       "<style scoped>\n",
       "    .dataframe tbody tr th:only-of-type {\n",
       "        vertical-align: middle;\n",
       "    }\n",
       "\n",
       "    .dataframe tbody tr th {\n",
       "        vertical-align: top;\n",
       "    }\n",
       "\n",
       "    .dataframe thead th {\n",
       "        text-align: right;\n",
       "    }\n",
       "</style>\n",
       "<table border=\"1\" class=\"dataframe\">\n",
       "  <thead>\n",
       "    <tr style=\"text-align: right;\">\n",
       "      <th></th>\n",
       "      <th>id</th>\n",
       "      <th>radius</th>\n",
       "      <th>texture</th>\n",
       "      <th>perimeter</th>\n",
       "      <th>area</th>\n",
       "    </tr>\n",
       "  </thead>\n",
       "  <tbody>\n",
       "    <tr>\n",
       "      <td>count</td>\n",
       "      <td>4.510000e+02</td>\n",
       "      <td>451.000000</td>\n",
       "      <td>451.000000</td>\n",
       "      <td>451.000000</td>\n",
       "      <td>451.000000</td>\n",
       "    </tr>\n",
       "    <tr>\n",
       "      <td>mean</td>\n",
       "      <td>3.196506e+07</td>\n",
       "      <td>15.161153</td>\n",
       "      <td>19.629601</td>\n",
       "      <td>98.989446</td>\n",
       "      <td>742.774058</td>\n",
       "    </tr>\n",
       "    <tr>\n",
       "      <td>std</td>\n",
       "      <td>1.272956e+08</td>\n",
       "      <td>3.201720</td>\n",
       "      <td>4.286837</td>\n",
       "      <td>22.259680</td>\n",
       "      <td>343.539481</td>\n",
       "    </tr>\n",
       "    <tr>\n",
       "      <td>min</td>\n",
       "      <td>8.670000e+03</td>\n",
       "      <td>11.410000</td>\n",
       "      <td>10.380000</td>\n",
       "      <td>73.020000</td>\n",
       "      <td>401.500000</td>\n",
       "    </tr>\n",
       "    <tr>\n",
       "      <td>25%</td>\n",
       "      <td>8.691640e+05</td>\n",
       "      <td>12.765000</td>\n",
       "      <td>16.600000</td>\n",
       "      <td>82.220000</td>\n",
       "      <td>501.900000</td>\n",
       "    </tr>\n",
       "    <tr>\n",
       "      <td>50%</td>\n",
       "      <td>9.079150e+05</td>\n",
       "      <td>14.190000</td>\n",
       "      <td>19.240000</td>\n",
       "      <td>92.250000</td>\n",
       "      <td>611.200000</td>\n",
       "    </tr>\n",
       "    <tr>\n",
       "      <td>75%</td>\n",
       "      <td>8.911164e+06</td>\n",
       "      <td>17.110000</td>\n",
       "      <td>22.135000</td>\n",
       "      <td>112.100000</td>\n",
       "      <td>919.600000</td>\n",
       "    </tr>\n",
       "    <tr>\n",
       "      <td>max</td>\n",
       "      <td>9.113205e+08</td>\n",
       "      <td>28.110000</td>\n",
       "      <td>39.280000</td>\n",
       "      <td>188.500000</td>\n",
       "      <td>2501.000000</td>\n",
       "    </tr>\n",
       "  </tbody>\n",
       "</table>\n",
       "</div>"
      ],
      "text/plain": [
       "                 id      radius     texture   perimeter         area\n",
       "count  4.510000e+02  451.000000  451.000000  451.000000   451.000000\n",
       "mean   3.196506e+07   15.161153   19.629601   98.989446   742.774058\n",
       "std    1.272956e+08    3.201720    4.286837   22.259680   343.539481\n",
       "min    8.670000e+03   11.410000   10.380000   73.020000   401.500000\n",
       "25%    8.691640e+05   12.765000   16.600000   82.220000   501.900000\n",
       "50%    9.079150e+05   14.190000   19.240000   92.250000   611.200000\n",
       "75%    8.911164e+06   17.110000   22.135000  112.100000   919.600000\n",
       "max    9.113205e+08   28.110000   39.280000  188.500000  2501.000000"
      ]
     },
     "execution_count": 95,
     "metadata": {},
     "output_type": "execute_result"
    }
   ],
   "source": [
    "bc_data.loc[bc_data['area'] > 400,:].describe()"
   ]
  },
  {
   "cell_type": "code",
   "execution_count": 96,
   "metadata": {
    "slideshow": {
     "slide_type": "slide"
    }
   },
   "outputs": [
    {
     "data": {
      "text/plain": [
       "0      122.80\n",
       "1      132.90\n",
       "2      130.00\n",
       "4      135.10\n",
       "5       82.57\n",
       "        ...  \n",
       "563    143.00\n",
       "564    142.00\n",
       "565    131.20\n",
       "566    108.30\n",
       "567    140.10\n",
       "Name: perimeter, Length: 451, dtype: float64"
      ]
     },
     "execution_count": 96,
     "metadata": {},
     "output_type": "execute_result"
    }
   ],
   "source": [
    "bc_data.loc[bc_data['area'] > 400,\"perimeter\"]"
   ]
  },
  {
   "cell_type": "code",
   "execution_count": 97,
   "metadata": {
    "slideshow": {
     "slide_type": "slide"
    }
   },
   "outputs": [
    {
     "data": {
      "text/plain": [
       "radius    14.127292\n",
       "dtype: float64"
      ]
     },
     "execution_count": 97,
     "metadata": {},
     "output_type": "execute_result"
    }
   ],
   "source": [
    "# Get the mean of a single column.\n",
    "bc_data[[\"radius\"]].mean(axis=0)"
   ]
  },
  {
   "cell_type": "markdown",
   "metadata": {},
   "source": [
    "# Fitting Linear Regression Models"
   ]
  },
  {
   "cell_type": "code",
   "execution_count": 98,
   "metadata": {},
   "outputs": [],
   "source": [
    "import pandas as pd\n",
    "X=pd.get_dummies(bc_data['malignant/benign'].values).values[:,-1]\n",
    "y=bc_data['radius'].values"
   ]
  },
  {
   "cell_type": "code",
   "execution_count": 99,
   "metadata": {},
   "outputs": [
    {
     "data": {
      "text/plain": [
       "LinregressResult(slope=5.316306379155423, intercept=12.146523809523815, rvalue=0.7300285113754557, pvalue=8.46594057226917e-96, stderr=0.2090086359566787)"
      ]
     },
     "execution_count": 99,
     "metadata": {},
     "output_type": "execute_result"
    }
   ],
   "source": [
    "from scipy.stats import linregress\n",
    "linregress(x=X,y=y)"
   ]
  },
  {
   "cell_type": "code",
   "execution_count": 100,
   "metadata": {},
   "outputs": [
    {
     "name": "stdout",
     "output_type": "stream",
     "text": [
      "                            OLS Regression Results                            \n",
      "==============================================================================\n",
      "Dep. Variable:                      y   R-squared:                       0.533\n",
      "Model:                            OLS   Adj. R-squared:                  0.532\n",
      "Method:                 Least Squares   F-statistic:                     647.0\n",
      "Date:                Mon, 30 Mar 2020   Prob (F-statistic):           8.47e-96\n",
      "Time:                        18:12:05   Log-Likelihood:                -1307.0\n",
      "No. Observations:                 569   AIC:                             2618.\n",
      "Df Residuals:                     567   BIC:                             2627.\n",
      "Df Model:                           1                                         \n",
      "Covariance Type:            nonrobust                                         \n",
      "==============================================================================\n",
      "                 coef    std err          t      P>|t|      [0.025      0.975]\n",
      "------------------------------------------------------------------------------\n",
      "const         12.1465      0.128     95.209      0.000      11.896      12.397\n",
      "x1             5.3163      0.209     25.436      0.000       4.906       5.727\n",
      "==============================================================================\n",
      "Omnibus:                       35.563   Durbin-Watson:                   1.801\n",
      "Prob(Omnibus):                  0.000   Jarque-Bera (JB):               64.567\n",
      "Skew:                           0.414   Prob(JB):                     9.54e-15\n",
      "Kurtosis:                       4.427   Cond. No.                         2.43\n",
      "==============================================================================\n",
      "\n",
      "Warnings:\n",
      "[1] Standard Errors assume that the covariance matrix of the errors is correctly specified.\n"
     ]
    }
   ],
   "source": [
    "import statsmodels.api as sm\n",
    "X = sm.add_constant(X)\n",
    "model = sm.OLS(y, X)\n",
    "results = model.fit()\n",
    "print(results.summary())"
   ]
  },
  {
   "cell_type": "code",
   "execution_count": 105,
   "metadata": {
    "slideshow": {
     "slide_type": "slide"
    }
   },
   "outputs": [
    {
     "name": "stdout",
     "output_type": "stream",
     "text": [
      "The coefficient is 5.316306379155436\n",
      "[17.46283019 17.46283019 17.46283019 17.46283019 17.46283019 17.46283019\n",
      " 17.46283019 17.46283019 17.46283019 12.14652381 12.14652381 12.14652381\n",
      " 17.46283019 17.46283019 17.46283019]\n"
     ]
    }
   ],
   "source": [
    "from sklearn.linear_model import LinearRegression # from scipy.stats import linregress\n",
    "model = LinearRegression().fit(X[:,1].reshape(-1,1),y) # .astype('category').cat.codes\n",
    "coefficient=model.coef_[0]\n",
    "print(f\"The coefficient is {coefficient}\")\n",
    "print(model.predict(X[:,1].reshape(-1,1))[10:25])"
   ]
  },
  {
   "cell_type": "markdown",
   "metadata": {},
   "source": [
    "# And many more libraries to explore!!!!\n",
    "<img width=400 src=\"https://images.squarespace-cdn.com/content/v1/52f51a96e4b0ec7646cd474a/1512149310043-CC8IBHUQLOI0PWMLYH2V/ke17ZwdGBToddI8pDm48kGDpvalPb1SqHoCn1hwN0Y57gQa3H78H3Y0txjaiv_0fDoOvxcdMmMKkDsyUqMSsMWxHk725yiiHCCLfrh8O1z5QHyNOqBUUEtDDsRWrJLTmQPoRzxSr1hzN-vPBHt7YyLLXgctAyUJRqJUUGWVDK_ZzIgvsybGcZEPqUYiXY8im/OTP-deluxe-2.jpg\" />"
   ]
  },
  {
   "cell_type": "markdown",
   "metadata": {
    "slideshow": {
     "slide_type": "slide"
    }
   },
   "source": [
    "# A useful program"
   ]
  },
  {
   "cell_type": "code",
   "execution_count": 106,
   "metadata": {
    "slideshow": {
     "slide_type": "-"
    }
   },
   "outputs": [],
   "source": [
    "from pandas import DataFrame \n",
    "from pandas import read_csv\n",
    "from IPython.display import display\n",
    "\n",
    "# Mock up some data. bed style format\n",
    "coordinates = [[\"chr1\", 100, 900], \n",
    "               [\"chr1\", 300, 3000], \n",
    "               [\"chr2\", 300, 700], \n",
    "               [\"chr2\", 900, 1100], \n",
    "               [\"chr3\", 400, 800], \n",
    "               [\"chr3\", 3000, 4000]]\n",
    "\n",
    "# Turn the data into a Pandas DataFrame.\n",
    "coordinates = DataFrame(coordinates, columns=[\"chrom\", \"start\", \"end\"])\n",
    "\n",
    "# Convert integer columns to ints.\n",
    "coordinates[['start', 'end']] = coordinates[['start', 'end']].astype(int)"
   ]
  },
  {
   "cell_type": "code",
   "execution_count": 107,
   "metadata": {
    "slideshow": {
     "slide_type": "slide"
    }
   },
   "outputs": [
    {
     "data": {
      "text/html": [
       "<div>\n",
       "<style scoped>\n",
       "    .dataframe tbody tr th:only-of-type {\n",
       "        vertical-align: middle;\n",
       "    }\n",
       "\n",
       "    .dataframe tbody tr th {\n",
       "        vertical-align: top;\n",
       "    }\n",
       "\n",
       "    .dataframe thead th {\n",
       "        text-align: right;\n",
       "    }\n",
       "</style>\n",
       "<table border=\"1\" class=\"dataframe\">\n",
       "  <thead>\n",
       "    <tr style=\"text-align: right;\">\n",
       "      <th></th>\n",
       "      <th>chrom</th>\n",
       "      <th>start</th>\n",
       "      <th>end</th>\n",
       "    </tr>\n",
       "  </thead>\n",
       "  <tbody>\n",
       "    <tr>\n",
       "      <td>0</td>\n",
       "      <td>chr1</td>\n",
       "      <td>100</td>\n",
       "      <td>900</td>\n",
       "    </tr>\n",
       "    <tr>\n",
       "      <td>1</td>\n",
       "      <td>chr1</td>\n",
       "      <td>300</td>\n",
       "      <td>3000</td>\n",
       "    </tr>\n",
       "    <tr>\n",
       "      <td>2</td>\n",
       "      <td>chr2</td>\n",
       "      <td>300</td>\n",
       "      <td>700</td>\n",
       "    </tr>\n",
       "    <tr>\n",
       "      <td>3</td>\n",
       "      <td>chr2</td>\n",
       "      <td>900</td>\n",
       "      <td>1100</td>\n",
       "    </tr>\n",
       "    <tr>\n",
       "      <td>4</td>\n",
       "      <td>chr3</td>\n",
       "      <td>400</td>\n",
       "      <td>800</td>\n",
       "    </tr>\n",
       "    <tr>\n",
       "      <td>5</td>\n",
       "      <td>chr3</td>\n",
       "      <td>3000</td>\n",
       "      <td>4000</td>\n",
       "    </tr>\n",
       "  </tbody>\n",
       "</table>\n",
       "</div>"
      ],
      "text/plain": [
       "  chrom  start   end\n",
       "0  chr1    100   900\n",
       "1  chr1    300  3000\n",
       "2  chr2    300   700\n",
       "3  chr2    900  1100\n",
       "4  chr3    400   800\n",
       "5  chr3   3000  4000"
      ]
     },
     "metadata": {},
     "output_type": "display_data"
    }
   ],
   "source": [
    "display(coordinates)\n",
    "\n",
    "# Create a target to search for.\n",
    "target = (\"chr2\", 500, 3500)"
   ]
  },
  {
   "cell_type": "code",
   "execution_count": 109,
   "metadata": {
    "slideshow": {
     "slide_type": "slide"
    }
   },
   "outputs": [
    {
     "data": {
      "text/html": [
       "<div>\n",
       "<style scoped>\n",
       "    .dataframe tbody tr th:only-of-type {\n",
       "        vertical-align: middle;\n",
       "    }\n",
       "\n",
       "    .dataframe tbody tr th {\n",
       "        vertical-align: top;\n",
       "    }\n",
       "\n",
       "    .dataframe thead th {\n",
       "        text-align: right;\n",
       "    }\n",
       "</style>\n",
       "<table border=\"1\" class=\"dataframe\">\n",
       "  <thead>\n",
       "    <tr style=\"text-align: right;\">\n",
       "      <th></th>\n",
       "      <th>chrom</th>\n",
       "      <th>start</th>\n",
       "      <th>end</th>\n",
       "    </tr>\n",
       "  </thead>\n",
       "  <tbody>\n",
       "    <tr>\n",
       "      <td>0</td>\n",
       "      <td>chr2</td>\n",
       "      <td>500</td>\n",
       "      <td>700</td>\n",
       "    </tr>\n",
       "    <tr>\n",
       "      <td>1</td>\n",
       "      <td>chr2</td>\n",
       "      <td>900</td>\n",
       "      <td>1100</td>\n",
       "    </tr>\n",
       "  </tbody>\n",
       "</table>\n",
       "</div>"
      ],
      "text/plain": [
       "  chrom  start   end\n",
       "0  chr2    500   700\n",
       "1  chr2    900  1100"
      ]
     },
     "metadata": {},
     "output_type": "display_data"
    }
   ],
   "source": [
    "def find_overlaps(data, target):\n",
    "    # Find regions in our data that overlap the target.\n",
    "    result = []\n",
    "    \n",
    "    # Traverse rows in DataFrame\n",
    "    for i in range(len(data.index)):\n",
    "        # Only continue to search if target and row are on same chromosome.\n",
    "        if target[0] == data.iloc[i,0]:\n",
    "            # If target begin coordinate is between begin and end of row.\n",
    "            if target[1] >= data.iloc[i,1] and target[1] <= data.iloc[i,2]:\n",
    "                if target[2] > data.iloc[i, 2]:\n",
    "                    result.append([target[0], target[1], data.iloc[i,2]])\n",
    "                else:\n",
    "                    result.append([target[0], target[1], target[2]])\n",
    "            # Else if target begin is before row begin, but target end is between \n",
    "            # row begin and end.\n",
    "            elif target[1] <= data.iloc[i,1] and target[2] <= data.iloc[i,2]:\n",
    "                if target[2] >= data.iloc[i,1]:\n",
    "                    result.append([target[0], target[1], data.iloc[i,2]])\n",
    "            # Else if row begin and end are between target begin and end.\n",
    "            elif target[1] <= data.iloc[i,1] and target[2] >= data.iloc[i,2]:\n",
    "                result.append([target[0], data.iloc[i,1], data.iloc[i,2]])\n",
    "\n",
    "    # Turn result into a DataFrame\n",
    "    result = DataFrame(result, columns=[\"chrom\", \"start\", \"end\"])\n",
    "    \n",
    "    return result\n",
    "    \n",
    "display(find_overlaps(coordinates, target))"
   ]
  },
  {
   "cell_type": "markdown",
   "metadata": {},
   "source": [
    "# Aliasing vs Copying"
   ]
  },
  {
   "cell_type": "code",
   "execution_count": 110,
   "metadata": {},
   "outputs": [],
   "source": [
    "a=1\n",
    "\n",
    "l1=[1,4,'r',a]\n",
    "\n",
    "l2=l1"
   ]
  },
  {
   "cell_type": "code",
   "execution_count": 111,
   "metadata": {},
   "outputs": [
    {
     "data": {
      "text/plain": [
       "[1, 4, 'r', 1]"
      ]
     },
     "execution_count": 111,
     "metadata": {},
     "output_type": "execute_result"
    }
   ],
   "source": [
    "l1"
   ]
  },
  {
   "cell_type": "code",
   "execution_count": 112,
   "metadata": {},
   "outputs": [
    {
     "data": {
      "text/plain": [
       "[1, 4, 'r', 1]"
      ]
     },
     "execution_count": 112,
     "metadata": {},
     "output_type": "execute_result"
    }
   ],
   "source": [
    "l2"
   ]
  },
  {
   "cell_type": "code",
   "execution_count": 113,
   "metadata": {},
   "outputs": [],
   "source": [
    "l1[-1]=3"
   ]
  },
  {
   "cell_type": "code",
   "execution_count": 114,
   "metadata": {},
   "outputs": [
    {
     "name": "stdout",
     "output_type": "stream",
     "text": [
      "[1, 4, 'r', 3] [1, 4, 'r', 3]\n"
     ]
    }
   ],
   "source": [
    "print(l1,l2)"
   ]
  },
  {
   "cell_type": "code",
   "execution_count": 115,
   "metadata": {},
   "outputs": [
    {
     "name": "stdout",
     "output_type": "stream",
     "text": [
      "[1, 4, 'r', 3] [1, 4, 'r', 1]\n"
     ]
    }
   ],
   "source": [
    "import copy\n",
    "l1=[1,4,'r',a]\n",
    "l2=copy.deepcopy(l1)\n",
    "l1[-1]=3\n",
    "print(l1,l2)"
   ]
  },
  {
   "cell_type": "markdown",
   "metadata": {},
   "source": [
    "# Tuples"
   ]
  },
  {
   "cell_type": "code",
   "execution_count": 116,
   "metadata": {},
   "outputs": [
    {
     "data": {
      "text/plain": [
       "(1, 2, 43)"
      ]
     },
     "execution_count": 116,
     "metadata": {},
     "output_type": "execute_result"
    }
   ],
   "source": [
    "t=(1,2,43)\n",
    "t"
   ]
  },
  {
   "cell_type": "markdown",
   "metadata": {},
   "source": [
    "# Plotting"
   ]
  },
  {
   "cell_type": "code",
   "execution_count": 117,
   "metadata": {},
   "outputs": [
    {
     "data": {
      "text/plain": [
       "<matplotlib.axes._subplots.AxesSubplot at 0x12ba5dc50>"
      ]
     },
     "execution_count": 117,
     "metadata": {},
     "output_type": "execute_result"
    },
    {
     "data": {
      "image/png": "[encoded data removed]",
      "text/plain": [
       "<Figure size 432x288 with 1 Axes>"
      ]
     },
     "metadata": {
      "needs_background": "light"
     },
     "output_type": "display_data"
    }
   ],
   "source": [
    "import matplotlib\n",
    "import matplotlib.pyplot as plt\n",
    "import seaborn as sns\n",
    "%matplotlib inline\n",
    "bc_data['texture'].plot.hist()"
   ]
  },
  {
   "cell_type": "code",
   "execution_count": 119,
   "metadata": {},
   "outputs": [
    {
     "data": {
      "text/plain": [
       "Text(0.5, 1.0, \"Am I cool? I don't know\")"
      ]
     },
     "execution_count": 119,
     "metadata": {},
     "output_type": "execute_result"
    },
    {
     "data": {
      "image/png": "[encoded data removed]",
      "text/plain": [
       "<Figure size 432x288 with 1 Axes>"
      ]
     },
     "metadata": {},
     "output_type": "display_data"
    }
   ],
   "source": [
    "matplotlib.pyplot.xkcd()\n",
    "bc_data['texture'].plot.hist()\n",
    "plt.title('Am I cool? I don\\'t know')"
   ]
  },
  {
   "cell_type": "code",
   "execution_count": 120,
   "metadata": {},
   "outputs": [
    {
     "data": {
      "image/png": "[encoded data removed]",
      "text/plain": [
       "<Figure size 432x288 with 1 Axes>"
      ]
     },
     "metadata": {},
     "output_type": "display_data"
    }
   ],
   "source": [
    "sns.distplot(bc_data['texture'])\n",
    "sns.despine()"
   ]
  },
  {
   "cell_type": "code",
   "execution_count": 121,
   "metadata": {},
   "outputs": [
    {
     "data": {
      "image/png": "[encoded data removed]",
      "text/plain": [
       "<Figure size 2450x1750 with 1 Axes>"
      ]
     },
     "metadata": {},
     "output_type": "display_data"
    }
   ],
   "source": [
    "matplotlib.pyplot.xkcd(False)\n",
    "matplotlib.rcParams['figure.dpi']=300\n",
    "plt.figure(figsize=(7,5),dpi=350)\n",
    "sns.set(style='white')\n",
    "sns.distplot(bc_data['texture'])\n",
    "sns.despine()"
   ]
  },
  {
   "cell_type": "code",
   "execution_count": 122,
   "metadata": {},
   "outputs": [
    {
     "data": {
      "text/plain": [
       "<matplotlib.collections.PathCollection at 0x12d1f9c90>"
      ]
     },
     "execution_count": 122,
     "metadata": {},
     "output_type": "execute_result"
    },
    {
     "data": {
      "image/png": "[encoded data removed]",
      "text/plain": [
       "<Figure size 1800x1200 with 2 Axes>"
      ]
     },
     "metadata": {},
     "output_type": "display_data"
    }
   ],
   "source": [
    "plt.subplot(121)\n",
    "sns.boxenplot(x='texture',data=bc_data)\n",
    "plt.subplot(122)\n",
    "plt.scatter(bc_data['texture'],bc_data['area'])\n"
   ]
  },
  {
   "cell_type": "code",
   "execution_count": 123,
   "metadata": {},
   "outputs": [
    {
     "data": {
      "text/plain": [
       "Text(0.5, 99.9999999999999, 'Perimeter!')"
      ]
     },
     "execution_count": 123,
     "metadata": {},
     "output_type": "execute_result"
    },
    {
     "data": {
      "image/png": "[encoded data removed]",
      "text/plain": [
       "<Figure size 1859.79x1500 with 1 Axes>"
      ]
     },
     "metadata": {},
     "output_type": "display_data"
    }
   ],
   "source": [
    "sns.lmplot(x='perimeter',y='area',data=bc_data,hue='malignant/benign')\n",
    "plt.xlabel('Perimeter!')"
   ]
  },
  {
   "cell_type": "code",
   "execution_count": 124,
   "metadata": {},
   "outputs": [
    {
     "name": "stdout",
     "output_type": "stream",
     "text": [
      "--2020-03-30 18:15:34--  https://web.stanford.edu/~hastie/CASI_files/DATA/leukemia_small.csv\n",
      "Resolving web.stanford.edu (web.stanford.edu)... 171.67.215.200\n",
      "Connecting to web.stanford.edu (web.stanford.edu)|171.67.215.200|:443... connected.\n",
      "HTTP request sent, awaiting response... 200 OK\n",
      "Length: 3193962 (3.0M) [text/csv]\n",
      "Saving to: ‘leukemia_small.csv’\n",
      "\n",
      "leukemia_small.csv  100%[===================>]   3.05M   176KB/s    in 12s     \n",
      "\n",
      "2020-03-30 18:15:48 (254 KB/s) - ‘leukemia_small.csv’ saved [3193962/3193962]\n",
      "\n"
     ]
    }
   ],
   "source": [
    "! wget https://web.stanford.edu/~hastie/CASI_files/DATA/leukemia_small.csv"
   ]
  },
  {
   "cell_type": "code",
   "execution_count": 125,
   "metadata": {},
   "outputs": [],
   "source": [
    "gene_expression=pd.read_csv('leukemia_small.csv').T"
   ]
  },
  {
   "cell_type": "code",
   "execution_count": 127,
   "metadata": {},
   "outputs": [],
   "source": [
    "import plotly.offline as py\n",
    "import plotly.express as px\n",
    "import umap#import ncvis "
   ]
  },
  {
   "cell_type": "code",
   "execution_count": 128,
   "metadata": {},
   "outputs": [],
   "source": [
    "t_data=pd.DataFrame(umap.UMAP(n_components=3,random_state=42).fit_transform(gene_expression),columns=['x','y','z'])"
   ]
  },
  {
   "cell_type": "code",
   "execution_count": 129,
   "metadata": {},
   "outputs": [
    {
     "data": {
      "text/plain": [
       "'temp-plot.html'"
      ]
     },
     "execution_count": 129,
     "metadata": {},
     "output_type": "execute_result"
    }
   ],
   "source": [
    "fig=px.scatter_3d(t_data,x='x',y='y',z='z')\n",
    "py.plot(fig,'gene_expression.html')"
   ]
  },
  {
   "cell_type": "markdown",
   "metadata": {},
   "source": [
    "# File I/O"
   ]
  },
  {
   "cell_type": "code",
   "execution_count": 130,
   "metadata": {},
   "outputs": [
    {
     "name": "stdout",
     "output_type": "stream",
     "text": [
      "--2020-03-30 18:16:27--  https://ftp.ncbi.nih.gov/genomes/genbank/other/mixed_sample/latest_assembly_versions/GCA_900617955.1_HIFI_SE400_contigs.fasta/GCA_900617955.1_HIFI_SE400_contigs.fasta_genomic.fna.gz\n",
      "Resolving ftp.ncbi.nih.gov (ftp.ncbi.nih.gov)... 130.14.250.12\n",
      "Connecting to ftp.ncbi.nih.gov (ftp.ncbi.nih.gov)|130.14.250.12|:443... connected.\n",
      "HTTP request sent, awaiting response... 200 OK\n",
      "Length: 6645 (6.5K) [application/x-gzip]\n",
      "Saving to: ‘GCA_900617955.1_HIFI_SE400_contigs.fasta_genomic.fna.gz’\n",
      "\n",
      "GCA_900617955.1_HIF 100%[===================>]   6.49K  --.-KB/s    in 0.002s  \n",
      "\n",
      "2020-03-30 18:16:28 (3.25 MB/s) - ‘GCA_900617955.1_HIFI_SE400_contigs.fasta_genomic.fna.gz’ saved [6645/6645]\n",
      "\n"
     ]
    }
   ],
   "source": [
    "! wget https://ftp.ncbi.nih.gov/genomes/genbank/other/mixed_sample/latest_assembly_versions/GCA_900617955.1_HIFI_SE400_contigs.fasta/GCA_900617955.1_HIFI_SE400_contigs.fasta_genomic.fna.gz && gzip -d GCA_900617955.1_HIFI_SE400_contigs.fasta_genomic.fna.gz  "
   ]
  },
  {
   "cell_type": "code",
   "execution_count": 131,
   "metadata": {},
   "outputs": [],
   "source": [
    "file_object = open('GCA_900617955.1_HIFI_SE400_contigs.fasta_genomic.fna','r')"
   ]
  },
  {
   "cell_type": "code",
   "execution_count": 132,
   "metadata": {},
   "outputs": [
    {
     "data": {
      "text/plain": [
       "'>UYII01000082.1 mixed sample genome assembly, contig: 094_1-1;2326_153;size=1239.5;overPos=83;oid=98.80%;len=717, whole genome shotgun sequence\\n'"
      ]
     },
     "execution_count": 132,
     "metadata": {},
     "output_type": "execute_result"
    }
   ],
   "source": [
    "file_object.readline()"
   ]
  },
  {
   "cell_type": "code",
   "execution_count": 133,
   "metadata": {},
   "outputs": [
    {
     "data": {
      "text/plain": [
       "'TGCAGGTCAACAAATCATAAAGATATTGGAACCTTATATTTTCTTTTTGGTGCTTGATCAGGTATGGTCGGTACATCTCT\\n'"
      ]
     },
     "execution_count": 133,
     "metadata": {},
     "output_type": "execute_result"
    }
   ],
   "source": [
    "file_object.readline()"
   ]
  },
  {
   "cell_type": "code",
   "execution_count": 134,
   "metadata": {},
   "outputs": [
    {
     "name": "stdout",
     "output_type": "stream",
     "text": [
      "TAGTTTATTAATTCGTGCTGAATTAGGTCAACCTGGGTCATTAATTGGGGATGACCAAATTTATAATGTAATTGTAACAG\n",
      "\n",
      "CTCATGCATTTGTAATAATTTTTTTTATGGTAATACCAATTATAATTGGAGGATTTGGTAATTGACTTGTTCCTCTTATA\n",
      "\n",
      "CTTGGAGCCCCTGATATAGCCTTCCCTCGAATAAATAATATAAGATTTTGATTATTACCACCTTCATTAACTTTACTCTT\n",
      "\n"
     ]
    }
   ],
   "source": [
    "i=0\n",
    "for line in file_object:\n",
    "    print(line)\n",
    "    i+=1\n",
    "    if i==3:\n",
    "        break"
   ]
  },
  {
   "cell_type": "code",
   "execution_count": 135,
   "metadata": {},
   "outputs": [],
   "source": [
    "with open('GCA_900617955.1_HIFI_SE400_contigs.fasta_genomic.fna','r') as f:\n",
    "    genome_text=f.read().splitlines()"
   ]
  },
  {
   "cell_type": "code",
   "execution_count": 136,
   "metadata": {},
   "outputs": [],
   "source": [
    "from collections import defaultdict\n",
    "fasta_dictionary=defaultdict(lambda : '')\n",
    "seqname=''\n",
    "for line in genome_text:\n",
    "    if line.startswith('>'):\n",
    "        seqname=line.split()[0][1:]\n",
    "        continue\n",
    "    fasta_dictionary[seqname]+=line"
   ]
  },
  {
   "cell_type": "code",
   "execution_count": 137,
   "metadata": {},
   "outputs": [
    {
     "data": {
      "text/plain": [
       "{'UYII01000082.1': 'TGCAGGTCAACAAATCATAAAGATATTGGAACCTTATATTTTCTTTTTGGTGCTTGATCAGGTATGGTCGGTACATCTCTTAGTTTATTAATTCGTGCTGAATTAGGTCAACCTGGGTCATTAATTGGGGATGACCAAATTTATAATGTAATTGTAACAGCTCATGCATTTGTAATAATTTTTTTTATGGTAATACCAATTATAATTGGAGGATTTGGTAATTGACTTGTTCCTCTTATACTTGGAGCCCCTGATATAGCCTTCCCTCGAATAAATAATATAAGATTTTGATTATTACCACCTTCATTAACTTTACTCTTATCTAGCTCTTTTGTCGAAAGAGGTGCCGGGACCGGTTGAACCGTATACCCCCCACTAGCCTCAGGAATTGCCCATGCAGGAGCTTCCGTTGATTTAGCCATTTTTAGTTTACATCTTGCGGGGGTATCTTCAATTTTAGGTGCAGTCAATTTTATTACTACTGTTATTAATATACGATCCCCTGGTATAACATTTGATCGAATACCTCTTTTTGTATGATCAGTAGCAATTACTGCTCTTCTTCTTCTATTATCTTTACCAGTTTTAGCTGGAGCAATTACTATACTACTTACAGATCGAAATTTAAATACATCATTTTTTGATCCTGCAGGAGGAGGAGACCCAATTCTTTATCAACACTTATTTTGATTTTTTGGTCACCCTGAAGTTTATGCA',\n",
       " 'UYII01000078.1': 'TACGGGTCAACAAATCATAAAGATATTGGAACTTTATACTTTCTCTTTGGTGCTTGATCAGGAATAGTAGGTACATCTCTAAGTTTATTAATTCGTGCTGAGTTAGGTCAACCCGGTTCATTAATTGGAGACGACCAAATTTATAATGTAATTGTAACTGCTCATGCTTTTGTAATAATTTTTTTTATAGTTATACCTATTATAATTGGTGGATTTGGAAACTGACTTGTTCCCTTAATACTAGGAGCCCCTGATATAGCCTTTCCTCGTATAAATAATATAAGATTTTGATTACTTCCCCCTTCTTTAACCCTTCTCTTATCGAGCTCTTTCGTTGAAAGAGGGGCTGGGACAGGTTGAACCGTTTACCCACCATTAGCCTCAGGAATTGCCCATGCAGGAGCTTCGGTTGATTTAGCCATTTTTAGCCTTCATCTCGCAGGTGTATCTTCTATTTTAGGGGCAGTCAATTTTATTACTACCGTAATTAACATACGATCCCCTGGAATAACATTTGATCGAATACCTTTATTTGTTTGATCAGTAACTATTACTGCCCTTCTTCTTCTTTTATCCCTCCCAGTTTTAGCGGGAGCAATTACTATATTATTAACTGATCGAAATTTAAATACATCCTTCTTCGACCCTGCGGGTGGGGGAGATCCTATTCTCTATCAACATTTATTTTGATTTTTTGGTCACCCTGAAGTTTACGTA',\n",
       " 'UYII01000077.1': 'GTGTGGTCAACAAATCATAAAGATATTGGAACTTTATACTTTCTCTTTGGTGCTTGATCAGGAATAGTAGGTACATCTCTAAGTTTATTAATTCGTGCTGAATTAGGTCAACCCGGTTCATTAATTGGAGACGACCAAATTTATAATGTAATTGTAACTGCTCATGCTTTTGTAATAATTTTTTTTATAGTTATACCTATTATAATTGGTGGATTTGGAAACTGACTTGTTCCCTTAATACTAGGAGCCCCTGATATAGCCTTTCCTCGTATAAATAATATAAGATTTTGATTACTTCCCCCTTCTTTAACCCTTCTCTTATCGAGCTCTTTCGTTGAAAGAGGGGCTGGGACAGGTTGAACCGTTTACCCACCATTAGCCTCAGGAATTGCCCATGCAGGAGCTTCGGTTGATTTAGCCATTTTTAGCCTTCATCTCGCAGGTGTATCTTCTATTTTAGGGGCAGTCAATTTTATTACTACCGTAATTAACATACGATCCCCTGGAATAACATTTGATCGAATACCTTTATTTGTTTGATCAGTAGCTATTACTGCCCTTCTTCTTCTTTTATCCCTCCCAGTTTTAGCGGGAGCAATTACTATATTATTAACTGATCGAAATTTAAATACATCCTTCTTCGACCCTGCGGGTGGGGGAGATCCTATTCTCTATCAACATTTATTTTGATTTTTTGGTCACCCTGAAGTTTAACAC',\n",
       " 'UYII01000081.1': 'TGACGGTCAACAAATCATAAAGATATTGGAACCTTATATTTTCTTTTTGGTGCTTGATCAGGTATGGTCGGTACATCTCTTAGTTTATTAATTCGTGCTGAATTAGGTCAACCTGGGTCATTAATTGGGGATGACCAAATTTATAATGTAATTGTAACAGCTCATGCATTTGTAATAATTTTTTTTATGGTAATACCAATTATAATTGGAGGATTTGGTAATTGACTTGTTCCTCTTATACTTGGAGCCCCTGATATAGCCTTCCCTCGAATAAATAATATAAGATTTTGATTATTACCACCTTCATTAACTTTACTCTTATCTAGCTCTTTTGTCGAAAGAGGTGCCGGGACCGGTTGAACCGTATACCCCCCACTAGCCTCAGGAATTGCCCATGCAGGAGCTTCCGTTGATTTAGCCATTTTTAGTTTACATCTTGCGGGGGTATCTTCAATTTTAGGTGCAGTCAATTTTATTACTACTGTTATTAATATACGATCCCCTGGTATAACATTTGATCGAATACCTCTTTTTGTATGATCAGTAGCAATTACTGCTCTTCTTCTTCTATTATCTTTACCAGTTTTAGCTGGAGCAATTACTATACTACTTACAGATCGAAATTTAAATACATCATTTTTTGATCCTGCAGGAGGAGGAGACCCAATTCTTTATCAACACTTATTTTGATTTTTTGGTCACCCTGAAGTTTAGTCA',\n",
       " 'UYII01000076.1': 'GTCAGGTCAACAAATCATAAAGATATTGGAACTTTATACTTTCTCTTTGGTGCTTGATCAGGAATAGTAGGTACATCTCTAAGTTTATTAATTCGTGCTGAATTAGGTCAACCCGGTTCATTAATTGGAGACGACCAAATTTATAATGTAATTGTAACTGCTCATGCTTTTGTAATAATTTTTTTTATAGTTATACCTATTATAATTGGTGGATTTGGAAACTGACTTGTTCCCTTAATACTAGGAGCCCCTGATATAGCCTTTCCTCGTATAAATAATATAAGATTTTGATTACTTCCCCCTTCTTTAACCCTTCTCTTATCGAGCTCTTTCGTTGAAAGAGGGGCTGGGACAGGTTGAACCGTTTACCCACCATTAGCCTCAGGAATTGCCCATGCAGGAGCTTCGGTTGATTTAGCCATTTTTAGCCTTCATCTCGCAGGTGTATCTTCTATTTTAGGGGCAGTCAATTTTATTACTACCGTAATTAACATACGATCCCCTGGAATAACATTTGATCGAATACCTTTATTTGTTTGATCAGTAGCTATTACTGCCCTTCTTCTTCTTTTATCCCTCCCAGTTTTAGCGGGAGCAATTACTATATTATTAACTGATCGAAATTTAAATACATCCTTCTTCGACCCTGCGGGTGGGGGAGATCCTATTCTCTATCAACATTTATTTTGATTTTTTGGTCACCCTGAAGTTTATGAC',\n",
       " 'UYII01000074.1': 'GGAAGGTCAACAAATCATAAAGATATTGGAACTTTATACTTTCTCTTTGGTGCTTGATCAGGAATAGTAGGTACATCTCTAAGTTTATTAATTCGTGCTGAATTAGGTCAACCCGGTTCATTAATTGGAGACGACCAAATTTATAATGTAATTGTAACTGCTCATGCTTTTGTAATAATTTTTTTTATAGTTATACCTATTATAATTGGTGGATTTGGAAACTGACTTGTTCCCTTAATACTAGGAGCCCCTGATATAGCCTTTCCTCGTATAAATAATATAAGATTTTGATTACTTCCCCCTTCTTTAACCCTTCTCTTATCGAGCTCTTTCGTTGAAAGAGGGGCTGGGACAGGTTGAACCGTTTACCCACCATTAGCCTCAGGAATTGCCCATGCAGGAGCTTCGGTTGATTTAGCCATTTTTAGCCTTCATCTCGCAGGTGTATCTTCTATTTTAGGGGCAGTCAATTTTATTACTACCGTAATTAACATACGATCCCCTGGAATAACATTTGATCGAATACCTTTATTTGTTTGATCAGTAGCTATTACTGCCCTTCTTCTTCTTTTATCCCTCCCAGTTTTAGCGGGAGCAATTACTATATTATTAACTGATCGAAATTTAAATACATCCTTCTTCGACCCTGCGGGTGGGGGAGATCCTATTCTCTATCAACATTTATTTTGATTTTTTGGTCACCCTGAAGTTTATTCC',\n",
       " 'UYII01000073.1': 'GCTAGGTCAACAAATCATAAAGATATTGGAACTTTATACTTTCTCTTTGGTGCTTGATCAGGAATAGTAGGTACATCTCTAAGTTTATTAATTCGTGCTGAATTAGGCCAACCCGGTTCATTAATTGGAGACGACCAAATTTATAATGTAATTGTAACTGCTCATGCTTTTGTAATAATTTTTTTTATAGTTATACCTATTATAATTGGTGGATTTGGAAACTGACTTGTTCCCTTAATACTAGGAGCCCCTGATATAGCCTTTCCTCGTATAAATAATATAAGATTTTGATTACTCCCCCCTTCTTTAACCCTTCTCTTATCGAGCTCTTTCGTTGAAAGAGGGGCTGGGACAGGTTGAACCGTTTACCCACCATTAGCCTCAGGAATTGCCCATGCAGGAGCTTCGGTTGATTTAGCCATTTTTAGCCTTCATCTCGCAGGTGTATCTTCTATTTTAGGGGCAGTCAATTTTATTACTACCGTAATTAACATACGATCCCCTGGAATAACATTTGATCGAATACCTTTATTTGTTTGATCAGTAGCTATTACTGCCCTTCTTCTTCTTTTATCCCTCCCAGTTTTAGCGGGAGCAATTACTATATTATTAACTGACCGAAATTTAAATACATCCTTCTTCGACCCTGCGGGTGGGGGAGATCCTATTCTCTATCAACATTTATTTTGATTTTTTGGTCACCCTGAAGTTTATAGC',\n",
       " 'UYII01000072.1': 'GAGAGGTCAACAAATCATAAAGATATTGGAACTTTATACTTTCTCTTTGGTGCTTGATCAGGAATAGTAGGTACATCTCTAAGTTTATTAATTCGTGCTGAATTAGGTCAACCCGGTTCATTAATTGGAGACGACCAAATTTATAATGTAATTGTAACTGCTCATGCTTTTGTAATAATTTTTTTTATAGTTATACCTATTATAATTGGTGGATTTGGAAACTGACTTGTTCCCTTAATACTAGGAGCCCCTGATATAGCCTTTCCTCGTATAAATAATATAAGATTTTGATTACTTCCCCCTTCTTTAACCCTTCTCTTATCGAGCTCTTTCGTTGAAAGAGGGGCTGGGACAGGTTGAACCGTTTACCCACCATTAGCCTCAGGAATTGCCCATGCAGGAGCTTCGGTTGATTTAGCCATTTTTAGCCTTCATCTCGCAGGTGTATCTTCTATTTTAGGGGCAGTCAATTTTATTACTACCGTAATTAACATACGATCCCCTGGAATAACATTTGATCGAATACCTTTATTTGTTTGATCAGTAGCTATTACTGCCCTTCTTCTTCTTTTATCCCTCCCAGTTTTAGCGGGAGCAATTACTATATTATTAACTGATCGAAATTTAAATACATCCTTCTTCGACCCTGCGGGTGGGGGAGATCCTATTCTCTATCAACATTTATTTTGATTTTTTGGTCACCCTGAAGTTTATCTC',\n",
       " 'UYII01000070.1': 'GAAGGGTCAACAAATCATAAAGATATTGGTACATTATATTTCCTATTTGGAATTTGAGCAGGACTTGTTGGAACAAGATTAAGTCTATTAATTCGAGCTGAATTAGGTCAACCAGGATCACTAATTGGTGATGACCAAATTTATAATGTAATTGTTACTGCTCATGCATTTATCATAATTTTCTTCATAGTTATACCAATTGTGATTGGAGGATTTGGTAATTGATTAGTTCCTCTAATACTTGCAGCACCTGACATAGCATTTCCACGAATAAATAATATAAGATTTTGATTACTTCCCCCTTCTTTAACCCTTTTATTGGCTTCTTCTATTGTTGAAAGAGGAGCTGGTACAGGATGAACTGTCTACCCCCCATTATCAGCAGGAATTGCCCATGCAGGAGCATCAGTAGACCTAGCCATTTTTAGTTTACACTTAGCAGGAGTATCCTCTATTCTAGGGGCAGTAAATTTTATTACAACCGTTATTAATATACGTTTATCATATATAACTTTAGACCGTATACCTTTATTCGTTTGATCAGTTGTTATTACAGCTATTTTACTATTATTATCACTACCCGTTTTAGCAGGAGCAATCACCATACTTTTAACTGATCGGAATTTAAATACCTCTTTTTTTGATCCAGCAGGAGGAGGAGATCCTATCTTGTACCAACACCTATTTTGATTTTTTGGTCACCCTGAAGTTTACTTC',\n",
       " 'UYII01000069.1': 'CTCTGGTCAACAAATCATAAAGATATTGGTACATTATATTTCCTATTTGGAATTTGAGCAGGACTTGTTGGAACAAGATTAAGTCTATTAATTCGAGCTGAATTAGGTCAACCAGGATCACTAATTGGTGATGACCAAATTTATAATGTAATTGTTACTGCTCATGCATTTATCATAATTTTCTTCATAGTTATACCAATTGTGATTGGAGGATTTGGTAATTGATTAGTTCCTCTAATACTTGCAGCACCTGACATAGCATTTCCACGAATAAATAATATAAGATTTTGATTACTTCCCCCTTCTTTAACCCTTTTATTGGCTTCTTCTATTGTTGAAAGAGGAGCTGGTACAGGATGAACTGTCTACCCCCCATTATCAGCAGGAATTGCCCATGCAGGAGCATCAGTAGACCTAGCCATTTTTAGTTTACACTTAGCAGGAGTATCCTCTATTCTAGGGGCAGTAAATTTTATTACAACCGTTATTAATATACGTTTATCATATATAACTTTAGACCGTATACCTTTATTCGTTTGATCAGTTGTTATTACAGCTATTTTACTATTATTATCACTACCCGTTTTAGCAGGAGCAATCACCATACTTTTAACTGATCGGAATTTAAATACCTCTTTTTTTGATCCAGCAGGAGGAGGAGATCCTATCTTGTACCAACACCTATTTTGATTTTTTGGTCACCCTGAAGTTTAAGAG',\n",
       " 'UYII01000066.1': 'CCTTGGTCAACAAATCATAAAGATATTGGTACATTATATTTCCTATTTGGAATTTGAGCAGGACTTGTTGGAACAAGATTAAGTCTATTAATTCGAGCTGAATTAGGTCAACCAGGATCACTAATTGGTGATGACCAAATTTATAATGTAATTGTTACTGCTCATGCATTTATCATAATTTTCTTCATAGTTATACCAATTGTGATTGGAGGATTTGGTAATTGATTAGTTCCTCTAATACTTGCAGCACCTGACATAGCATTTCCACGAATAAATAATATAAGATTTTGATTACTTCCCCCTTCTTTAACCCTTTTATTGGCTTCTTCTATTGTTGAAAGAGGAGCTGGTACAGGATGAACTGTCTACCCCCCATTATCAGCAGGAATTGCCCATGCAGGAGCATCAGTAGACCTAGCCATTTTTAGTTTACACTTAGCAGGAGTATCCTCTATTCTAGGGGCAGTAAATTTTATTACAACCGTTATTAATATACGTTTATCATATATAACTTTAGACCGTATACCTTTATTCGTTTGATCAGTTGTTATTACAGCTATTTTACTATTATTATCACTACCCGTTTTAGCAGGAGCAATCACCATACTTTTAACTGATCGGAATTTAAATACCTCTTTTTTTGATCCAGCAGGAGGAGGAGATCCTATCTTGTACCAACACCTATTTTGATTTTTTGGTCACCCTGAAGTTTAAAGG',\n",
       " 'UYII01000075.1': 'GTACGGTCAACAAATCATAAAGATATTGGAACTTTATACTTTCTCTTTGGTGCTTGATCAGGAATAGTAGGTACATCTCTAAGTTTATTAATTCGTGCTGAATTAGGTCAACCCGGTTCATTAATTGGAGACGACCAAATTTATAATGTAATTGTAACTGCTCATGCTTTTGTAATAATTTTTTTTATAGTTATACCTATTATAATTGGTGGATTTGGAAACTGACTTGTTCCCTTAATACTAGGAGCCCCTGATATAGCCTTTCCTCGTATAAATAATATAAGATTTTGATTACTTCCTCCTTCTTTAACCCTTCTCTTATCGAGCTCTTTCGTTGAAAGAGGGGCTGGGACAGGTTGAACCGTTTACCCACCATTAGCCTCAGGAATTGCCCATGCAGGAGCTTCGGTTGATTTAGCCATTTTTAGCCTTCATCTCGCAGGTGTATCTTCTATTTTAGGGGCAGTCAATTTTATTACTACCGTAATTAACATACGATCCCCTGGAATAACATTTGATCGAATACCTTTATTTGTTTGATCAGTAGCTATTACTGCTCTTCTTCTTCTTTTATCCCTCCCAGTTTTAGCGGGAGCAATTACTATATTATTAACTGATCGAAATTTAAATACATCCTTCTTCGACCCTGCGGGTGGGGGAGATCCTATTCTCTATCAACATTTATTTTGATTTTTTGGTCACCCTGAAGTTTAGTAC',\n",
       " 'UYII01000065.1': 'CCAAGGTCAACAAATCATAAAGATATTGGTACATTATATTTCCTATTTGGAATTTGAGCAGGACTTGTTGGAACAAGATTAAGTCTATTAATTCGAGCTGAATTAGGTCAACCAGGATCACTAATTGGTGATGACCAAATTTATAATGTAATTGTTACTGCTCATGCATTTATCATAATTTTCTTCATAGTTATACCAATTGTGATTGGAGGATTTGGTAATTGATTAGTTCCTCTAATACTTGCAGCACCTGACATAGCATTTCCACGAATAAATAATATAAGATTTTGATTACTTCCCCCTTCTTTAACCCTTTTATTGGCTTCTTCTATTGTTGAAAGAGGAGCTGGTACAGGATGAACTGTCTACCCCCCATTATCAGCAGGAATTGCCCATGCAGGAGCATCAGTAGACCTAGCCATTTTTAGTTTACACTTAGCAGGAGTATCCTCTATTCTAGGGGCAGTAAATTTTATTACAACCGTTATTAATATACGTTTATCATATATAACTTTAGACCGTATACCTTTATTCGTTTGATCAGTTGTTATTACAGCTATTTTACTATTATTATCACTACCCGTTTTAGCAGGAGCAATCACCATACTTTTAACTGATCGGAATTTAAATACCTCTTTTTTTGATCCAGCAGGAGGAGGAGATCCTATCTTGTACCAACACCTATTTTGATTTTTTGGTCACCCTGAAGTTTATTGG',\n",
       " 'UYII01000064.1': 'CATGGGTCAACAAATCATAAAGATATTGGTACATTATATTTCCTATTTGGAATTTGAGCAGGACTTGTTGGAACAAGATTAAGTCTATTAATTCGAGCTGAATTAGGTCAACCAGGATCACTAATTGGTGATGACCAAATTTATAATGTAATTGTTACTGCTCATGCATTTATCATAATTTTCTTCATAGTTATACCAATTGTGATTGGAGGATTTGGTAATTGATTAGTTCCTCTAATACTTGCAGCACCTGACATAGCATTTCCACGAATAAATAATATAAGATTTTGATTACTTCCCCCTTCTTTAACCCTTTTATTGGCTTCTTCTATTGTTGAAAGAGGAGCTGGTACAGGATGAACTGTCTACCCCCCATTATCAGCAGGAATTGCCCATGCAGGAGCATCAGTAGACCTAGCCATTTTTAGTTTACACTTAGCAGGAGTATCCTCTATTCTAGGGGCAGTAAATTTTATTACAACCGTTATTAATATACGTTTATCATATATAACTTTAGACCGTATACCTTTATTCGTTTGATCAGTTGTTATTACAGCTATTTTACTATTATTATCACTACCCGTTTTAGCAGGAGCAATCACCATACTTTTAACTGATCGGAATTTAAATACCTCTTTTTTTGATCCAGCAGGAGGAGGAGATCCTATCTTGTACCAACACCTATTTTGATTTTTTGGTCACCCTGAAGTTTACATG',\n",
       " 'UYII01000062.1': 'CACAGGTCAACAAATCATAAAGATATTGGTACATTATATTTCCTATTTGGAATTTGAGCAGGACTTGTTGGAACAAGATTAAGTCTATTAATTCGAGCTGAATTAGGTCAACCAGGATCACTAATTGGTGATGACCAAATTTATAATGTAATTGTTACTGCTCATGCATTTATCATAATTTTCTTCATAGTTATACCAATTGTGATTGGAGGATTTGGTAATTGATTAGTTCCTCTAATACTTGCAGCACCTGACATAGCATTTCCACGAATAAATAATATAAGATTTTGATTACTTCCCCCTTCTTTAACCCTTTTATTGGCTTCTTCTATTGTTGAAAGAGGAGCTGGTACAGGATGAACTGTCTACCCCCCATTATCAGCAGGAATTGCCCATGCAGGAGCATCAGTAGACCTAGCCATTTTTAGTTTACACTTAGCAGGAGTATCCTCTATTCTAGGGGCAGTAAATTTTATTACAACCGTTATTAATATACGTTTATCATATATAACTTTAGACCGTATACCTTTATTCGTTTGATCAGTTGTTATTACAGCTATTTTACTATTATTATCACTACCCGTTTTAGCAGGAGCAATCACCATACTTTTAACTGATCGGAATTTAAATACCTCTTTTTTTGATCCAGCAGGAGGAGGAGATCCTATCTTGTACCAACACCTATTTTGATTTTTTGGTCACCCTGAAGTTTATGTG',\n",
       " 'UYII01000061.1': 'ATGCGGTCAACAAATCATAAAGATATTGGTACATTATATTTCCTATTTGGAATTTGAGCAGGACTTGTTGGAACAAGATTAAGTCTATTAATTCGAGCTGAATTAGGTCAACCAGGATCACTAATTGGTGATGACCAAATTTATAATGTAATTGTTACTGCTCATGCATTTATCATAATTTTCTTCATAGTTATACCAATTGTGATTGGAGGATTTGGTAATTGATTAGTTCCTCTAATACTTGCAGCACCTGACATAGCATTTCCACGAATAAATAATATAAGATTTTGATTACTTCCCCCTTCTTTAACCCTTTTATTGGCTTCTTCTATTGTTGAAAGAGGAGCTGGTACAGGATGAACTGTCTACCCCCCATTATCAGCAGGAATTGCCCATGCAGGAGCATCAGTAGACCTAGCCATTTTTAGTTTACACTTAGCAGGAGTATCCTCTATTCTAGGGGCAGTAAATTTTATTACAACCGTTATTAATATACGTTTATCATATATAACTTTAGACCGTATACCTTTATTCGTTTGATCAGTTGTTATTACAGCTATTTTACTATTATTATCACTACCCGTTTTAGCAGGAGCAATCACCATACTTTTAACTGATCGGAATTTAAATACCTCTTTTTTTGATCCAGCAGGAGGAGGAGATCCTATCTTGTACCAACACCTATTTTGATTTTTTGGTCACCCTGAAGTTTAGCAT',\n",
       " 'UYII01000057.1': 'ACTGGGTCAACAAATCATAAAGATATTGGAACATTATATTTTATTTTTGGTATTTGATCAGGATTAGTAGGTACAAGTTTAAGATTATTAATTCGTGCTGAATTAGGTCAACCAGGATCTCTAATTGGAGATGATCAAATTTATAATGTAATTGTTACAGCTCATGCATTTATTATAATTTTTTTTATAGTAATACCAATTGTAATTGGAGGATTTGGTAATTGATTAGTTCCATTAATATTAGCAGCTCCTGATATAGCCTTTCCTCGAATAAATAATATAAGCTTTTGAATACTTCCACCATCATTAACTTTATTACTAGCATCTTCAATAGTAGAAAGAGGGGCTGGTACAGGTTGAACTGTTTACCCACCTTTATCATCTAGAATTGCTCATGCAGGAGCTTCTGTAGATTTAGCAATCTTTAGTTTACATTTAGCCGGAATTTCTTCTATTTTAGGGGCTGTAAATTTTATTACAACAGTAATTAATATACGTTTAAATTATATAACATTAGATCGAATACCATTATTTGTTTGATCTGTAGTTATTACTGCTTTATTATTATTACTTTCTCTACCTGTATTAGCAGGGGCTATTACTATATTATTAACAGATCGTAATCTAAATACATCTTTTTTTGATCCTGCAGGAGGAGGTGACCCAATTTTATATCAACATTTATTTTGATTTTTTGGTCACCCTGAAGTTTACAGT',\n",
       " 'UYII01000056.1': 'AAGGGGTCAACAAATCATAAAGATATTGGAACATTATATTTTATTTTTGGTATTTGATCAGGATTAGTAGGTACAAGTTTAAGATTATTAATTCGTGCTGAATTAGGTCAACCAGGATCTCTAATTGGAGATGATCAAATTTATAATGTAATTGTTACAGCTCATGCATTTATTATAATTTTTTTTATAGTAATACCAATTGTAATTGGAGGATTTGGTAATTGATTAGTTCCATTAATATTAGCAGCTCCTGATATAGCCTTTCCTCGAATAAATAATATAAGCTTTTGAATACTTCCACCATCATTAACTTTATTACTAGCATCTTCAATAGTAGAAAGAGGGGCTGGTACAGGTTGAACTGTTTACCCACCTTTATCATCTAGAATTGCTCATGCAGGAGCTTCTGTAGATCTAGCAATCTTTAGTTTACATTTAGCCGGAATTTCTTCTATTTTAGGGGCTGTAAATTTTATTACAACAGTAATTAATATACGTTTAAATTATATAACATTAGATCGAATACCATTATTTGTTTGATCTGTAGTTATTACTGCTTTATTATTATTACTTTCTCTACCTGTATTAGCAGGGGCTATTACTATATTATTAACAGATCGTAATCTAAATACATCTTTTTTTGATCCTGCAGGAGGAGGTGACCCAATTTTATATCAACATTTATTTTGATTTTTTGGTCACCCTGAAGTTTACCTT',\n",
       " 'UYII01000055.1': 'TTACGGTCAACAAATCATAAAGATATTGGTACATTATACTTTATTTTCGGAATCTGATCAGGATTAGTAGGTACTAGTTTAAGTTTATTAATTCGGGCTGAATTAGGTCAACCAGGATCTTTAATTGGTGATGATCAAATTTATAATGTAATTGTAACAGCACATGCTTTTATTATAATTTTTTTTATAGTAATACCAATTGTAATTGGAGGTTTTGGTAATTGATTAGTACCTTTAATACTTGCGGCTCCTGATATAGCTTTTCCACGTATAAATAATATAAGTTTTTGAATACTTCCTCCTTCATTAACCTTATTACTGGCATCTTCAATAGTAGAAAGAGGAGCTGGTACAGGTTGAACTGTGTATCCACCTCTTTCATCAAGAATTGCTCATGCTGGTGCTTCTGTAGATTTAGCTATTTTTAGTTTACATTTAGCTGGAATTTCTTCAATTTTAGGGGCTGTAAATTTTATTACAACAGTTATTAATATACGATTAAATTATATAACTTTAGATCGAATACCTTTATTTGTATGATCAGTTGTTATTACTGCTTTATTACTATTATTATCTTTACCTGTATTAGCTGGTGCTATTACGATATTATTAACTGATCGTAATTTAAATACTTCTTTCTTTGACCCTGCTGGAGGAGGTGATCCAATCTTATATCAACATTTATTTTGATTTTTTGGTCACCCTGAAGTTTAGTAA',\n",
       " 'UYII01000058.1': 'AGGAGGTCAACAAATCATAAAGATATTGGAACATTATATTTTATTTTTGGTATTTGATCAGGATTAGTAGGTACAAGTTTAAGATTATTAATTCGTGCTGAATTAGGTCAACCAGGATCTCTAATTGGAGATGATCAAATTTATAATGTAATTGTTACAGCTCATGCATTTATTATAATTTTTTTTATAGTAATACCAATTGTAATTGGAGGATTTGGTAATTGATTAGTTCCATTAATATTAGCAGCTCCTGATATAGCCTTTCCTCGAATAAATAATATAAGCTTTTGAATACTTCCACCATCATTAACTTTATTACTAGCATCTTCAATAGTAGAAAGAGGGGCTGGTACAGGTTGAACTGTTTACCCACCTTTATCATCTAGAATTGCTCATGCAGGAGCTTCTGTAGATTTAGCAATCTTTAGTTTACATTTAGCCGGAATTTCATCTATTTTAGGGGCTGTAAATTTTATTACAACAGTAATTAATATACGTTTAAATTATATAACATTAGATCGAATACCATTATTTGTTTGATCTGTAGTTATTACTGCTTTATTATTATTACTTTCTCTACCTGTATTAGCAGGGGCTATTACTATATTATTAACAGATCGTAATCTAAATACATCTTTTTTTGATCCTGCGGGAGGAGGTGACCCAATTTTATATCAACATTTATTTTGATTTTTTGGTCACCCTGAAGTTTATCCT',\n",
       " 'UYII01000054.1': 'TGTTGGTCAACAAATCATAAAGATATTGGAACATTATATTTTATTTTTGGTATTTGATCAGGATTAGTAGGTACAAGTTTAAGATTATTAATTCGTGCTGAATTAGGTCAACCAGGATCTCTAATTGGAGATGATCAAATTTATAATGTAATTGTTACAGCTCATGCATTTATTATAATTTTTTTTATAGTAATACCAATTGTAATTGGAGGATTTGGTAATTGATTAGTTCCATTAATATTAGCAGCTCCTGATATAGCCTTTCCTCGAATAAATAATATAAGCTTTTGAATACTTCCACCATCATTAACTTTATTACTAGCATCTTCAATAGTAGAAAGAGGGGCTGGTACAGGTTGAACTGTTTACCCACCTTTATCATCTAGAATTGCTCATGCAGGAGCTTCTGTAGATTTAGCAATCTTTAGTTTACATTTAGCCGGAATTTCTTCTATTTTAGGGGCTGTAAATTTTATTACAACAGTAATTAATATACGTTTAAATTATATAACATTAGATCGAATACCATTATTTGTTTGATCTGTAGTTATTACTGCTTTATTATTATTACTTTCTCTACCTGTATTAGCAGGGGCTATTACTATATTATTAACAGATCGTAATCTAAATACATCTTTTTTTGATCCTGCAGGAGGAGGTGACCCAATTTTATATCAACATTTATTTTGATTTTTTGGTCACCCTGAAGTTTAAACA',\n",
       " 'UYII01000053.1': 'TGAAGGTCAACAAATCATAAAGATATTGGAACATTATATTTTATTTTTGGTATTTGATCAGGATTAGTAGGTACAAGTTTAAGATTATTAATTCGTGCTGAATTAGGTCAACCAGGATCTCTAATTGGAGATGATCAAATTTATAATGTAATTGTTACAGCTCATGCATTTATTATAATTTTTTTTATAGTAATACCAATTGTAATTGGAGGATTTGGTAATTGATTAGTTCCATTAATATTAGCAGCTCCTGATATAGCCTTTCCTCGAATAAATAATATAAGCTTTTGAATACTTCCACCATCATTAACTTTATTACTAGCATCTTCAATAGTAGAAAGAGGAGCTGGTACAGGTTGAACTGTTTACCCACCTTTATCATCTAGAATTGCTCATGCAGGAGCTTCTGTAGATTTAGCAATTTTTAGTTTACATTTAGCCGGAATTTCATCTATTTTAGGGGCTGTAAATTTTATTACAACAGTAATTAATATACGTTTAAATTATATAACATTAGATCGAATACCATTATTTGTTTGATCTGTAGTTATTACTGCTTTATTATTATTACTTTCTCTACCTGTATTAGCAGGGGCTATTACTATATTATTAACAGATCGTAATCTAAATACATCTTTTTTTGATCCTGCAGGAGGAGGTGACCCAATTTTATATCAACATTTATTTTGATTTTTTGGTCACCCTGAAGTTTATTCA',\n",
       " 'UYII01000079.1': 'TAGCGGTCAACAAATCATAAAGATATTGGAACTTTATACTTTCTCTTTGGTGCTTGATCAGGAATAGTAGGTACATCTCTAAGTTTATTAATTCGTGCTGAATTAGGTCAACCCGGTTCATTAATTGGAGACGACCAAATTTATAATGTAATTGTAACTGCTCATGCTTTTGTAATAATTTTTTTTATAGTTATACCTATTATAATTGGTGGATTTGGAAACTGACTTGTTCCCTTAATACTAGGAGCCCCTGATATAGCCTTTCCTCGTATAAATAATATAAGATTTTGATTACTTCCCCCTTCTTTAACCCTTCTCTTATCGAGCTCTTTCGTTGAAAGAGGGGCTGGGACAGGTTGAACCGTTTACCCACCATTAGCCTCAGGAATTGCCCATGCAGGAGCTTCGGTTGATTTAGCCATTTTTAGCCTTCATCTCGCAGGTGTATCTTCTATTTTAGGGGCAGTCAATTTTATTACTACCGTAATTAACATACGATCCCCTGGAATAACATTTGATCGAATACCTTTATTTGTTTGATCAGTAGCTATTACTGCCCTTCTTCTTCTTTTATCCCTCCCAGTTTTAGCGGGAGCAATTACTATATTATTAACTGATCGAAATTTAAATACATCCTTCTTCGACCCTGCGGGTGGAGGAGATCCTATTCTCTATCAACATTTATTTTGATTTTTTGGTCACCCTGAAGTTTAGCTA',\n",
       " 'UYII01000051.1': 'TAGAGGTCAACAAATCATAAAGATATTGGTACATTATATTTTATTTTTGGTATTTGATCTGGATTAGTAGGTACTAGTTTAAGTTTATTAATTCGAGCTGAATTAGGTCAACCAGGTTCATTAATTGGTGATGATCAAATTTATAATGTAATTGTTACAGCTCATGCCTTTATTATAATTTTTTTTATAGTTATACCAATTGTAATTGGGGGTTTTGGTAATTGATTAGTTCCTTTAATATTAGCGGCTCCTGATATAGCCTTTCCTCGAATAAATAATATAAGTTTTTGAATATTACCCCCTTCTTTAACATTACTTCTTGCTTCTTCTATAGTAGAAAGAGGAGCTGGAACAGGTTGAACTGTTTATCCACCTCTTTCCTCTAGAATTGCTCATGCAGGAGCTTCTGTTGATTTAGCTATTTTTAGTTTACATCTAGCTGGTATTTCTTCAATTTTAGGAGCTGTAAATTTTATTACTACTGTAATTAATATACGATTAAGTTATATAACTTTAGATCGAATACCTCTATTTGTTTGATCTGTTGTTATTACAGCATTATTATTACTTTTATCATTACCTGTATTAGCAGGAGCTATTACTATATTATTAACTGATCGTAATTTAAACACTTCTTTTTTTGACCCTGCCGGTGGAGGAGACCCAATTTTATATCAACATTTATTTTGATTTTTTGGTCACCCTGAAGTTTATCTA',\n",
       " 'UYII01000049.1': 'GATAGGTCAACAAATCATAAAGATATTGGTACATTATATTTTATTTTTGGTATTTGATCTGGATTAGTAGGTACCAGTTTAAGTTTATTAATTCGGGCTGAATTAGGTCAACCAGGTTCATTAATTGGTGATGATCAAATTTATAATGTAATTGTTACAGCTCATGCTTTTATTATAATTTTCTTTATAGTTATACCTATTGTAATTGGAGGATTTGGAAACTGATTAGTTCCTTTAATATTAGCAGCCCCTGATATAGCTTTCCCTCGAATAAATAATATAAGTTTTTGAATATTACCTCCTTCTTTAACACTACTCCTTGCTTCTTCTATAGTTGAAAGAGGAGCTGGTACAGGTTGAACTGTTTATCCACCCCTTTCTTCTAGAATTGCTCATGCAGGAGCTTCTGTTGATTTAGCTATTTTTAGTTTACATTTAGCTGGAATCTCATCAATTTTAGGAGCTGTAAATTTTATTACTACTGTAATTAATATACGTTTAAGTTATATAACTTTAGATCGAATGCCTTTATTTGTTTGATCAGTTGTTATTACAGCATTACTTCTTCTATTATCTTTACCTGTATTAGCCGGAGCTATTACTATATTATTAACAGATCGTAATTTAAATACTTCTTTTTTTGATCCTGCGGGAGGAGGAGATCCAATTTTATATCAACATTTATTTTGATTTTTTGGTCACCCTGAAGTTTATATC',\n",
       " 'UYII01000048.1': 'GAATGGTCAACAAATCATAAAGATATTGGTACATTATATTTTATTTTTGGTATTTGATCTGGATTAGTAGGTACCAGTTTAAGTTTATTAATTCGGGCTGAATTAGGTCAACCAGGTTCATTAATTGGTGATGATCAAATTTATAATGTAATTGTTACAGCTCATGCTTTTATTATAATTTTCTTTATAGTTATACCTATTGTAATTGGAGGATTTGGAAACTGATTAGTTCCTTTAATATTAGCAGCCCCTGATATAGCTTTCCCTCGAATAAATAATATAAGTTTTTGAATATTACCTCCTTCTTTAACACTACTTCTTGCTTCTTCTATAGTTGAAAGAGGAGCTGGTACAGGTTGAACTGTTTATCCACCCCTTTCTTCTAGAATTGCTCATGCAGGAGCTTCTGTTGATTTAGCTATTTTTAGTTTACATTTAGCTGGAATCTCATCAATTTTAGGAGCTGTAAATTTTATTACTACTGTAATTAATATACGTTTAAGTTATATAACTTTAGATCGAATGCCTTTATTTGTTTGATCAGTTGTTATTACAGCATTACTTCTTCTATTATCTTTACCTGTATTAGCCGGAGCTATTACTATATTATTAACAGATCGTAATTTAAATACTTCTTTTTTTGATCCTGCGGGAGGAGGAGATCCAATTTTATATCAACATTTATTTTGATTTTTTGGTCACCCTGAAGTTTAATTC',\n",
       " 'UYII01000071.1': 'GACTGGTCAACAAATCATAAAGATATTGGAACTTTATACTTTCTCTTTGGTGCTTGATCAGGAATAGTAGGTACATCTCTAAGTTTATTAATTCGTGCTGAATTAGGTCAACCCGGTTCATTAATTGGAGACGACCAAATTTATAATGTAATTGTAACTGCTCATGCTTTTGTAATAATTTTTTTTATAGTTATACCTATTATAATTGGTGGATTTGGAAACTGACTTGTTCCCTTAATACTAGGAGCCCCTGATATAGCCTTTCCTCGTATAAATAATATAAGATTTTGATTACTTCCCCCTTCTTTAACCCTTCTCTTATCGAGCTCTTTCGTTGAAAGAGGGGCTGGGACAGGTTGAACCGTTTACCCACCATTAGCCTCAGGAATTGCCCATGCAGGAGCTTCGGTTGATTTAGCCATTTTTAGCCTTCATCTCGCAGGTGTATCTTCTATTTTAGGGGCAGTCAATTTTATTACTACCGTAATTAACATACGATCCCCTGGAATAACATTTGATCGAATACCTTTATTTGTTTGATCAGTAGCTATTACTGCCCTTCTTCTTCTTTTATCCCTCCCAGTTTTAGCGGGAGCAATTACTATATTATTAACTGATCGAAATTTAAATACATCCTTCTTCGACCCTGCGGGTGGGGGAGATCCTATTCTCTATCAACATTTATTTTGATTTTTTGGTCACCCTGAAGTTTAAGTC',\n",
       " 'UYII01000022.1': 'AACTGGTCAACAAATCATAAAGATATTGGTACTTTATATTTATTATTTGGTGCTTTTTCTGGGATGGCGGGGACAGCTTCAAGTATGTTAATACGCCTTGAACTGTCAGCCCCAGGTAGTATGTTAGGAGATGATCATCTATATAATGTAATTGTGACATCACATGCTTTATTAATGATTTTCTTTCTAGTAATGCCAGTAATGATTGGGGGATTCGGCAATTGGTTTGTACCAATTATGATTGGTGCACCCGATATGGCCTTCCCTAGATTAAACAACATTAGTTTTTGGTTACTACCTCCTTCATTAATTCTACTGGTGGGCTCTATGTTTGTGGAACAAGGGGCAGGTACCGGCTGGACAATTTATCCCCCTCTTTCAAGTATTCAAGCTCACTCTGGGGGAGCAGTAGATATGGCTATATTTAGTCTCCACCTCGCTGGAATCTCTTCCATTTTAAGTTCTATAAACTTTATAACCACAATAATTAATATGAGAGTTCCTGGAATGAGTATGCACAGGTTGCCTCTGTTTGTATGGTCTGTATTAGTTACAACTATATTGTTATTACTATCTCTGCCAGTGTTAGCTGGTGCAATTACAATGTTATTGACAGATCGAAATTTTAATACGACATTTTTTGACCCTGCGGGAGGAGGGGATCCTATTTTATTCCAACATTTATTTTGATTTTTTGGTCACCCTGAAGTTTAAGTT',\n",
       " 'UYII01000063.1': 'CAGTGGTCAACAAATCATAAAGATATTGGTACATTATATTTCCTATTTGGAATTTGAGCAGGACTTGTTGGAACAAGATTAAGTCTATTAATTCGAGCTGAATTAGGTCAACCAGGATCACTAATTGGTGATGACCAAATTTATAATGTAATTGTTACTGCTCATGCATTTATCATAATTTTCTTCATAGTTATACCAATTGTGATTGGAGGATTTGGTAATTGATTAGTTCCTCTAATACTTGCAGCACCTGACATAGCATTTCCACGAATAAATAATATAAGATTTTGATTACTTCCCCCTTCTTTAACCCTTTTATTGGCTTCTTCTATTGTTGAAAGAGGAGCTGGTACAGGATGAACTGTCTACCCCCCATTATCAGCAGGAATTGCCCATGCAGGAGCATCAGTAGACCTAGCCATTTTTAGTTTACACTTAGCAGGAGTATCCTCTATTCTAGGGGCAGTAAATTTTATTACAACCGTTATTAATATACGTTTATCATATATAACTTTAGACCGTATACCTTTATTCGTTTGATCAGTTGTTATTACAGCTATTTTACTATTATTATCACTACCCGTTTTAGCAGGAGCAATCACCATACTTTTAACTGATCGGAATTTAAATACCTCTTTTTTTGATCCAGCAGGAGGAGGAGATCCTATCTTGTACCAACACCTATTTTGATTTTTTGGTCACCCTGAAGTTTAACTG',\n",
       " 'UYII01000019.1': 'GTCTGGTCAACAAATCATAAAGATATTGGTACTTTATATTTACTATTTGGTGCTTTTTCTGGGATGGCAGGGACAGCTTCAAGTATGTTAATACGGTTAGAGCTATCAGCTCCAGGTAGTATGTTAGGAGATGATCATCTATATAATGTCATTGTAACAGCACATGCTTTATTAATGATTTTCTTCATGGTAATGCCAATAATGATTGGAGGATTCGGAAATTGGTTTGTGCCAATAATGATTGGTGCGCCCGATATGGCCTTTCCTAGATTAAACAATATCAGTTTCTGGTTACTACCACCTTCTCTAATACTATTAGTTGGTTCTATGTTTGTAGAACAAGGAGCAGGTACAGGTTGGACTATTTATCCCCCACTATCAGGCATTCAAGCCCATTCAGGGGGAGCAGTAGATATGGCTATATTTAGTCTACATCTAGCTGGTGTATCCTCTATTTTAAGTTCTATAAACTTTATAACTACTATAATTAATATGAGGGTTCCTGGGATGAGTATGCATAGATTACCTCTATTCGTATGGTCTGTATTAATTACTACAATATTATTGTTGTTATCTTTACCAGTATTAGCTGGTGGAATTACAATGTTATTGACAGATAGAAATTTTAATACAACATTCTTTGACCCTGCGGGAGGAGGAGATCCTATTTTATTCCAGCACTTATTTTGATTTTTTGGTCACCCTGAAGTTTAAGAC',\n",
       " 'UYII01000039.1': 'ACTTGGTCAACAAATCATAAAGATATTGGTACTTTATATTTTATTTTTGGAATTTGATCAGGATTAGTAGGTACAAGTTTAAGTTTACTAATTCGAGCAGAATTAGGTCAACCAGGTTCTTTAATTGGAGATGATCAAATTTACAATGTAATTGTTACAGCTCATGCTTTTATTATAATTTTTTTTATAGTTATACCAATTGTTATTGGAGGATTTGGAAATTGATTGGTTCCTTTAATACTAGCTGCTCCTGATATAGCTTTTCCACGAATAAATAATATAAGTTTTTGAATATTACCTCCTTCATTAACTTTATTACTAGCTTCTTCAATAGTAGAAAGAGGAGCTGGAACAGGATGAACTGTTTATCCCCCACTTTCTGCTAGAATTGCTCATGCAGGAGCATCTGTTGATTTAGCCATTTTTAGTTTACATTTAGCTGGTATTTCGTCAATTTTAGGAGCAGTAAATTTTATTACAACTGTAATTAATATACGATTAAATTATATAACATTAGATCGTATACCTTTATTTGTTTGATCAGTAGTTATTACAGCTTTATTACTTTTATTATCTTTACCAGTATTAGCAGGAGCTATTACTATATTATTAACTGATCGTAATTTAAATACATCTTTTTTTGATCCTGCAGGAGGAGGAGACCCAATTTTATATCAACATTTATTTTGATTTTTTGGTCACCCTGAAGTTTAAAGT',\n",
       " 'UYII01000083.1': 'TGGTGGTCAACAAATCATAAAGATATTGGAACCTTATATTTTCTTTTTGGTGCTTGATCAGGTATGGTCGGTACATCTCTTAGTTTATTAATTCGTGCTGAATTAGGTCAACCTGGGTCATTAATTGGGGATGACCAAATTTATAATGTAATTGTAACAGCTCATGCATTTGTAATAATTTTTTTTATGGTAATACCAATTATAATTGGAGGATTTGGTAATTGACTTGTTCCTCTTATACTTGGAGCCCCTGATATAGCCTTCCCTCGAATAAATAATATAAGATTTTGATTATTACCGCCTTCATTAACTTTACTCTTATCTAGCTCTTTTGTCGAAAGAGGTGCCGGGACCGGTTGAACCGTATACCCCCCACTAGCCTCAGGAATTGCCCATGCAGGAGCTTCCGTTGATTTAGCCATTTTTAGTTTACATCTTGCGGGGGTATCTTCAATTTTAGGTGCAGTCAATTTTATTACTACTGTTATTAATATACGATCCCCTGGTATAACATTTGATCGAATACCTCTTTTTGTATGATCAGTAGCAATTACTGCTCTTCTTCTTCTATTATCTTTACCAGTTTTAGCTGGAGCAATTACTATACTACTTACAGATCGAAATTTAAATACATCATTTTTTGATCCTGCAGGAGGAGGAGACCCAATTCTTTATCAACACTTATTTTGATTTTTTGGTCACCCTGAAGTTTAACCA',\n",
       " 'UYII01000018.1': 'GTAGGGTCAACAAATCATAAAGATATTGGTACTTTATATTTACTATTTGGTGCTTTTTCTGGGATGGCAGGGACAGCTTCAAGTATGTTAATACGGTTAGAGCTATCAGCTCCAGGTAGTATGTTAGGAGATGATCATCTATATAATGTCATTGTAACAGCACATGCTTTATTAATGATTTTCTTCATGGTAATGCCAATAATGATTGGAGGATTCGGAAATTGGTTTGTGCCAATAATGATTGGTGCGCCCGATATGGCCTTTCCTAGATTAAACAATATCAGTTTCTGGTTACTACCACCTTCTCTAATACTATTAGTTGGTTCTATGTTTGTAGAACAAGGAGCAGGTACAGGTTGGACTATTTATCCCCCACTATCAGGCATTCAAGCCCATTCAGGGGGAGCAGTAGATATGGCTATATTTAGTCTACATCTAGCTGGTGTATCCTCTATTTTAAGTTCTATAAACTTTATAACTACTATAATTAATATGAGGGTTCCTGGGATGAGTATGCATAGATTACCTCTATTCGTATGGTCTGTATTAATTACTACAATATTATTGTTGTTATCTTTACCAGTATTAGCTGGTGGAATTACAATGTTATTGACAGATAGAAATTTTAATACAACATTCTTTGACCCTGCGGGAGGAGGAGATCCTATTTTATTCCAGCACTTATTTTGATTTTTTGGTCACCCTGAAGTTTACTAC',\n",
       " 'UYII01000021.1': 'AAAGGGTCAACAAATCATAAAGATATTGGTACTTTATATTTTATTTTTGGAATTTGATCAGGATTAGTAGGTACAAGTTTAAGTTTACTAATTCGAGCAGAATTAGGTCAACCAGGTTCTTTAATTGGAGATGATCAAATTTACAATGTAATTGTTACAGCTCATGCTTTTATTATAATTTTTTTTATAGTTATACCAATTGTTATTGGAGGATTTGGAAATTGATTGGTTCCTTTAATACTAGCTGCTCCTGATATAGCTTTTCCACGAATAAATAATATAAGTTTTTGAATATTACCTCCTTCATTAACTTTATTACTAGCTTCTTCAATAGTAGAAAGAGGAGCTGGAACAGGATGAACTGTTTATCCCCCACTTTCTGCTAGAATTGCTCATGCAGGAGCATCTGTTGATTTAGCCATTTTTAGTTTACATTTAGCTGGTATTTCGTCAATTTTAGGAGCAGTAAATTTTATTACAACTGTAATTAATATACGATTAAATTATATAACATTAGATCGTATACCTTTATTTGTTTGATCAGTAGTTATTACAGCTTTATTACTTTTATTATCTTTACCAGTATTAGCAGGAGCTATTACTATATTATTAACTGATCGTAATTTAAATACATCTTTTTTTGATCCTGCAGGAGGAGGAGACCCAATTTTATATCAACATTTATTTTGATTTTTTGGTCACCCTGAAGTTTACTTT',\n",
       " 'UYII01000050.1': 'GTTTGGTCAACAAATCATAAAGATATTGGAACTTTATACTTTCTCTTTGGTGCTTGATCAGGAATAGTAGGTACATCTCTAAGTTTATTAATTCGTGCTGAATTAGGTCAACCCGGTTCATTAATTGGAGACGACCAAATTTATAATGTAATTGTAACTGCTCATGCTTTTGTAATAATTTTTTTTATAGTTATACCTATTATAATTGGTGGATTTGGAAACTGACTTGTTCCCTTAATACTAGGAGCCCCTGATATAGCCTTTCCTCGTATAAATAATATAAGATTTTGATTACTTCCCCCTTCTTTAACCCTTCTCTTATCGAGCTCTTTCGTTGAAAGAGGGGCTGGGACAGGTTGAACCGTTTACCCACCATTAGCCTCAGGAATTGCCCATGCAGGAGCTTCGGTTGATTTAGCCATTTTTAGCCTTCATCTCGCAGGTGTATCTTCTATTTTAGGGGCAGTCAATTTTATTACTACCGTAATTAACATACGATCCCCTGGAATAACATTTGATCGAATACCTTTATTTGTTTGATCAGTAGCTATTACTGCCCTTCTTCTTCTTTTATCCCTCCCAGTTTTAGCGGGAGCAATTACTATATTATTAACTGATCGAAATTTAAATACATCCTTCTTCGACCCTGCGGGTGGGGGAGATCCTATTCTCTATCAACATTTATTTTGATTTTTTGGTCACCCTGAAGTTTAAAAC',\n",
       " 'UYII01000033.1': 'TGTAGGTCAACAAATCATAAAGATATTGGTACTTTATATTTTATTTTTGGAATTTGATCAGGATTAGTAGGTACAAGTTTAAGTTTACTAATTCGAGCAGAATTAGGTCAACCAGGTTCTTTAATTGGAGATGATCAAATTTACAATGTAATTGTTACAGCTCATGCTTTTATTATAATTTTTTTTATAGTTATACCAATTGTTATTGGAGGATTTGGAAATTGATTGGTTCCTTTAATACTAGCTGCTCCTGATATAGCTTTTCCACGAATAAATAATATAAGTTTTTGAATATTACCTCCTTCATTAACTTTATTACTAGCTTCTTCAATAGTAGAAAGAGGAGCTGGAACAGGATGAACTGTTTATCCCCCACTTTCTGCTAGAATTGCTCATGCAGGAGCATCTGTTGATTTAGCCATTTTTAGTTTACATTTAGCTGGTATTTCGTCAATTTTAGGAGCAGTAAATTTTATTACAACTGTAATTAATATACGATTAAATTATATAACATTAGATCGTATACCTTTATTTGTTTGATCAGTAGTTATTACAGCTTTATTACTTTTATTATCTTTACCAGTATTAGCAGGAGCTATTACTATATTATTAACTGATCGTAATTTAAATACATCTTTTTTTGATCCTGCAGGAGGAGGAGACCCAATTTTATATCAACATTTATTTTGATTTTTTGGTCACCCTGAAGTTTATACA',\n",
       " 'UYII01000026.1': 'GTATGGTCAACAAATCATAAAGATATTGGTACTTTATATTTCATTTTTGGAATCTGATCAGGATTAGTAGGTACAAGTTTAAGTTTATTAATTCGAGCTGAATTAGGACAACCTGGTTCATTAATTGGTGATGATCAAATTTATAATGTTATTGTTACTGCACATGCTTTTATTATAATTTTTTTTATAGTTATACCTATTGTAATTGGAGGATTTGGAAATTGATTAGTTCCATTAATATTAGCAGCTCCAGATATAGCTTTCCCACGAATAAATAATATAAGTTTTTGAATATTACCCCCTTCATTAACTTTACTCCTAGCTTCCTCTATAGTAGAAAGAGGAGCTGGAACAGGTTGAACTGTATACCCTCCTCTTTCTTCTAGAATTGCTCATGCTGGAGCATCTGTAGATTTAGCTATTTTTAGATTACATTTAGCCGGAATTTCTTCGATTTTAGGAGCTGTAAATTTTATTACTACAGTAATTAATATACGATTAAGTTATATAACTTTAGATCGAATACCTTTATTTGTATGATCAGTAGTTATTACAGCTTTATTACTTTTATTATCATTACCTGTATTAGCAGGTGCTATTACTATATTATTAACTGATCGTAATCTAAATACATCATTTTTTGACCCAGCAGGAGGAGGTGACCCTATTTTATACCAACATCTATTTTGATTTTTTGGTCACCCTGAAGTTTAATAC',\n",
       " 'UYII01000017.1': 'GGATGGTCAACAAATCATAAAGATATTGGTACTTTATATTTACTATTTGGTGCTTTTTCTGGAATGGCAGGGACAGCTTCGAGTATGTTAATACGGCTAGAACTGTCAGCTCCAGGTAGTATGATAGGGGATGATCATTTATATAATGTTATTGTAACATCACATGCTTTATTAATGATTTTTTTCCTAGTAATGCCAGTAATGATTGGAGGATTCGGAAATTGGTTTGTGCCAATTATGATTGGTGCACCCGATATGGCCTTTCCTAGATTAAACAATATTAGTTTCTGGTTATTACCGCCTTCTTTAATATTATTGGTCGGTTCTATGTTTGTGGAACAAGGGGCAGGAACAGGCTGGACCATTTATCCCCCATTGTCAAGCATTCAAGCCCATTCAGGGGGAGCAGTAGATATGGCTATATTTAGTCTACATCTAGCTGGGGTATCTTCCATTTTAAGTTCTATCAATTTTATAACTACTATAGTTAACATGAGGGTTCCTGGTATGAGTATGCATAGATTACCTCTATTCGTATGGTCTGTATTAATTACTACTATATTGTTATTATTATCTTTACCAGTGTTAGCGGGTGCAATTACAATGTTATTGACAGATAGAAATTTTAATACAACATTCTTTGATCCTGCGGGAGGAGGAGATCCTATTTTATTTCAGCATTTATTTTGATTTTTTGGTCACCCTGAAGTTTAATCC',\n",
       " 'UYII01000027.1': 'GTTAGGTCAACAAATCATAAAGATATTGGTACTTTATATTTCATTTTTGGAATCTGATCTGGATTAGTAGGTACAAGTTTAAGTTTATTAATTCGGGCTGAATTAGGTCAACCAGGATCATTAATTGGAGATGACCAAATTTATAATGTTATTGTTACTGCTCATGCTTTTATTATAATTTTTTTTATAGTTATACCTATTGTAATTGGAGGTTTTGGTAATTGATTGGTACCACTAATATTAGCGGCTCCTGATATAGCTTTCCCTCGTATAAATAATATAAGTTTCTGAATATTACCCCCTTCTTTAACACTACTCCTAGCTTCATCTATAGTAGAAAGAGGTGCTGGTACAGGATGAACTGTGTATCCACCCCTTTCTTCTAGAATTGCACATGCTGGAGCATCTGTAGATTTAGCCATTTTTAGTTTACATTTAGCTGGTATTTCTTCAATTTTAGGGGCTGTAAATTTTATTACAACAGTAATTAATATACGATTAAAATATATAACTTTAGATCGAATACCATTATTTGTATGGTCAGTAGTTATTACTGCTTTATTACTTTTATTATCCTTACCTGTATTAGCAGGAGCTATTACTATATTATTAACTGATCGTAATCTAAATACTTCATTTTTTGATCCGGCAGGGGGTGGAGACCCTATTTTATATCAACATTTATTTTGATTTTTTGGTCACCCTGAAGTTTATAAC',\n",
       " 'UYII01000052.1': 'TCATGGTCAACAAATCATAAAGATATTGGAACATTATATTTTATTTTTGGTATTTGATCAGGATTAGTAGGTACAAGTTTAAGATTATTAATTCGTGCTGAATTAGGTCAACCAGGATCTCTAATTGGAGATGATCAAATTTATAATGTAATTGTTACAGCTCATGCATTTATTATAATTTTTTTTATAGTAATACCAATTGTAATTGGAGGATTTGGTAATTGATTAGTTCCATTAATATTAGCAGCTCCTGATATAGCCTTTCCTCGAATAAATAATATAAGCTTTTGAATACTTCCACCATCATTAACTTTATTACTAGCATCTTCAATAGTAGAAAGAGGGGCTGGTACAGGTTGAACTGTTTACCCACCTTTATCATCTAGAATTGCTCATGCAGGAGCTTCTGTAGATTTAGCAATCTTTAGTTTACATTTAGCCGGAATTTCTTCTATTTTAGGGGCTGTAAATTTTATTACAACAGTAATTAATATACGTTTAAATTATATAACATTAGATCGAATACCATTATTTGTTTGATCTGTAGTTATTACTGCTTTATTATTATTACTTTCTCTACCTGTATTAGCAGGGGCTATTACTATATTATTAACAGATCGTAATCTAAATACATCTTTTTTTGATCCTGCAGGAGGAGGTGACCCAATTTTATATCAACATTTATTTTGATTTTTTGGTCACCCTGAAGTTTAATGA',\n",
       " 'UYII01000009.1': 'CACTGGTCAACAAATCATAAAGATATTGGTACGTTATATTTAGTCTTTGGGATTGGGGCAGGCATGATTGGCACGGCCTTCAGTATGTTAATAAGATTAGAGCTCTCGGCTCCGGGGGCTATGCTAGGAGACGATCATCTTTATAATGTAATTGTTACGGCACATGCTTTTATTATGATTTTTTTTTTGGTTATGCCAGTGATGATAGGGGGGTTTGGAAATTGGTTGGTTCCACTATATATTGGTGCTCCCGACATGGCCTTCCCCCGGCTTAATAATATTAGTTTTTGGTTGTTGCCTCCTGCTCTAATATTATTATTAGGCTCCGCTTTTGTTGAACAAGGAGTTGGTACCGGGTGGACGGTGTATCCTCCTCTATCGAGCATCCAGGCTCACTCTGGGGGGGCGGTGGACATGGCTATTTTTAGCCTTCACTTAGCTGGGGTGTCTTCGATTTTGGGTGCAATGAATTTTATAACAACTATATTGAATATGCGGGCCCCTGGGATGACATTAAATAAAATGCCATTGTTTGTGTGGTCTATCTTGATTACTGCTTTTTTATTATTACTATCTTTGCCAGTACTAGCGGGGGCGATAACCATGCTTTTAACGGATAGAAATTTTAATACCACTTTTTTTGATCCCGCCGGAGGGGGAGACCCAATTTTATTTCAGCATTTGTTTTGATTTTTTGGTCACCCTGAAGTTTAAGTG',\n",
       " 'UYII01000060.1': 'ATCGGGTCAACAAATCATAAAGATATTGGAACATTATATTTTATTTTTGGTATTTGATCAGGATTAGTAGGTACAAGTTTAAGATTATTAATTCGTGCTGAATTAGGTCAACCAGGATCTCTAATTGGAGATGATCAAATTTATAATGTAATTGTTACAGCTCATGCATTTATTATAATTTTTTTTATAGTAATACCAATTGTAATTGGAGGATTTGGTAATTGATTAGTTCCATTAATATTAGCAGCTCCTGATATAGCCTTTCCTCGAATAAATAATATAAGCTTTTGAATACTTCCACCATCATTAACTTTATTACTAGCATCTTCAATAGTAGAAAGAGGGGCTGGTACAGGTTGAACTGTTTACCCACCTTTATCATCTAGAATTGCTCATGCAGGAGCTTCTGTAGATTTAGCAATCTTTAGTTTACATTTAGCCGGAATTTCATCTATTTTAGGGGCTGTAAATTTTATTACAACAGTAATTAATATACGTTTAAATTATATAACATTAGATCGAATACCATTATTTGTTTGATCTGTAGTTATTACTGCTTTATTATTATTACTTTCTCTACCTGTATTAGCAGGGGCTATTACTATATTATTAACAGATCGTAATCTAAATACATCTTTTTTTGATCCTGCAGGAGGAGGTGACCCAATTTTATATCAACATTTATTTTGATTTTTTGGTCACCCTGAAGTTTACGAT',\n",
       " 'UYII01000005.1': 'AGCAGGTCAACAAATCATAAAGATATTGGTAGTTTGTATCTAATTTTTGGTGGGGGTGCTGGTTTAATCGGGACGGCGTTTAGTATGCTTATACGACTCGAGCTTTCTGCGCCCGGAGCGATGTTAGGAGATGATCATCTTTATAATGTAATTGTTACAGCACATGCTTTTATTATGATTTTTTTTTTGGTTATGCCCGTTATGATTGGGGGGTTTGGTAATTGATTGGTCCCATTATATATTGGGGCGCCGGATATGGCGTTTCCCCGACTAAACAATATTAGTTTTTGACTTTTGCCCCCTGCGCTTTTTTTATTATTAGGCTCTGCTTTTATTGAACAAGGGGCGGGGACGGGGTGAACAGTTTATCCTCCTCTTGCTAGTATTCAAGCACACTCCGGAGGTTCGGTTGATATGGTTATTTTTAGTCTTCATTTAGCTGGGGTTTCTTCTATTTTAGGTGCTATAAACTTTATTACTACAATTTTAAATATGCGAGCCCCGGGTGTGTCTTTTAATAAACTACCTTTATTTGTTTGATCTATTTTAATAACAGCTTTTTTATTGCTTTTATCTTTACCTGTTTTAGCTGGTGCTATTACTATGTTGTTAACAGATAGAAACTTTAATACGACTTTTTTCGATCCAGCGGGTGGCGGGGACCCAATATTATTTCAGCATCTATTTTGATTTTTTGGTCACCCTGAAGTTTATGCT',\n",
       " 'UYII01000014.1': 'GAACGGTCAACAAATCATAAAGATATTGGGACTTTATATTTATTATTTGGCGGGTTTGCAGGTATGATAGGTACTGCCTTTAGTATGTTGATTAGATTAGAGTTATCGGCTCCAGGGTCAATGTTAGGGGATGACCATTTATATAATGTTATTGTAACAGCTCATGCGTTTGTTATGATTTTTTTTTTAGTTATGCCGGTAATGATTGGGGGATTTGGGAATTGGTTTGTGCCCTTATATATTGGTGCTCCGGATATGGCCTTTCCTCGATTAAATAATATAAGTTTTTGATTATTGCCGCCAGCTTTAAGTTTATTGTTGGCTTCTGCTTTTGTGGAACAAGGGGCAGGTACGGGATGGACGGTTTATCCTCCGTTATCGGGGATTCAGGCTCATTCTGGGGGTTCGGTAGATTTAGTAATTTTTAGTTTACATTTGGCAGGTATTTCTTCAATATTAGGTGCTATGAATTTTATTACTACAATAGTAAATATGAGGGGGCCAGGAATAACTATGGATAGAATGCCATTATTTGTTTGGTCTATATTAGTAACTGCTATATTATTATTATTGTCTTTACCGGTATTAGCTGGGGCGATTACGATGTTATTAACGGATAGAAATTTTAATACTGCTTTTTTTGATCCAGCGGGAGGGGGAGACCCTATTTTATATCAACATTTGTTTTGATTTTTTGGTCACCCTGAAGTTTAGTTC',\n",
       " 'UYII01000043.1': 'ATCTGGTCAACAAATCATAAAGATATTGGTACATTATATTTTATTTTTGGTATTTGATCTGGATTAGTAGGTACTAGTTTAAGTTTATTAATTCGAGCTGAATTAGGTCAACCAGGTTCATTAATTGGTGATGATCAAATTTATAATGTAATTGTTACAGCTCATGCCTTTATTATAATTTTTTTTATAGTTATACCAATTGTAATTGGGGGTTTTGGTAATTGATTAGTTCCTTTAATATTAGCGGCTCCTGATATAGCCTTTCCTCGAATAAATAATATAAGTTTTTGAATATTACCCCCTTCTTTAACATTACTTCTTGCTTCTTCTATAGTAGAAAGAGGAGCTGGAACAGGTTGAACTGTTTATCCACCTCTTTCCTCTAGAATTGCTCATGCAGGAGCTTCTGTTGATTTAGCTATTTTTAGTTTACATCTAGCTGGTATTTCTTCAATTTTAGGAGCTGTAAATTTTATTACTACTGTAATTAATATACGACTAAGTTATATAACTTTAGATCGAATACCTCTATTTGTTTGATCTGTTGTTATTACAGCATTATTATTACTTTTATCATTACCTGTATTAGCAGGAGCTATTACTATATTATTAACTGATCGTAATTTAAACACTTCTTTTTTTGACCCTGCCGGTGGAGGAGACCCAATTTTATATCAACATTTATTTTGATTTTTTGGTCACCCTGAAGTTTAAGAT',\n",
       " 'UYII01000015.1': 'GACAGGTCAACAAATCATAAAGATATTGGGACTTTATATTTATTATTTGGCGGGTTTGCAGGTATGATAGGTACTGCCTTTAGTATGTTGATTAGATTAGAGTTATCGGCTCCAGGGTCAATGTTAGGGGATGACCATTTATATAATGTTATTGTAACAGCTCATGCGTTTGTTATGATTTTTTTTTTAGTTATGCCGGTAATGATTGGGGGATTTGGGAATTGGTTTGTGCCCTTATATATTGGTGCTCCGGATATGGCCTTTCCTCGATTAAATAATATAAGTTTTTGATTATTGCCGCCAGCTTTAAGTTTATTGTTGGCTTCTGCTTTTGTGGAACAAGGGGCAGGTACGGGATGGACGGTTTATCCTCCGTTATCGGGGATTCAGGCTCATTCTGGGGGTTCGGTAGATTTAGTAATTTTTAGTTTACATTTGGCAGGTATTTCTTCAATATTAGGTGCTATGAATTTTATTACTACAATAGTAAATATGAGGGGGCCAGGAATAACTATGGATAGAATGCCATTATTTGTTTGGTCTATATTAGTAACTGCTATATTATTATTATTGTCTTTACCGGTATTAGCTGGGGCGATTACGATGTTATTAACGGATAGAAATTTTAATACTGCTTTTTTTGATCCAGCGGGAGGGGGAGACCCTATTTTATATCAACATTTGTTTTGATTTTTTGGTCACCCTGAAGTTTATGTC',\n",
       " 'UYII01000025.1': 'GATTGGTCAACAAATCATAAAGATATTGGTACTTTATATTTCATTTTTGGGATTTGATCTGGATTAGTAGGTACAAGTTTAAGTTTATTAATTCGAGCTGAATTAGGTCAACCTGGTTCATTAATTGGTGATGATCAAATTTATAATGTTATTGTTACCGCACATGCTTTTATTATAATTTTTTTTATAGTTATACCTATTGTAATTGGAGGATTTGGAAACTGATTAGTTCCATTAATATTAGCAGCTCCAGATATAGCTTTTCCACGAATAAATAATATAAGTTTCTGAATATTACCCCCTTCATTAACTTTACTCCTAGCCTCATCTATAGTAGAAAGAGGAGCTGGAACAGGTTGAACTGTTTATCCTCCTCTTTCTTCTAGTATTGCTCATGCTGGAGCATCTGTAGATTTAGCTATCTTTAGATTACATTTAGCCGGGATCTCTTCGATTTTAGGGGCTGTAAATTTTATTACTACAGTAATTAATATACGATTAAGTTATATAACTTTAGATCGAATACCTTTATTTGTATGATCTGTAGTTATTACAGCTTTATTACTTTTATTATCATTACCTGTATTAGCAGGAGCTATTACTATATTATTAACAGATCGTAATTTAAATACTTCATTTTTTGATCCAGCTGGAGGAGGTGATCCTATTTTATACCAACACTTATTTTGATTTTTTGGTCACCCTGAAGTTTAAATC',\n",
       " 'UYII01000012.1': 'CCTAGGTCAACAAATCATAAAGATATTGGTACTTTGTATTTAATCTTCGGAGCAGGAGCTGGTTTAATTGGAACTGCTTTTAGTATGCTTATACGATTGGAGCTTTCTGCGCCGGGGGCGATGTTAGGAGATGATCATCTTTATAATGTAATTGTTACAGCACATGCTTTTATTATGATTTTTTTTTTGGTTATGCCGGTCATGATTGGGGGATTTGGTAATTGATTAGTCCCATTATATATTGGGGCGCCGGATATGGCGTTTCCTCGATTAAACAATATTAGTTTTTGACTTTTGCCTCCTGCGCTTTTTTTATTATTAGGCTCTGCTTTTATTGAACAAGGGGCGGGGACGGGGTGAACAGTTTATCCTCCTCTTTCTAGTATTCAAGCACACTCCGGAGGTTCTGTTGATATGGTTATTTTTAGTCTTCATTTAGCTGGGGTTTCTTCTATTTTAGGTGCTATTAACTTTATTACTACAATTTTTAATATGCGAGCCCCGGGTGTGTCTTTTAATAAACTACCTTTATTTGTTTGATCTATTTTAATAACAGCTTTTTTATTACTTTTATCTTTACCTGTTTTAGCTGGTGCTATTACTATGTTGTTAACAGATAGAAACTTTAATACGACTTTTTTCGATCCAGCGGGTGGCGGGGACCCAATATTATTTCAGCATTTATTTTGATTTTTTGGTCACCCTGAAGTTTATAGG',\n",
       " 'UYII01000023.1': 'ATCAGGTCAACAAATCATAAAGATATTGGAACTTTATATTTTATTTTTGGTATTTGATCAGGATTAGTAGGTACTAGTTTAAGATTACTAATTCGAGCTGAATTAGGTCAACCAGGTTCATTAATTGGGGATGATCAAATTTATAATGTAATTGTTACAGCTCATGCTTTTATTATAATTTTTTTTATAGTAATACCTATTGTAATTGGAGGATTTGGAAATTGATTAATTCCTTTAATACTGGCTGCTCCTGATATAGCTTTTCCTCGAATAAATAATATAAGATTTTGAATACTTCCTCCTTCTTTAACATTGCTCCTTGCCTCTTCTATAGTTGAAAGAGGAGCTGGAACAGGTTGAACTGTTTACCCTCCATTATCTTCTAGAATTGCTCATGCAGGTGCATCTGTTGATTTAGCTATTTTTAGATTACATTTAGCAGGAATTTCATCTATTTTAGGAGCTGTAAATTTTATTACTACTGTAATTAATATACGATTAAGTTATATAACATTAGATCGAATACCTTTATTTGTTTGATCAGTAGTTATTACAGCTCTATTATTATTATTATCTTTACCAGTATTAGCTGGAGCTATTACTATATTATTAACTGATCGTAATTTAAATACTTCTTTTTTTGATCCTGCTGGAGGAGGAGACCCTATCTTATATCAACATTTATTTTGATTTTTTGGTCACCCTGAAGTTTATGAT',\n",
       " 'UYII01000003.1': 'ACCTGGTCAACAAATCATAAAGATATTGGTACGTTATATTTAGTATTTGGGATTGGGGCAGGTATGCTCGGTACAGCTTTCAGTATGTTAATAAGATTAGAGCTCTCGGCTCCGGGGGCTATGTTAGGAGACGATCATCTTTATAATGTAATTGTTACAGCACACGCTTTTATTATGATCTTTTTTTTGGTTATGCCAGTGATGATAGGGGGATTTGGGAATTGGTTGGTTCCATTATATATTGGGGCACCTGATATGGCTTTCCCACGGCTTAATAACATTAGTTTTTGGCTGTTGCCCCCTGCTTTAATATTGTTATTAGGTTCTGCTTTTGTTGAACAAGGGGCGGGTACCGGATGAACGGTTTATCCTCCTCTATCTAGCATTCAGGCCCATTCTGGTGGGGCGGTGGATATGGCTATTTTTAGTCTCCATTTAGCTGGGGTGTCCTCGATTTTGGGTGCAATGAATTTTATAACAACTATATTTAATATGAGGGCCCCTGGGCTAACGTTGAATAGAATGCCCTTATTTGTGTGGTCTATCTTGATCACTGCTTTTTTATTATTATTGTCTTTGCCCGTATTAGCGGGGGCCATAACCATGCTTTTAACGGACAGAAACTTTAATACTACTTTCTTTGATCCTGCAGGGGGGGGAGATCCGATTTTATTTCAACATTTGTTTTGATTTTTTGGTCACCCTGAAGTTTAAGGT',\n",
       " 'UYII01000068.1': 'CGTAGGTCAACAAATCATAAAGATATTGGTACATTATATTTCCTATTTGGAATTTGAGCAGGACTTGTTGGAACAAGATTAAGTCTATTAATTCGAGCTGAATTAGGTCAACCAGGATCACTAATTGGTGATGACCAAATTTATAATGTAATTGTTACTGCTCATGCATTTATCATAATTTTCTTCATAGTTATACCAATTGTGATTGGAGGATTTGGTAATTGATTAGTTCCTCTAATACTTGCAGCACCTGACATAGCATTTCCACGAATAAATAATATAAGATTTTGATTACTTCCCCCTTCTTTAACCCTTTTATTGGCTTCTTCTATTGTTGAAAGAGGAGCTGGTACAGGATGAACTGTCTACCCCCCATTATCAGCAGGAATTGCCCATGCAGGAGCATCAGTAGACCTAGCCATTTTTAGTTTACACTTAGCAGGAGTATCCTCTATTCTAGGGGCAGTAAATTTTATTACAACCGTTATTAATATACGTTTATCATATATAACTTTAGACCGTATACCTTTATTCGTTTGATCAGTTGTTATTACAGCTATTTTACTATTATTATCACTACCCGTTTTAGCAGGAGCAATCACCATACTTTTAACTGATCGGAATTTAAATACCTCTTTTTTTGATCCAGCAGGAGGAGGAGATCCTATCTTGTACCAACACCTATTTTGATTTTTTGGTCACCCTGAAGTTTATACG',\n",
       " 'UYII01000013.1': 'CTGTGGTCAACAAATCATAAAGATATTGGAACTTTATATTTTATTCTTGGTGTATGATCTGGCCTTTTAGGAACCTCAATAAGGATCTTAATTCGAACAGAATTAGGTCAACCAGGATCCTTTTTAGGAAGAGATCAACTCTATAACACCATCGTTACAGCTCATGCATTCCTAATAATTTTTTTCCTCGTAATACCAATAATAATTGGAGGATTTGGAAACTGACTTATTCCATTAATGCTAGGAGCACCAGATATAGCATTCCCCCGAATAAATAATATAAGATTTTGACTTCTTCCTCCCTCATTAATCTTATTAGTAATAAGCGCGGCCGTAGAGAAAGGAGTCGGAACTGGTTGAACTGTGTATCCTCCTCTTGCCTCAAATATTGCACACTCAGGAACTTCAGTTGATCTTGCCATCTTTTCCCTCCATCTAGCAGGCGTATCATCCATTCTAGGGTCCGTAAATTTTATTACTACTATTATTAACATACGATCAAAACATATACGTCTTGAACGTGTCCCATTATTCGTTTGATCTCTAAAAGTTACTACTATTCTACTCCTTCTTTCCCTCCCTGTTTTAGCAGGAGCAATCACTATATTACTAACAGACCGAAACCTAAATACTTCCTTTTTTGACCCTGCCGGAGGTGGAGATCCTATTCTCTACCAACATTTATTCTGATTTTTTGGTCACCCTGAAGTTTAACAG',\n",
       " 'UYII01000002.1': 'ACAGGGTCAACAAATCATAAAGATATTGGTACGTTATATTTAGTATTTGGGATTGGGGCAGGTATGCTCGGTACAGCTTTCAGTATGTTAATAAGATTAGAGCTCTCGGCTCCGGGGGCTATGTTAGGAGACGATCATCTTTATAATGTAATTGTTACAGCACACGCTTTTATTATGATCTTTTTTTTGGTTATGCCAGTGATGATAGGGGGATTTGGGAATTGGTTGGTTCCATTATATATTGGGGCACCTGATATGGCTTTCCCACGGCTTAATAACATTAGTTTTTGGCTGTTGCCCCCTGCTTTAATATTGTTATTAGGTTCTGCTTTTGTTGAACAAGGGGCGGGTACCGGATGAACGGTTTATCCTCCTCTATCTAGCATTCAGGCCCATTCTGGTGGGGCGGTGGATATGGCTATTTTTAGTCTCCATTTAGCTGGGGTGTCCTCGATTTTGGGTGCAATGAATTTTATAACAACTATATTTAATATGAGGGCCCCTGGGCTAACGTTGAATAGAATGCCCTTATTTGTGTGGTCTATCTTGATCACTGCTTTTTTATTATTATTGTCTTTGCCCGTATTAGCGGGGGCCATAACCATGCTTTTAACGGACAGAAACTTTAATACTACTTTCTTTGATCCTGCAGGGGGGGGAGATCCGATTTTATTTCAACATTTGTTTTGATTTTTTGGTCACCCTGAAGTTTACTGT',\n",
       " 'UYII01000011.1': 'CCATGGTCAACAAATCATAAAGATATTGGTACTTTGTATTTAATCTTCGGAGCAGGAGCTGGTTTAATTGGAACTGCTTTTAGTATGCTTATACGATTGGAGCTTTCTGCGCCGGGGGCGATGTTAGGAGATGATCATCTTTATAATGTAATTGTTACAGCACATGCTTTTATTATGATTTTTTTTTTGGTTATGCCGGTCATGATTGGGGGATTTGGTAATTGATTAGTCCCATTATATATTGGGGCGCCGGATATGGCGTTTCCTCGATTAAACAATATTAGTTTTTGACTTTTGCCTCCTGCGCTTTTTTTATTATTAGGCTCTGCTTTTATTGAACAAGGGGCGGGGACGGGGTGAACAGTTTATCCTCCTCTTTCTAGTATTCAAGCACACTCCGGAGGTTCTGTTGATATGGTTATTTTTAGTCTTCATTTAGCTGGGGTTTCTTCTATTTTAGGTGCTATTAACTTTATTACTACAATTTTTAATATGCGAGCCCCGGGTGTGTCTTTTAATAAACTACCTTTATTTGTTTGATCTATTTTAATAACAGCTTTTTTATTACTTTTATCTTTACCTGTTTTAGCTGGTGCTATTACTATGTTGTTAACAGATAGAAACTTTAATACGACTTTTTTCGATCCAGCGGGTGGCGGGGACCCAATATTATTTCAGCATTTATTTTGATTTTTTGGTCACCCTGAAGTTTAATGG',\n",
       " 'UYII01000006.1': 'AGGTGGTCAACAAATCATAAAGATATTGGTAGTTTGTATCTAATTTTTGGTGGGGGTGCTGGTTTAATCGGGACGGCGTTTAGTATGCTTATACGACTCGAGCTTTCTGCGCCCGGAGCGATGTTAGGAGATGATCATCTTTATAATGTAATTGTTACAGCACATGCTTTTATTATGATTTTTTTTTTGGTTATGCCCGTTATGATTGGGGGGTTTGGTAATTGATTGGTCCCATTATATATTGGGGCGCCGGATATGGCGTTTCCCCGACTAAACAATATTAGTTTTTGACTTTTGCCCCCTGCGCTTTTTTTATTATTAGGCTCTGCTTTTATTGAACAAGGGGCGGGGACGGGGTGAACAGTTTATCCTCCTCTTGCTAGTATTCAAGCACACTCCGGAGGTTCGGTTGATATGGTTATTTTTAGTCTTCATTTAGCTGGGGTTTCTTCTATTTTAGGTGCTATAAACTTTATTACTACAATTTTAAATATGCGAGCCCCGGGTGTGTCTTTTAATAAACTACCTTTATTTGTTTGATCTATTTTAATAACAGCTTTTTTATTGCTTTTATCTTTACCTGTTTTAGCTGGTGCTATTACTATGTTGTTAACAGATAGAAACTTTAATACGACTTTTTTCGATCCAGCGGGTGGCGGGGACCCAATATTATTTCAGCATCTATTTTGATTTTTTGGTCACCCTGAAGTTTAACCT',\n",
       " 'UYII01000007.1': 'AGTGGGTCAACAAATCATAAAGATATTGGTACGTTATATTTAGTCTTTGGGATTGGGGCAGGCATGATTGGCACGGCCTTCAGTATGTTAATAAGATTAGAGCTCTCGGCTCCGGGGGCTATGCTAGGAGACGATCATCTTTATAATGTAATTGTTACGGCACATGCTTTTATTATGATTTTTTTTTTGGTTATGCCAGTGATGATAGGGGGGTTTGGAAATTGGTTGGTTCCACTATATATTGGTGCTCCCGACATGGCCTTCCCCCGGCTTAATAATATTAGTTTTTGGTTGTTGCCTCCTGCTCTAATATTATTATTAGGCTCCGCTTTTGTTGAACAAGGAGTTGGTACCGGGTGGACGGTGTATCCTCCTCTATCGAGCATCCAGGCTCACTCTGGGGGGGCGGTGGACATGGCTATTTTTAGCCTTCACTTAGCTGGGGTGTCTTCGATTTTGGGTGCAATGAATTTTATAACAACTATATTGAATATGCGGGCCCCTGGGATGACATTAAATAAAATGCCATTGTTTGTGTGGTCTATCTTGATTACTGCTTTTTTATTATTACTATCTTTGCCAGTACTAGCGGGGGCGATAACCATGCTTTTAACGGATAGAAATTTTAATACCACTTTTTTTGATCCCGCCGGAGGGGGAGACCCAATTTTATTTCAGCATTTGTTTTGATTTTTTGGTCACCCTGAAGTTTACACT',\n",
       " 'UYII01000067.1': 'CGATGGTCAACAAATCATAAAGATATTGGTACATTATATTTCCTATTTGGAATTTGAGCAGGACTTGTTGGAACAAGATTAAGTCTATTAATTCGAGCTGAATTAGGTCAACCAGGATCACTAATTGGTGATGACCAAATTTATAATGTAATTGTTACTGCTCATGCATTTATCATAATTTTCTTCATAGTTATACCAATTGTGATTGGAGGATTTGGTAATTGATTAGTTCCTCTAATACTTGCAGCACCTGACATAGCATTTCCACGAATAAATAATATAAGATTTTGATTACTTCCCCCTTCTTTAACCCTTTTATTGGCTTCTTCTATTGTTGAAAGAGGAGCTGGTACAGGATGAACTGTCTACCCCCCATTATCAGCAGGAATTGCCCATGCAGGAGCATCAGTAGACCTAGCCATTTTTAGTTTACACTTAGCAGGAGTATCCTCTATTCTAGGGGCAGTAAATTTTATTACAACCGTTATTAATATACGTTTATCATATATAACTTTAGACCGTATACCTTTATTCGTTTGATCAGTTGTTATTACAGCTATTTTACTATTATTATCACTACCCGTTTTAGCAGGAGCAATCACCATACTTTTAACTGATCGGAATTTAAATACCTCTTTTTTTGATCCAGCAGGAGGAGGAGATCCTATCTTGTACCAACACCTATTTTGATTTTTTGGTCACCCTGAAGTTTAATCG',\n",
       " 'UYII01000046.1': 'CTATGGTCAACAAATCATAAAGATATTGGTACATTATATTTTATTTTTGGTATTTGATCTGGATTAGTAGGTACCAGTTTAAGTTTATTAATTCGAGCTGAATTAGGTCAACCAGGTTCATTAATTGGTGATGATCAAATTTATAATGTAATTGTTACAGCTCATGCTTTTATTATAATTTTCTTTATAGTTATACCTATTGTAATTGGAGGATTTGGAAACTGATTAGTTCCTTTAATATTAGCAGCCCCTGATATAGCTTTCCCTCGAATAAATAATATAAGTTTTTGAATATTACCTCCTTCTTTAACACTACTCCTTGCTTCTTCTATAGTTGAAAGAGGAGCTGGTACAGGTTGAACTGTTTATCCACCCCTTTCTTCTAGAATTGCTCATGCAGGAGCTTCTGTTGATTTAGCTATTTTTAGTTTACATTTAGCTGGAATCTCATCAATTTTAGGAGCTGTAAATTTTATTACTACTGTAATTAATATACGTTTAAGTTATATAACTTTAGATCGAATACCTTTATTTGTTTGATCAGTTGTTATTACAGCATTACTTCTTCTATTATCTTTACCTGTATTAGCCGGAGCTATTACTATATTATTAACAGATCGTAATTTAAATACTTCTTTTTTTGATCCTGCGGGAGGAGGGGATCCAATTTTATATCAACATTTATTTTGATTTTTTGGTCACCCTGAAGTTTAATAG',\n",
       " 'UYII01000028.1': 'TAACGGTCAACAAATCATAAAGATATTGGTACTTTATATTTCATTTTTGGAATCTGATCAGGATTAGTAGGTACAAGTTTAAGTTTATTAATTCGAGCTGAATTAGGACAACCTGGTTCATTAATTGGTGATGATCAAATTTATAATGTTATTGTTACTGCACATGCTTTTATTATAATTTTTTTTATAGTTATACCTATTGTAATTGGAGGATTTGGAAATTGATTAGTTCCATTAATATTAGCAGCTCCAGATATAGCTTTCCCACGAATAAATAATATAAGTTTTTGAATATTACCCCCTTCATTAACTTTACTCCTAGCTTCCTCTATAGTAGAAAGAGGAGCTGGAACAGGTTGAACTGTATACCCTCCTCTTTCTTCTAGAATTGCTCATGCTGGAGCATCTGTAGATTTAGCTATTTTTAGATTACATTTAGCCGGAATTTCTTCGATTTTAGGAGCTGTAAATTTTATTACTACAGTAATTAATATACGATTAAGTTATATAACTTTAGATCGAATACCTTTATTTGTATGATCAGTAGTTATTACAGCTTTATTACTTTTATTATCATTACCTGTATTAGCAGGTGCTATTACTATATTATTAACTGATCGTAATCTAAATACATCATTTTTTGACCCAGCAGGAGGAGGTGACCCTATTTTATACCAACATCTATTTTGATTTTTTGGTCACCCTGAAGTTTAGTTA',\n",
       " 'UYII01000004.1': 'ACTCGGTCAACAAATCATAAAGATATTGGTAGTTTGTATCTAATTTTTGGTGGGGGTGCTGGTTTAATCGGGACGGCGTTTAGTATGCTTATACGACTCGAGCTTTCTGCGCCCGGAGCGATGTTAGGAGATGATCATCTTTATAATGTAATTGTTACAGCACATGCTTTTATTATGATTTTTTTTTTGGTTATGCCCGTTATGATTGGGGGGTTTGGTAATTGATTGGTCCCATTATATATTGGGGCGCCGGATATGGCGTTTCCCCGACTAAACAATATTAGTTTTTGACTTTTGCCCCCTGCGCTTTTTTTATTATTAGGCTCTGCTTTTATTGAACAAGGGGCGGGGACGGGGTGAACAGTTTATCCTCCTCTTGCTAGTATTCAAGCACACTCCGGAGGTTCGGTTGATATGGTTATTTTTAGTCTTCATTTAGCTGGGGTTTCTTCTATTTTAGGTGCTATAAACTTTATTACTACAATTTTAAATATGCGAGCCCCGGGTGTGTCTTTTAATAAACTACCTTTATTTGTTTGATCTATTTTAATAACAGCTTTTTTATTGCTTTTATCTTTACCTGTTTTAGCTGGTGCTATTACTATGTTGTTAACAGATAGAAACTTTAATACGACTTTTTTCGATCCAGCGGGTGGCGGGGACCCAATATTATTTCAGCATCTATTTTGATTTTTTGGTCACCCTGAAGTTTAGAGT',\n",
       " 'UYII01000029.1': 'TACAGGTCAACAAATCATAAAGATATTGGTACTTTATATTTCATTTTTGGAATTTGATCTGGTTTAGTAGGTACAAGATTAAGTTTATTAATTCGAGCTGAATTAGGACAACCAGGTTCATTAATTGGTGATGATCAAATTTATAATGTTATTGTTACTGCTCATGCTTTTATTATAATTTTTTTTATAGTAATACCAATTGTAATTGGAGGATTTGGTAATTGATTAGTTCCATTAATACTAGCAGCTCCTGATATAGCTTTTCCTCGAATAAATAATATAAGTTTTTGAATATTACCTCCTTCTTTAACTTTACTTTTAGCCTCATCGATAGTAGAAAGAGGAGCTGGTACAGGATGAACCGTGTACCCTCCTTTATCTTCTTCCATTGCTCATGCAGGAGCATCTGTAGATTTAGCTATCTTTAGATTACATTTAGCTGGTATTTCTTCTATTTTAGGGGCCGTAAATTTTATTACTACAGTAATTAATATACGATTAAATTATATAACATTAGATCGTATACCATTATTTGTATGGTCAGTAGTTATTACAGCTTTATTACTTTTATTATCTTTACCAGTATTAGCAGGAGCTATTACTATACTATTAACTGATCGTAATTTAAATACTTCTTTTTTCGATCCAGCAGGAGGAGGAGATCCTATTTTATATCAACATTTATTTTGATTTTTTGGTCACCCTGAAGTTTATGTA',\n",
       " 'UYII01000047.1': 'CTTAGGTCAACAAATCATAAAGATATTGGTACATTATATTTTATTTTTGGTATTTGATCTGGATTAGTAGGTACTAGTTTAAGTTTATTAATTCGAGCTGAATTAGGTCAACCAGGTTCATTAATTGGTGATGATCAAATTTATAATGTAATTGTTACAGCTCATGCCTTTATTATAATTTTTTTTATAGTTATACCAATTGTAATTGGGGGTTTTGGTAATTGATTAGTTCCTTTAATATTAGCGGCTCCTGATATAGCCTTTCCTCGAATAAATAATATAAGTTTTTGAATATTACCCCCTTCTTTAACATTACTTCTTGCTTCTTCTATAGTAGAAAGAGGAGCTGGAACAGGTTGAACTGTTTATCCACCTCTTTCCTCTAGAATTGCTCATGCAGGAGCTTCTGTTGATTTAGCTATTTTTAGTTTACATCTAGCTGGTATTTCTTCAATTTTAGGAGCTGTAAATTTTATTACTACTGTAATTAATATACGACTAAGTTATATAACTTTAGATCGAATACCTCTATTTGTTTGATCTGTTGTTATTACAGCATTATTATTACTTTTATCATTACCTGTATTAGCAGGAGCTATTACTATATTATTAACTGATCGTAATTTAAACACTTCTTTTTTTGACCCTGCCGGTGGAGGAGACCCAATTTTATATCAACATTTATTTTGATTTTTTGGTCACCCTGAAGTTTATAAG',\n",
       " 'UYII01000044.1': 'ATTCGGTCAACAAATCATAAAGATATTGGTACATTATATTTTATTTTTGGTATTTGATCTGGATTAGTAGGTACTAGTTTAAGTTTATTAATTCGAGCTGAATTAGGTCAACCAGGTTCATTAATTGGTGATGATCAAATTTATAATGTAATTGTTACAGCTCATGCCTTTATTATAATTTTTTTTATAGTTATACCAATTGTAATTGGGGGTTTTGGTAATTGATTAGTTCCTTTAATATTAGCGGCTCCTGATATAGCCTTTCCTCGAATAAATAATATAAGTTTTTGAATATTACCCCCTTCTTTAACATTACTTCTTGCTTCTTCTATAGTAGAAAGAGGAGCTGGAACAGGTTGAACTGTTTATCCACCTCTTTCCTCTAGAATTGCTCATGCAGGAGCTTCTGTTGATTTAGCTATTTTTAGTTTACATCTAGCTGGTATTTCTTCAATTTTAGGAGCTGTAAATTTTATTACTACTGTAATTAATATACGACTAAGTTATATAACTTTAGATCGAATACCTCTATTTGTTTGATCTGTTGTTATTACAGCATTATTATTACTTTTATCATTACCTGTATTAGCAGGAGCTATTACTATATTATTAACTGATCGTAATTTAAACACTTCTTTTTTTGACCCTGCCGGTGGAGGAGACCCAATTTTATATCAACATTTATTTTGATTTTTTGGTCACCCTGAAGTTTAGAAT',\n",
       " 'UYII01000010.1': 'CAGAGGTCAACAAATCATAAAGATATTGGTACTTTGTATTTAATCTTCGGAGCAGGAGCTGGTTTAATTGGAACTGCTTTTAGTATGCTTATACGATTGGAGCTTTCTGCGCCGGGGGCGATGTTAGGAGATGATCATCTTTATAATGTAATTGTTACAGCACATGCTTTTATTATGATTTTTTTTTTGGTTATGCCGGTCATGATTGGGGGATTTGGTAATTGATTAGTCCCATTATATATTGGGGCGCCGGATATGGCGTTTCCTCGATTAAACAATATTAGTTTTTGACTTTTGCCTCCTGCGCTTTTTTTATTATTAGGCTCTGCTTTTATTGAACAAGGGGCGGGGACGGGGTGAACAGTTTATCCTCCTCTTTCTAGTATTCAAGCACACTCCGGAGGTTCTGTTGATATGGTTATTTTTAGTCTTCATTTAGCTGGGGTTTCTTCTATTTTAGGTGCTATTAACTTTATTACTACAATTTTTAATATGCGAGCCCCGGGTGTGTCTTTTAATAAACTACCTTTATTTGTTTGATCTATTTTAATAACAGCTTTTTTATTACTTTTATCTTTACCTGTTTTAGCTGGTGCTATTACTATGTTGTTAACAGATAGAAACTTTAATACGACTTTTTTCGATCCAGCGGGTGGCGGGGACCCAATATTATTTCAGCATTTATTTTGATTTTTTGGTCACCCTGAAGTTTATCTG',\n",
       " 'UYII01000084.1': 'TTCCGGTCAACAAATCATAAAGATATTGGAACCTTATATTTTCTTTTTGGTGCTTGATCAGGTATGGTCGGTACATCTCTTAGTTTATTAATTCGTGCTGAATTAGGTCAACCTGGGTCATTAATTGGGGATGACCAAATTTATAATGTAATTGTAACAGCTCATGCATTTGTAATAATTTTTTTTATGGTAATACCAATTATAATTGGAGGATTTGGTAATTGACTTGTTCCTCTTATACTTGGAGCCCCTGATATAGCCTTCCCTCGAATAAATAATATAAGATTTTGATTATTACCACCTTCATTAACTTTACTCTTATCTAGCTCTTTTGTCGAAAGAGGTGCCGGGACCGGTTGAACCGTATACCCCCCACTAGCCTCAGGAATTGCCCATGCAGGAGCTTCCGTTGATTTAGCCATTTTTAGTTTACATCTTGCGGGGGTATCTTCAATTTTAGGTGCAGTCAATTTTATTACTACTGTTATTAATATACGATCCCCTGGTATAACATTTGATCGAATACCTCTTTTTGTATGATCAGTAGCAATTACTGCTCTTCTTCTTCTATTATCTTTACCAGTTTTAGCTGGAGCAATTACTATACTACTTACAGATCGAAATTTAAATACATCATTTTTTGATCCTGCAGGAGGAGGAGACCCAATTCTTTATCAACACTTATTTTGATTTTTTGGTCACCCTGAAGTTTAGGAA',\n",
       " 'UYII01000031.1': 'TCAAGGTCAACAAATCATAAAGATATTGGTACTTTATATTTCATTTTTGGAATCTGATCAGGATTAGTAGGTACAAGTTTAAGTTTATTAATTCGAGCTGAATTAGGACAACCTGGTTCATTAATTGGTGATGATCAAATTTATAATGTTATTGTTACTGCACATGCTTTTATTATAATTTTTTTTATAGTTATACCTATTGTAATTGGAGGATTTGGAAATTGATTAGTTCCATTAATATTAGCAGCTCCAGATATAGCTTTCCCACGAATAAATAATATAAGTTTTTGAATATTACCCCCTTCATTAACTTTACTCCTAGCTTCCTCTATAGTAGAAAGAGGAGCTGGAACAGGTTGAACTGTATACCCTCCTCTTTCTTCTAGAATTGCTCATGCTGGAGCATCTGTAGATTTAGCTATTTTTAGATTACATTTAGCCGGAATTTCTTCGATTTTAGGAGCTGTAAATTTTATTACTACAGTAATTAATATACGATTAAGTTATATAACTTTAGATCGAATACCTTTATTTGTATGATCAGTAGTTATTACAGCTTTATTACTTTTATTATCATTACCTGTATTAGCAGGTGCTATTACTATATTATTAACTGATCGTAATCTAAATACATCATTTTTTGACCCAGCAGGAGGAGGTGACCCTATTTTATACCAACATCTATTTTGATTTTTTGGTCACCCTGAAGTTTATTGA',\n",
       " 'UYII01000024.1': 'CAATGGTCAACAAATCATAAAGATATTGGTACTTTATATTTCATTTTTGGGATTTGATCAGGATTAGTAGGTACAAGTTTAAGTTTATTAATTCGAGCTGAATTAGGTCAACCTGGTTCATTAATTGGTGATGATCAAATTTATAATGTTATTGTTACTGCACATGCTTTTATTATAATTTTTTTTATAGTTATACCTATTGTAATTGGAGGATTTGGAAACTGATTAGTTCCATTAATATTAGCAGCTCCAGATATAGCTTTTCCACGAATAAATAATATAAGTTTCTGAATATTACCACCTTCATTAACTTTACTCCTAGCCTCATCTATAGTAGAAAGAGGAGCTGGAACAGGTTGAACTGTTTATCCTCCTCTTTCTTCTAGTATTGCTCATGCTGGAGCATCTGTAGATTTAGCTATTTTTAGATTACATTTAGCCGGGATCTCTTCGATTTTAGGAGCTGTAAATTTTATTACTACAGTAATTAATATACGATTAAGTTATATAACTTTAGATCGAATACCTTTATTTGTATGATCTGTAGTTATTACAGCTTTATTACTTTTATTATCATTACCTGTATTAGCAGGAGCTATTACTATATTATTAACAGATCGTAATTTAAATACTTCATTTTTTGATCCAGCTGGAGGAGGTGATCCTATTTTATATCAACATTTATTTTGATTTTTTGGTCACCCTGAAGTTTAATTG',\n",
       " 'UYII01000030.1': 'TATGGGTCAACAAATCATAAAGATATTGGTACTTTATATTTCATTTTTGGAATCTGATCAGGATTAGTAGGTACAAGTTTAAGTTTATTAATTCGAGCTGAATTAGGACAACCTGGTTCATTAATTGGTGATGATCAAATTTATAATGTTATTGTTACTGCACATGCTTTTATTATAATTTTTTTTATAGTTATACCTATTGTAATTGGAGGATTTGGAAATTGATTAGTTCCATTAATATTAGCAGCTCCAGATATAGCTTTCCCACGAATAAATAATATAAGTTTTTGAATATTACCCCCTTCATTAACTTTACTCCTAGCTTCCTCTATAGTAGAAAGAGGAGCTGGAACAGGTTGAACTGTATACCCTCCTCTTTCTTCTAGAATTGCTCATGCTGGAGCATCTGTAGATTTAGCTATTTTTAGATTACATTTAGCCGGAATTTCTTCGATTTTAGGAGCTGTAAATTTTATTACTACAGTAATTAATATACGATTAAGTTATATAACTTTAGATCGAATACCTTTATTTGTATGATCAGTAGTTATTACAGCTTTATTACTTTTATTATCATTACCTGTATTAGCAGGTGCTATTACTATATTATTAACTGATCGTAATCTAAATACATCATTTTTTGACCCAGCAGGAGGAGGTGACCCTATTTTATACCAACATCTATTTTGATTTTTTGGTCACCCTGAAGTTTACATA',\n",
       " 'UYII01000032.1': 'TGATGGTCAACAAATCATAAAGATATTGGTACTTTATATTTTATTTTCGGAATTTGATCTGGATTAGTAGGTACAAGATTAAGTTTATTAATTCGAGCTGAATTAGGTCAACCAGGTTCTTTAATTGGTGATGATCAAATTTATAATGTAATTGTTACAGCACATGCTTTTATTATAATTTTCTTTATAGTAATACCTATTGTAATTGGAGGTTTTGGTAATTGATTAGTTCCTTTAATACTAGCTGCTCCTGATATAGCTTTCCCACGAATAAATAATATAAGTTTCTGAATATTACCTCCTTCATTAACTTTATTACTTGCTTCTTCTATAGTAGAAAGAGGAGCTGGAACTGGTTGAACAGTTTACCCTCCTTTATCATCAAGAATTGCACATGCTGGAGCTTCTGTTGATTTAGCTATTTTTAGTTTACACCTTGCTGGTATTTCATCAATTTTAGGTGCAGTAAATTTTATTACAACAGTAATTAATATACGATTAAGTTATATAACATTAGATCGTATACCATTATTTGTATGATCAGTAGTAATTACAGCTTTATTATTATTACTTTCATTGCCTGTATTAGCTGGTGCTATTACTATATTATTAACTGACCGTAATTTAAATACTTCATTTTTTGACCCTGCAGGAGGAGGAGATCCAATTTTATATCAACATTTATTTTGATTTTTTGGTCACCCTGAAGTTTAATCA',\n",
       " 'UYII01000041.1': 'AGTAGGTCAACAAATCATAAAGATATTGGTACTTTATATTTTATTTTTGGGATTTGATCAGGATTAGTAGGTACAAGTTTAAGTTTACTAATTCGAGCAGAATTAGGTCAACCAGGTTCTTTAATTGGAGATGATCAAATTTATAATGTAATTGTTACAGCTCATGCTTTTATTATAATTTTTTTTATAGTTATACCAATTGTTATTGGAGGATTTGGAAATTGATTAGTTCCTTTAATATTAGCTGCTCCTGATATAGCTTTTCCACGAATAAATAATATAAGTTTTTGAATATTACCTCCTTCATTAACTTTATTACTAGCTTCTTCAATAGTAGAAAGAGGAGCTGGAACAGGATGAACTGTTTATCCACCCCTTTCTTCTAGAATTGCTCATGCAGGGGCATCTGTTGATTTAGCCATTTTTAGCTTACACTTAGCTGGTATTTCTTCAATTTTAGGAGCAGTAAATTTTATTACAACTGTAATTAATATACGATTAAATTATATAACATTAGATCGTATGCCATTATTTGTTTGATCAGTTGTTATTACAGCTTTATTACTTTTATTATCTTTACCAGTATTAGCAGGAGCTATTACTATATTATTAACTGATCGTAATTTAAATACATCTTTTTTTGATCCTGCAGGAGGAGGAGATCCAATTTTATACCAACATTTATTTTGATTTTTTGGTCACCCTGAAGTTTATACT',\n",
       " 'UYII01000045.1': 'CAAAGGTCAACAAATCATAAAGATATTGGTACATTATATTTTATTTTTGGTATTTGATCTGGATTAGTAGGTACCAGTTTAAGTTTATTAATTCGGGCTGAATTAGGTCAACCAGGTTCATTAATTGGTGATGATCAAATTTATAATGTAATTGTTACAGCTCATGCTTTTATTATAATTTTCTTTATAGTTATACCTATTGTAATTGGAGGATTTGGAAACTGATTAGTTCCTTTAATATTAGCAGCCCCTGATATAGCTTTCCCTCGAATAAATAATATAAGTTTTTGAATATTACCTCCTTCTTTAACACTACTCCTTGCTTCTTCTATAGTTGAAAGAGGAGCTGGTACAGGTTGAACTGTTTATCCACCCCTTTCTTCTAGAATTGCTCATGCAGGAGCTTCTGTTGATTTAGCTATTTTTAGTTTACATTTAGCTGGAATCTCATCAATTTTAGGAGCTGTAAATTTTATTACTACTGTAATTAATATACGTTTAAGTTATATAACTTTAGATCGAATGCCTTTATTTGTTTGATCAGTTGTTATTACAGCATTACTTCTTCTATTATCTTTACCTGTATTAGCCGGAGCTATTACTATATTATTAACAGATCGTAATTTAAATACTTCTTTTTTTGATCCTGCGGGAGGAGGAGATCCAATTTTATATCAACATTTATTTTGATTTTTTGGTCACCCTGAAGTTTATTTG',\n",
       " 'UYII01000034.1': 'TTAGGGTCAACAAATCATAAAGATATTGGTACTTTATATTTTATTTTTGGAATTTGATCAGGATTAGTAGGTACAAGTTTAAGTTTACTAATTCGAGCAGAATTAGGTCAACCAGGTTCTTTAATTGGAGATGATCAAATTTACAATGTAATTGTTACAGCTCATGCTTTTATTATAATTTTTTTTATAGTTATACCAATTGTTATTGGAGGATTTGGAAATTGATTGGTTCCTTTAATACTAGCTGCTCCTGATATAGCTTTTCCACGAATAAATAATATAAGTTTTTGAATATTACCTCCTTCATTAACTTTATTACTAGCTTCTTCAATAGTAGAAAGAGGAGCTGGAACAGGATGAACTGTTTATCCCCCACTTTCTGCTAGAATTGCTCATGCAGGAGCATCTGTTGATTTAGCCATTTTTAGTTTACATTTAGCTGGTATTTCGTCAATTTTAGGAGCAGTAAATTTTATTACAACTGTAATTAATATACGATTAAATTATATAACATTAGATCGTATACCTTTATTTGTTTGATCAGTAGTTATTACAGCTTTATTACTTTTATTATCTTTACCAGTATTAGCAGGAGCTATTACTATATTATTAACTGATCGTAATTTAAATACATCTTTTTTTGATCCTGCAGGAGGAGGAGACCCAATTTTATATCAACATTTATTTTGATTTTTTGGTCACCCTGAAGTTTACTAA',\n",
       " 'UYII01000035.1': 'TTCTGGTCAACAAATCATAAAGATATTGGTACTTTATATTTTATTTTTGGAATTTGATCAGGATTAGTAGGTACAAGTTTAAGTTTACTAATTCGAGCAGAATTAGGTCAACCAGGTTCTTTAATTGGAGATGATCAAATTTACAATGTAATTGTTACAGCTCATGCTTTTATTATAATTTTTTTTATAGTTATACCAATTGTTATTGGAGGATTTGGAAATTGATTGGTTCCTTTAATACTAGCTGCTCCTGATATAGCTTTTCCACGAATAAATAATATAAGTTTTTGAATATTACCTCCTTCATTAACTTTATTACTAGCTTCTTCAATAGTAGAAAGAGGAGCTGGAACAGGATGAACTGTTTATCCCCCACTTTCTGCTAGAATTGCTCATGCAGGAGCATCTGTTGATTTAGCCATTTTTAGTTTACATTTAGCTGGTATTTCGTCAATTTTAGGAGCAGTAAATTTTATTACAACTGTAATTAATATACGATTAAATTATATAACATTAGATCGTATACCTTTATTTGTTTGATCAGTAGTTATTACAGCTTTATTACTTTTATTATCTTTACCAGTATTAGCAGGAGCTATTACTATATTATTAACTGATCGTAATTTAAATACATCTTTTTTTGATCCTGCAGGAGGAGGAGACCCAATTTTATATCAACATTTATTTTGATTTTTTGGTCACCCTGAAGTTTAAGAA',\n",
       " 'UYII01000001.1': 'AAGCGGTCAACAAATCATAAAGATATTGGTACGTTATATTTAGTATTTGGGATTGGGGCAGGTATGCTCGGTACAGCTTTCAGTATGTTAATAAGATTAGAGCTCTCGGCTCCGGGGGCTATGTTAGGAGACGATCATCTTTATAATGTAATTGTTACAGCACACGCTTTTATTATGATCTTTTTTTTGGTTATGCCAGTGATGATAGGGGGATTTGGGAATTGGTTGGTTCCATTATATATTGGGGCACCTGATATGGCTTTCCCACGGCTTAATAACATTAGTTTTTGGCTGTTGCCCCCTGCTTTAATATTGTTATTAGGTTCTGCTTTTGTTGAACAAGGGGCGGGTACCGGATGAACGGTTTATCCTCCTCTATCTAGCATTCAGGCCCATTCTGGTGGGGCGGTGGATATGGCTATTTTTAGTCTCCATTTAGCTGGGGTGTCCTCGATTTTGGGTGCAATGAATTTTATAACAACTATATTTAATATGAGGGCCCCTGGGCTAACGTTGAATAGAATGCCCTTATTTGTGTGGTCTATCTTGATCACTGCTTTTTTATTATTATTGTCTTTGCCCGTATTAGCGGGGGCCATAACCATGCTTTTAACGGACAGAAACTTTAATACTACTTTCTTTGATCCTGCAGGGGGGGGAGATCCGATTTTATTTCAACATTTGTTTTGATTTTTTGGTCACCCTGAAGTTTAGCTT',\n",
       " 'UYII01000037.1': 'AACAGGTCAACAAATCATAAAGATATTGGTACTTTATATTTTATTTTTGGAATTTGATCAGGATTAGTAGGTACAAGTTTAAGTTTACTAATTCGAGCAGAATTAGGTCAACCAGGTTCTTTAATTGGAGATGATCAAATTTACAATGTAATTGTTACAGCTCATGCTTTTATTATAATTTTTTTTATAGTTATACCAATTGTTATTGGAGGATTTGGAAATTGATTGGTTCCTTTAATACTAGCTGCTCCTGATATAGCTTTTCCACGAATAAATAATATAAGTTTTTGAATATTACCTCCTTCATTAACTTTATTACTAGCTTCTTCAATAGTAGAAAGAGGAGCTGGAACAGGATGAACTGTTTATCCCCCACTTTCTGCTAGAATTGCTCATGCAGGAGCATCTGTTGATTTAGCCATTTTTAGTTTACATTTAGCTGGTATTTCGTCAATTTTAGGAGCAGTAAATTTTATTACAACTGTAATTAATATACGATTAAATTATATAACATTAGATCGTATACCTTTATTTGTTTGATCAGTAGTTATTACAGCTTTATTACTTTTATTATCTTTACCAGTATTAGCAGGAGCTATTACTATATTATTAACTGATCGTAATTTAAATACATCTTTTTTTGATCCTGCAGGAGGAGGAGACCCAATTTTATATCAACATTTATTTTGATTTTTTGGTCACCCTGAAGTTTATGTT',\n",
       " 'UYII01000020.1': 'GTGAGGTCAACAAATCATAAAGATATTGGTACTTTATATTTACTATTTGGTGCTTTTTCTGGGATGGCAGGGACAGCTTCAAGTATGTTAATACGGTTAGAGCTATCAGCTCCAGGTAGTATGTTAGGAGATGATCATCTATATAATGTCATTGTAACAGCACATGCTTTATTAATGATTTTCTTCATGGTAATGCCAATAATGATTGGAGGATTCGGAAATTGGTTTGTGCCAATAATGATTGGTGCGCCCGATATGGCCTTTCCTAGATTAAACAATATCAGTTTCTGGTTACTACCACCTTCTCTAATACTATTAGTTGGTTCTATGTTTGTAGAACAAGGAGCAGGTACAGGTTGGACTATTTATCCCCCACTATCAGGCATTCAAGCCCATTCAGGGGGAGCAGTAGATATGGCTATATTTAGTCTACATCTAGCTGGTGTATCCTCTATTTTAAGTTCTATAAACTTTATAACTACTATAATTAATATGAGGGTTCCTGGGATGAGTATGCATAGATTACCTCTATTCGTATGGTCTGTATTAATTACTACAATATTATTGTTGTTATCTTTACCAGTATTAGCTGGTGGAATTACAATGTTATTGACAGATAGAAATTTTAATACAACATTCTTTGACCCTGCGGGAGGAGGAGATCCTATTTTATTCCAGCACTTATTTTGATTTTTTGGTCACCCTGAAGTTTATCAC',\n",
       " 'UYII01000008.1': 'ATGGGGTCAACAAATCATAAAGATATTGGTACGTTATATTTAGTCTTTGGGATTGGGGCAGGCATGATTGGCACGGCCTTCAGTATGTTAATAAGATTAGAGCTCTCGGCTCCGGGGGCTATGCTAGGAGACGATCATCTTTATAATGTAATTGTTACGGCACATGCTTTTATTATGATTTTTTTTTTGGTTATGCCAGTGATGATAGGGGGGTTTGGAAATTGGTTGGTTCCACTATATATTGGTGCTCCCGACATGGCCTTCCCCCGGCTTAATAATATTAGTTTTTGGTTGTTGCCTCCTGCTCTAATATTATTATTAGGCTCCGCTTTTGTTGAACAAGGAGTTGGTACCGGGTGGACGGTGTATCCTCCTCTATCGAGCATCCAGGCTCACTCTGGGGGGGCGGTGGACATGGCTATTTTTAGCCTTCACTTAGCTGGGGTGTCTTCGATTTTGGGTGCAATGAATTTTATAACAACTATATTGAATATGCGGGCCCCTGGGATGACATTAAATAAAATGCCATTGTTTGTGTGGTCTATCTTGATTACTGCTTTTTTATTATTACTATCTTTGCCAGTACTAGCGGGGGCGATAACCATGCTTTTAACGGATAGAAATTTTAATACCACTTTTTTTGATCCCGCCGGAGGGGGAGACCCAATTTTATTTCAGCATTTGTTTTGATTTTTTGGTCACCCTGAAGTTTACCAT',\n",
       " 'UYII01000036.1': 'AAACGGTCAACAAATCATAAAGATATTGGTACTTTATATTTTATTTTTGGGATTTGATCAGGATTAGTAGGTACAAGTTTAAGTTTACTAATTCGAGCAGAATTAGGTCAACCAGGTTCTTTAATTGGAGATGATCAAATTTATAATGTAATTGTTACAGCTCATGCTTTTATTATAATTTTTTTTATAGTTATACCAATTGTTATTGGAGGATTTGGAAATTGATTAGTTCCTTTAATATTAGCTGCTCCTGATATAGCTTTTCCACGAATAAATAATATAAGTTTTTGAATATTACCTCCTTCATTAACTTTATTACTAGCTTCTTCAATAGTAGAAAGAGGAGCTGGAACAGGATGAACTGTTTATCCACCCCTTTCTTCTAGAATTGCTCATGCAGGGGCATCTGTTGATTTAGCCATTTTTAGCTTACACTTAGCTGGTATTTCTTCAATTTTAGGAGCAGTAAATTTTATTACAACTGTAATTAATATACGATTAAATTATATAACATTAGATCGTATGCCATTATTTGTTTGATCAGTTGTTATTACAGCTTTATTACTTTTATTATCTTTACCAGTATTAGCAGGAGCTATTACTATATTATTAACTGATCGTAATTTAAATACATCTTTTTTTGATCCTGCAGGAGGAGGAGATCCAATTTTATACCAACATTTATTTTGATTTTTTGGTCACCCTGAAGTTTAGTTT',\n",
       " 'UYII01000038.1': 'AATGGGTCAACAAATCATAAAGATATTGGTACTTTATATTTTATTTTTGGAATTTGATCAGGATTAGTAGGTACAAGTTTAAGTTTACTAATTCGAGCAGAATTAGGTCAACCAGGTTCTTTAATTGGAGATGATCAAATTTACAATGTAATTGTTACAGCTCATGCTTTTATTATAATTTTTTTTATAGTTATACCAATTGTTATTGGAGGATTTGGAAATTGATTGGTTCCTTTAATACTAGCTGCTCCTGATATAGCTTTTCCACGAATAAATAATATAAGTTTTTGAATATTACCTCCTTCATTAACTTTATTACTAGCTTCTTCAATAGTAGAAAGAGGAGCTGGAACAGGATGAACTGTTTATCCCCCACTTTCTGCTAGAATTGCTCATGCAGGAGCATCTGTTGATTTAGCCATTTTTAGTTTACATTTAGCTGGTATTTCGTCAATTTTAGGAGCAGTAAATTTTATTACAACTGTAATTAATATACGATTAAATTATATAACATTAGATCGTATACCTTTATTTGTTTGATCAGTAGTTATTACAGCTTTATTACTTTTATTATCTTTACCAGTATTAGCAGGAGCTATTACTATATTATTAACTGATCGTAATTTAAATACATCTTTTTTTGATCCTGCAGGAGGAGGAGACCCAATTTTATATCAACATTTATTTTGATTTTTTGGTCACCCTGAAGTTTACATT',\n",
       " 'UYII01000080.1': 'TCTCGGTCAACAAATCATAAAGATATTGGAACTTTATACTTTCTCTTTGGTGCTTGATCAGGAATAGTAGGTACATCTCTAAGTTTATTAATTCGTGCTGAATTAGGTCAACCCGGTTCATTAATTGGAGACGACCAAATTTATAATGTAATTGTAACTGCTCATGCTTTTGTAATAATTTTTTTTATAGTTATACCTATTATAATTGGTGGATTTGGAAACTGACTTGTTCCCTTAATACTAGGAGCCCCTGATATAGCCTTTCCTCGTATAAATAATATAAGATTTTGATTACTTCCCCCTTCTTTAACCCTTCTCTTATCGAGCTCTTTCGTTGAAAGAGGGGCTGGGACAGGTTGAACCGTTTACCCACCATTAGCCTCAGGAATTGCCCATGCAGGAGCTTCGGTTGATTTAGCCATTTTTAGCCTTCATCTCGCAGGTGTATCTTCTATTTTAGGGGCAGTCAATTTTATTACTACCGTAATTAACATACGATCCCCTGGAATAACATTTGATCGAATACCTTTATTTGTTTGATCAGTAGCTATTACTGCCCTTCTTCTTCTTTTATCCCTCCCAGTTTTAGCGGGAGCAATTACTATATTATTAACTGATCGAAATTTAAATACATCCTTCTTCGACCCTGCGGGTGGGGGAGATCCTATTCTCTATCAACATTTATTTTGATTTTTTGGTCACCCTGAAGTTTAGAGA',\n",
       " 'UYII01000059.1': 'AGTCGGTCAACAAATCATAAAGATATTGGAACATTATATTTTATTTTTGGTATTTGATCAGGATTAGTAGGTACAAGTTTAAGATTATTAATTCGTGCTGAGTTAGGTCAACCAGGATCTCTAATTGGAGATGATCAAATTTATAATGTAATTGTTACAGCTCATGCATTTATTATAATTTTTTTTATAGTAATACCAACTGTAATTGGAGGATTTGGTAATTGATTAGTTCCATTAATATTAGCAGCTCCTGATATAGCCTTTCCTCGAATAAATAATATAAGCTTTTGAATACTTCCACCATCATTAACTTTATTACTAGCATCTTCAATAGTAGAAAGAGGGGCTGGTACAGGTTGAACTGTTTACCCACCTTTATCATCTAGAATTGCTCATGCAGGAGCTTCTGTAGATTTAGCAATCTTTAGTTTACATTTAGCCGGAATTTCATCTATTTTAGGGGCTGTAAATTTTATTACAACAGTAATTAATATACGTTTAAATTATATAACATTAGATCGAATACCATTATTTGTTTGATCTGTAGTTATTACTGCTTTATTATTATTACTTTCTCTACCTGTATTAGCAGGGGCTATTACTATATTATTAACAGATCGTAATCTAAATACATCTTTTTTTGATCCTGCGGGAGGAGGTGACCCAATTTTATATCAACATTTATTTTGATTTTTTGGTCACCCTGAAGTTTAGACT',\n",
       " 'UYII01000040.1': 'AGATGGTCAACAAATCATAAAGATATTGGTACTTTATATTTTATTTTTGGAATTTGATCAGGATTAGTAGGTACAAGTTTAAGTTTACTAATTCGAGCAGAATTAGGTCAACCAGGTTCTTTAATTGGAGATGATCAAATTTACAATGTAATTGTTACAGCTCATGCTTTTATTATAATTTTTTTTATAGTTATACCAATTGTTATTGGAGGATTTGGAAATTGATTGGTTCCTTTAATACTAGCTGCTCCTGATATAGCTTTTCCACGAATAAATAATATAAGTTTTTGAATATTACCTCCTTCATTAACTTTATTACTAGCTTCTTCAATAGTAGAAAGAGGAGCTGGAACAGGATGAACTGTTTATCCCCCACTTTCTGCTAGAATTGCTCATGCAGGAGCATCTGTTGATTTAGCCATTTTTAGTTTACATTTAGCTGGTATTTCGTCAATTTTAGGAGCAGTAAATTTTATTACAACTGTAATTAATATACGATTAAATTATATAACATTAGATCGTATACCTTTATTTGTTTGATCAGTAGTTATTACAGCTTTATTACTTTTATTATCTTTACCAGTATTAGCAGGAGCTATTACTATATTATTAACTGATCGTAATTTAAATACATCTTTTTTTGATCCTGCAGGAGGAGGAGACCCAATTTTATATCAACATTTATTTTGATTTTTTGGTCACCCTGAAGTTTAATCT',\n",
       " 'UYII01000016.1': 'GATGGGTCAACAAATCATAAAGATATTGGTACTTTATATTTACTATTTGGTGCTTTTTCTGGAATGGCAGGGACAGCTTCGAGTATGTTAATACGGCTAGAACTGTCAGCTCCAGGTAGTATGATAGGGGATGATCATTTATATAATGTTATTGTAACATCACATGCTTTATTAATGATTTTTTTCCTAGTAATGCCAGTAATGATTGGAGGATTCGGAAATTGGTTTGTGCCAATTATGATTGGTGCACCCGATATGGCCTTTCCTAGATTAAACAATATTAGTTTCTGGTTATTACCGCCTTCTTTAATATTATTGGTCGGTTCTATGTTTGTGGAACAAGGGGCAGGAACAGGCTGGACCATTTATCCCCCATTGTCAAGCATTCAAGCCCATTCAGGGGGAGCAGTAGATATGGCTATATTTAGTCTACATCTAGCTGGGGTATCTTCCATTTTAAGTTCTATCAATTTTATAACTACTATAGTTAACATGAGGGTTCCTGGTATGAGTATGCATAGATTACCTCTATTCGTATGGTCTGTATTAATTACTACTATATTGTTATTATTATCTTTACCAGTGTTAGCGGGTGCAATTACAATGTTATTGACAGATAGAAATTTTAATACAACATTCTTTGATCCTGCGGGAGGAGGAGATCCTATTTTATTTCAGCATTTATTTTGATTTTTTGGTCACCCTGAAGTTTACATC',\n",
       " 'UYII01000042.1': 'ATAGGGTCAACAAATCATAAAGATATTGGTACTTTATATTTTATTTTTGGAATTTGATCAGGATTAGTAGGTACAAGTTTAAGTTTACTAATTCGAGCAGAATTAGGTCAACCAGGTTCTTTAATTGGAGATGATCAAATTTACAATGTAATTGTTACAGCTCATGCTTTTATTATAATTTTTTTTATAGTTATACCAATTGTTATTGGAGGATTTGGAAATTGATTGGTTCCTTTAATACTAGCTGCTCCTGATATAGCTTTTCCACGAATAAATAATATAAGTTTTTGAATATTACCTCCTTCATTAACTTTATTACTAGCTTCTTCAATAGTAGAAAGAGGAGCTGGGACAGGATGAACTGTTTATCCCCCACTTTCTGCTAGAATTGCTCATGCAGGAGCATCTGTTGATTTAGCCATTTTTAGTTTACATTTAGCTGGTATTTCGTCAATTTTAGGAGCAGTAAATTTTATTACAACTGTAATTAATATACGATTAAATTATATAACATTAGATCGTATACCTTTATTTGTTTGATCAGTAGTTATTACAGCTTTATTACTTTTATTATCTTTACCAGTATTAGCAGGAGCTATTACTATATTATTAACTGATCGTAATTTAAATACATCTTTTTTTGATCCTGCAGGAGGAGGAGACCCAATTTTATATCAACATTTATTTTGATTTTTTGGTCACCCTGAAGTTTACTAT'}"
      ]
     },
     "execution_count": 137,
     "metadata": {},
     "output_type": "execute_result"
    }
   ],
   "source": [
    "dict(fasta_dictionary)"
   ]
  },
  {
   "cell_type": "code",
   "execution_count": 138,
   "metadata": {},
   "outputs": [],
   "source": [
    "with open('new_fasta.fa','w') as f:\n",
    "    out_txt='\\n'.join(['>{}\\n{}'.format(seqname,fasta_dictionary[seqname]) for seqname in fasta_dictionary])\n",
    "    f.write(out_txt)\n",
    "        "
   ]
  },
  {
   "cell_type": "markdown",
   "metadata": {},
   "source": [
    "# Object Oriented Development"
   ]
  },
  {
   "cell_type": "code",
   "execution_count": 139,
   "metadata": {},
   "outputs": [],
   "source": [
    "class Fasta:\n",
    "    def __init__(self, fasta_file=''):\n",
    "        self.fasta=fasta_file\n",
    "        self.seqs=self.read_fasta(self.fasta)\n",
    "        self.seqnames=list(self.seqs.keys())\n",
    "        \n",
    "    def read_fasta(self, fasta):\n",
    "        with open(fasta,'r') as f:\n",
    "            genome_text=f.read().splitlines()\n",
    "        fasta_dictionary=defaultdict(lambda : '')\n",
    "        seqname=''\n",
    "        for line in genome_text:\n",
    "            if line.startswith('>'):\n",
    "                seqname=line.split()[0][1:]\n",
    "                continue\n",
    "            fasta_dictionary[seqname]+=line\n",
    "        return dict(fasta_dictionary)\n",
    "    \n",
    "    def print_seqs(self, seqnames=[]):\n",
    "        print(self.get_out_txt(seqnames))\n",
    "        \n",
    "    def print_seqnames(self):\n",
    "        print('\\n'.join(self.seqnames))\n",
    "        \n",
    "    def write_fasta(self, seqnames=[], output_fasta=''):\n",
    "        with open(output_fasta,'w') as f:\n",
    "            out_txt=self.get_out_txt(seqnames)\n",
    "            f.write(out_txt)\n",
    "            \n",
    "    def get_out_txt(self, seqnames=[]):\n",
    "        return '\\n'.join(['>{}\\n{}'.format(seqname,self.seqs[seqname]) for seqname in seqnames])"
   ]
  },
  {
   "cell_type": "code",
   "execution_count": 140,
   "metadata": {},
   "outputs": [],
   "source": [
    "fasta_obj=Fasta('new_fasta.fa')"
   ]
  },
  {
   "cell_type": "code",
   "execution_count": 141,
   "metadata": {},
   "outputs": [
    {
     "name": "stdout",
     "output_type": "stream",
     "text": [
      "UYII01000082.1\n",
      "UYII01000078.1\n",
      "UYII01000077.1\n",
      "UYII01000081.1\n",
      "UYII01000076.1\n",
      "UYII01000074.1\n",
      "UYII01000073.1\n",
      "UYII01000072.1\n",
      "UYII01000070.1\n",
      "UYII01000069.1\n",
      "UYII01000066.1\n",
      "UYII01000075.1\n",
      "UYII01000065.1\n",
      "UYII01000064.1\n",
      "UYII01000062.1\n",
      "UYII01000061.1\n",
      "UYII01000057.1\n",
      "UYII01000056.1\n",
      "UYII01000055.1\n",
      "UYII01000058.1\n",
      "UYII01000054.1\n",
      "UYII01000053.1\n",
      "UYII01000079.1\n",
      "UYII01000051.1\n",
      "UYII01000049.1\n",
      "UYII01000048.1\n",
      "UYII01000071.1\n",
      "UYII01000022.1\n",
      "UYII01000063.1\n",
      "UYII01000019.1\n",
      "UYII01000039.1\n",
      "UYII01000083.1\n",
      "UYII01000018.1\n",
      "UYII01000021.1\n",
      "UYII01000050.1\n",
      "UYII01000033.1\n",
      "UYII01000026.1\n",
      "UYII01000017.1\n",
      "UYII01000027.1\n",
      "UYII01000052.1\n",
      "UYII01000009.1\n",
      "UYII01000060.1\n",
      "UYII01000005.1\n",
      "UYII01000014.1\n",
      "UYII01000043.1\n",
      "UYII01000015.1\n",
      "UYII01000025.1\n",
      "UYII01000012.1\n",
      "UYII01000023.1\n",
      "UYII01000003.1\n",
      "UYII01000068.1\n",
      "UYII01000013.1\n",
      "UYII01000002.1\n",
      "UYII01000011.1\n",
      "UYII01000006.1\n",
      "UYII01000007.1\n",
      "UYII01000067.1\n",
      "UYII01000046.1\n",
      "UYII01000028.1\n",
      "UYII01000004.1\n",
      "UYII01000029.1\n",
      "UYII01000047.1\n",
      "UYII01000044.1\n",
      "UYII01000010.1\n",
      "UYII01000084.1\n",
      "UYII01000031.1\n",
      "UYII01000024.1\n",
      "UYII01000030.1\n",
      "UYII01000032.1\n",
      "UYII01000041.1\n",
      "UYII01000045.1\n",
      "UYII01000034.1\n",
      "UYII01000035.1\n",
      "UYII01000001.1\n",
      "UYII01000037.1\n",
      "UYII01000020.1\n",
      "UYII01000008.1\n",
      "UYII01000036.1\n",
      "UYII01000038.1\n",
      "UYII01000080.1\n",
      "UYII01000059.1\n",
      "UYII01000040.1\n",
      "UYII01000016.1\n",
      "UYII01000042.1\n"
     ]
    }
   ],
   "source": [
    "fasta_obj.print_seqnames()"
   ]
  },
  {
   "cell_type": "code",
   "execution_count": 142,
   "metadata": {},
   "outputs": [
    {
     "name": "stdout",
     "output_type": "stream",
     "text": [
      ">UYII01000059.1\n",
      "AGTCGGTCAACAAATCATAAAGATATTGGAACATTATATTTTATTTTTGGTATTTGATCAGGATTAGTAGGTACAAGTTTAAGATTATTAATTCGTGCTGAGTTAGGTCAACCAGGATCTCTAATTGGAGATGATCAAATTTATAATGTAATTGTTACAGCTCATGCATTTATTATAATTTTTTTTATAGTAATACCAACTGTAATTGGAGGATTTGGTAATTGATTAGTTCCATTAATATTAGCAGCTCCTGATATAGCCTTTCCTCGAATAAATAATATAAGCTTTTGAATACTTCCACCATCATTAACTTTATTACTAGCATCTTCAATAGTAGAAAGAGGGGCTGGTACAGGTTGAACTGTTTACCCACCTTTATCATCTAGAATTGCTCATGCAGGAGCTTCTGTAGATTTAGCAATCTTTAGTTTACATTTAGCCGGAATTTCATCTATTTTAGGGGCTGTAAATTTTATTACAACAGTAATTAATATACGTTTAAATTATATAACATTAGATCGAATACCATTATTTGTTTGATCTGTAGTTATTACTGCTTTATTATTATTACTTTCTCTACCTGTATTAGCAGGGGCTATTACTATATTATTAACAGATCGTAATCTAAATACATCTTTTTTTGATCCTGCGGGAGGAGGTGACCCAATTTTATATCAACATTTATTTTGATTTTTTGGTCACCCTGAAGTTTAGACT\n",
      ">UYII01000040.1\n",
      "AGATGGTCAACAAATCATAAAGATATTGGTACTTTATATTTTATTTTTGGAATTTGATCAGGATTAGTAGGTACAAGTTTAAGTTTACTAATTCGAGCAGAATTAGGTCAACCAGGTTCTTTAATTGGAGATGATCAAATTTACAATGTAATTGTTACAGCTCATGCTTTTATTATAATTTTTTTTATAGTTATACCAATTGTTATTGGAGGATTTGGAAATTGATTGGTTCCTTTAATACTAGCTGCTCCTGATATAGCTTTTCCACGAATAAATAATATAAGTTTTTGAATATTACCTCCTTCATTAACTTTATTACTAGCTTCTTCAATAGTAGAAAGAGGAGCTGGAACAGGATGAACTGTTTATCCCCCACTTTCTGCTAGAATTGCTCATGCAGGAGCATCTGTTGATTTAGCCATTTTTAGTTTACATTTAGCTGGTATTTCGTCAATTTTAGGAGCAGTAAATTTTATTACAACTGTAATTAATATACGATTAAATTATATAACATTAGATCGTATACCTTTATTTGTTTGATCAGTAGTTATTACAGCTTTATTACTTTTATTATCTTTACCAGTATTAGCAGGAGCTATTACTATATTATTAACTGATCGTAATTTAAATACATCTTTTTTTGATCCTGCAGGAGGAGGAGACCCAATTTTATATCAACATTTATTTTGATTTTTTGGTCACCCTGAAGTTTAATCT\n",
      ">UYII01000016.1\n",
      "GATGGGTCAACAAATCATAAAGATATTGGTACTTTATATTTACTATTTGGTGCTTTTTCTGGAATGGCAGGGACAGCTTCGAGTATGTTAATACGGCTAGAACTGTCAGCTCCAGGTAGTATGATAGGGGATGATCATTTATATAATGTTATTGTAACATCACATGCTTTATTAATGATTTTTTTCCTAGTAATGCCAGTAATGATTGGAGGATTCGGAAATTGGTTTGTGCCAATTATGATTGGTGCACCCGATATGGCCTTTCCTAGATTAAACAATATTAGTTTCTGGTTATTACCGCCTTCTTTAATATTATTGGTCGGTTCTATGTTTGTGGAACAAGGGGCAGGAACAGGCTGGACCATTTATCCCCCATTGTCAAGCATTCAAGCCCATTCAGGGGGAGCAGTAGATATGGCTATATTTAGTCTACATCTAGCTGGGGTATCTTCCATTTTAAGTTCTATCAATTTTATAACTACTATAGTTAACATGAGGGTTCCTGGTATGAGTATGCATAGATTACCTCTATTCGTATGGTCTGTATTAATTACTACTATATTGTTATTATTATCTTTACCAGTGTTAGCGGGTGCAATTACAATGTTATTGACAGATAGAAATTTTAATACAACATTCTTTGATCCTGCGGGAGGAGGAGATCCTATTTTATTTCAGCATTTATTTTGATTTTTTGGTCACCCTGAAGTTTACATC\n",
      ">UYII01000042.1\n",
      "ATAGGGTCAACAAATCATAAAGATATTGGTACTTTATATTTTATTTTTGGAATTTGATCAGGATTAGTAGGTACAAGTTTAAGTTTACTAATTCGAGCAGAATTAGGTCAACCAGGTTCTTTAATTGGAGATGATCAAATTTACAATGTAATTGTTACAGCTCATGCTTTTATTATAATTTTTTTTATAGTTATACCAATTGTTATTGGAGGATTTGGAAATTGATTGGTTCCTTTAATACTAGCTGCTCCTGATATAGCTTTTCCACGAATAAATAATATAAGTTTTTGAATATTACCTCCTTCATTAACTTTATTACTAGCTTCTTCAATAGTAGAAAGAGGAGCTGGGACAGGATGAACTGTTTATCCCCCACTTTCTGCTAGAATTGCTCATGCAGGAGCATCTGTTGATTTAGCCATTTTTAGTTTACATTTAGCTGGTATTTCGTCAATTTTAGGAGCAGTAAATTTTATTACAACTGTAATTAATATACGATTAAATTATATAACATTAGATCGTATACCTTTATTTGTTTGATCAGTAGTTATTACAGCTTTATTACTTTTATTATCTTTACCAGTATTAGCAGGAGCTATTACTATATTATTAACTGATCGTAATTTAAATACATCTTTTTTTGATCCTGCAGGAGGAGGAGACCCAATTTTATATCAACATTTATTTTGATTTTTTGGTCACCCTGAAGTTTACTAT\n"
     ]
    }
   ],
   "source": [
    "fasta_obj.print_seqs(['UYII01000059.1', 'UYII01000040.1', 'UYII01000016.1', 'UYII01000042.1'])"
   ]
  },
  {
   "cell_type": "code",
   "execution_count": null,
   "metadata": {},
   "outputs": [],
   "source": []
  },
  {
   "cell_type": "code",
   "execution_count": null,
   "metadata": {},
   "outputs": [],
   "source": []
  }
 ],
 "metadata": {
  "celltoolbar": "Slideshow",
  "kernelspec": {
   "display_name": "Python 3",
   "language": "python",
   "name": "python3"
  },
  "language_info": {
   "codemirror_mode": {
    "name": "ipython",
    "version": 3
   },
   "file_extension": ".py",
   "mimetype": "text/x-python",
   "name": "python",
   "nbconvert_exporter": "python",
   "pygments_lexer": "ipython3",
   "version": "3.6.10"
  }
 },
 "nbformat": 4,
 "nbformat_minor": 4
}
